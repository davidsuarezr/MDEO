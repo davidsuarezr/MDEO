{
 "cells": [
  {
   "cell_type": "markdown",
   "metadata": {},
   "source": [
    "## Read SPheno.sps.MDEO output"
   ]
  },
  {
   "cell_type": "code",
   "execution_count": 1,
   "metadata": {},
   "outputs": [],
   "source": [
    "import numpy as np\n",
    "import pandas as pd\n",
    "import subprocess\n",
    "import time\n",
    "\n",
    "%matplotlib inline\n",
    "import matplotlib.pyplot as plt "
   ]
  },
  {
   "cell_type": "markdown",
   "metadata": {},
   "source": [
    "Hermitian term:\n",
    "    \n",
    "$\\mathcal{L}_{\\text{mas}} = \\psi^{\\dagger} M \\psi$\n",
    "$\\to$\n",
    "$M_{\\text{diag}}=U^{-1}MU$\n",
    "\n",
    "No hermitian term:\n",
    " \n",
    "$\\mathcal{L}_{\\text{mas}} = \\psi_R^{\\dagger} M \\psi_L = \\psi_1^{\\dagger} M \\psi_2$\n",
    "$\\to$ $\\color{red}{M_{\\text{diag}}^2=V^{-1}MM^TV = U^{-1}M^TMU}$\n",
    "\n",
    "\n",
    "ie. the $V$ and $U$ matricess diagonalize the matrices $MM^T$ and $M^TM$ respectively\n",
    "\n",
    "such that: $\\Psi_1^i=V_{ij}\\psi_1^j$ and $\\Psi_2^i=U_{ij}\\psi_2^j$\n"
   ]
  },
  {
   "cell_type": "code",
   "execution_count": 2,
   "metadata": {},
   "outputs": [
    {
     "name": "stdout",
     "output_type": "stream",
     "text": [
      "1.0 0.0 0.0 1.0\n",
      "1.0 0.0 0.0 1.0\n"
     ]
    }
   ],
   "source": [
    "#ZL ad ZR matrices\n",
    "ZL11 = 1.0\n",
    "ZL12 = 0.0\n",
    "ZL21 = 0.0\n",
    "ZL22 = 1.0\n",
    "print(ZL11,ZL12,ZL21,ZL22)\n",
    "\n",
    "ZR11 = 1.0\n",
    "ZR12 = 0.0\n",
    "ZR21 = 0.0\n",
    "ZR22 = 1.0\n",
    "\n",
    "print(ZR11,ZR12,ZR21,ZR22)"
   ]
  },
  {
   "cell_type": "code",
   "execution_count": 3,
   "metadata": {},
   "outputs": [],
   "source": [
    "XL11=10**(np.random.uniform(np.log10(1.0e-3),np.log10(1.0)))\n",
    "XL12=10**(np.random.uniform(np.log10(1.0e-3),np.log10(1.0)))\n",
    "XL13=10**(np.random.uniform(np.log10(1.0e-3),np.log10(1.0)))\n",
    "XL21=10**(np.random.uniform(np.log10(1.0e-3),np.log10(1.0)))\n",
    "XL22=10**(np.random.uniform(np.log10(1.0e-3),np.log10(1.0)))\n",
    "XL23=10**(np.random.uniform(np.log10(1.0e-3),np.log10(1.0)))\n",
    "XL31=10**(np.random.uniform(np.log10(1.0e-3),np.log10(1.0)))\n",
    "XL32=10**(np.random.uniform(np.log10(1.0e-3),np.log10(1.0)))\n",
    "XL33=10**(np.random.uniform(np.log10(1.0e-3),np.log10(1.0)))"
   ]
  },
  {
   "cell_type": "code",
   "execution_count": 4,
   "metadata": {},
   "outputs": [],
   "source": [
    "XR11=10**(np.random.uniform(np.log10(1.0e-3),np.log10(1.0)))\n",
    "XR12=10**(np.random.uniform(np.log10(1.0e-3),np.log10(1.0)))\n",
    "XR13=10**(np.random.uniform(np.log10(1.0e-3),np.log10(1.0)))\n",
    "XR21=10**(np.random.uniform(np.log10(1.0e-3),np.log10(1.0)))\n",
    "XR22=10**(np.random.uniform(np.log10(1.0e-3),np.log10(1.0)))\n",
    "XR23=10**(np.random.uniform(np.log10(1.0e-3),np.log10(1.0)))\n",
    "XR31=10**(np.random.uniform(np.log10(1.0e-3),np.log10(1.0)))\n",
    "XR32=10**(np.random.uniform(np.log10(1.0e-3),np.log10(1.0)))\n",
    "XR33=10**(np.random.uniform(np.log10(1.0e-3),np.log10(1.0)))"
   ]
  },
  {
   "cell_type": "code",
   "execution_count": 5,
   "metadata": {},
   "outputs": [
    {
     "name": "stdout",
     "output_type": "stream",
     "text": [
      "0.0 0.025602998980339946 0.0841338965447033\n"
     ]
    }
   ],
   "source": [
    "mv1 = 0.0\n",
    "mv2 = 10**(np.random.uniform(np.log10(1.0e-3),np.log10(1.0)))\n",
    "mv3 = mv2+10**(np.random.uniform(np.log10(1.0e-3),np.log10(1.0)))\n",
    "print(mv1,mv2,mv3)"
   ]
  },
  {
   "cell_type": "code",
   "execution_count": 6,
   "metadata": {},
   "outputs": [
    {
     "name": "stdout",
     "output_type": "stream",
     "text": [
      "0.03292670997687794 0.4970453705438533 0.670063841098727 0.7320192568502707 0.006298199877508585 1.5218890937092096\n"
     ]
    }
   ],
   "source": [
    "#YNL and YNR matrices\n",
    "YnL11 = 10**(np.random.uniform(np.log10(1.0e-2),np.log10(1.0e-1)))\n",
    "YnL12 = 10**(np.random.uniform(np.log10(1.0e-1),np.log(1.0)))\n",
    "YnL13 = 10**(np.random.uniform(np.log10(1.0e-1),np.log10(1.0)))\n",
    "YnL21 = 10**(np.random.uniform(np.log10(1.0e-1),np.log10(1.0)))\n",
    "YnL22 = 10**(np.random.uniform(np.log10(1.0e-2),np.log(1.0e-1)))\n",
    "YnL23 = 10**(np.random.uniform(np.log10(1.0),np.log10(2.0)))\n",
    "\n",
    "print(YnL11,YnL12,YnL13,YnL21,YnL22,YnL23)"
   ]
  },
  {
   "cell_type": "markdown",
   "metadata": {},
   "source": [
    "### Neutrino matriz"
   ]
  },
  {
   "cell_type": "code",
   "execution_count": 7,
   "metadata": {},
   "outputs": [
    {
     "name": "stdout",
     "output_type": "stream",
     "text": [
      "0.20693534031275032 0.9507099663940987\n"
     ]
    }
   ],
   "source": [
    "fk1 = 10**(np.random.uniform(np.log10(1.0e-3),np.log10(1.0)))\n",
    "fk2 = 10**(np.random.uniform(np.log10(1.0e-3),np.log10(1.0)))\n",
    "print(fk1,fk2)"
   ]
  },
  {
   "cell_type": "code",
   "execution_count": 17,
   "metadata": {},
   "outputs": [
    {
     "name": "stdout",
     "output_type": "stream",
     "text": [
      "0.07824174572975376 -0.007378543895632904 0.0 -0.0010982922727467016 0.024699809454184266 0.0\n"
     ]
    }
   ],
   "source": [
    "YnR11=-(mv2*YnL23*XL12-mv3*YnL22*XL13)/(fk1*(YnL13*YnL22-YnL12*YnL23))\n",
    "YnR12=(mv2*YnL13*XL12-mv3*YnL12*XL13)/(fk2*(YnL13*YnL22-YnL12*YnL23))\n",
    "YnR13=0.0\n",
    "YnR21=-(mv2*YnL23*XL22-mv3*YnL22*XL23)/(fk1*(YnL13*YnL22-YnL12*YnL23))\n",
    "YnR22=(mv2*YnL13*XL22-mv3*YnL12*XL23)/(fk2*(YnL13*YnL22-YnL12*YnL23))\n",
    "YnR23=0.0\n",
    "print(YnR11,YnR12,YnR13,YnR21,YnR22,YnR23)"
   ]
  },
  {
   "cell_type": "code",
   "execution_count": 18,
   "metadata": {},
   "outputs": [],
   "source": [
    "#Element M11 modifications\n",
    "M11 = YnL11*YnR11*(ZR11*ZL11*fk1 + ZR12*ZL12*fk2) + YnL21*YnR21*(ZR21*ZL21*fk1 + ZR22*ZL22*fk2)\n",
    "M12 = YnL11*YnR12*(ZR11*ZL11*fk1 + ZR12*ZL12*fk2) + YnL21*YnR22*(ZR21*ZL21*fk1 + ZR22*ZL22*fk2)\n",
    "M13 = YnL11*YnR13*(ZR11*ZL11*fk1 + ZR12*ZL12*fk2) + YnL21*YnR23*(ZR21*ZL21*fk1 + ZR22*ZL22*fk2)\n",
    "\n",
    "M21 = YnL12*YnR11*(ZR11*ZL11*fk1 + ZR12*ZL12*fk2) + YnL22*YnR21*(ZR21*ZL21*fk1 + ZR22*ZL22*fk2)\n",
    "M22 = YnL12*YnR22*(ZR11*ZL11*fk1 + ZR12*ZL12*fk2) + YnL22*YnR22*(ZR21*ZL21*fk1 + ZR22*ZL22*fk2)\n",
    "M23 = YnL12*YnR23*(ZR11*ZL11*fk1 + ZR12*ZL12*fk2) + YnL22*YnR23*(ZR21*ZL21*fk1 + ZR22*ZL22*fk2)\n",
    "\n",
    "M31 = YnL13*YnR11*(ZR11*ZL11*fk1 + ZR12*ZL12*fk2) + YnL23*YnR21*(ZR21*ZL21*fk1 + ZR22*ZL22*fk2)\n",
    "M32 = YnL13*YnR22*(ZR11*ZL11*fk1 + ZR12*ZL12*fk2) + YnL23*YnR22*(ZR21*ZL21*fk1 +ZR22*ZL22*fk2)\n",
    "M33 = YnL13*YnR23*(ZR11*ZL11*fk1 + ZR12*ZL12*fk2) + YnL23*YnR23*(ZR21*ZL21*fk1 + ZR22*ZL22*fk2)"
   ]
  },
  {
   "cell_type": "code",
   "execution_count": 19,
   "metadata": {},
   "outputs": [],
   "source": [
    "Mvij = np.matrix( [[M11, M12,M13],\n",
    "           [M21, M22,M23],\n",
    "           [M31, M32,M33]] )\n",
    "\n",
    "#eigenvalues e eigenvectors\n",
    "(Mdiag2,V)=np.linalg.eig(Mvij*np.transpose(Mvij))"
   ]
  },
  {
   "cell_type": "code",
   "execution_count": 20,
   "metadata": {},
   "outputs": [],
   "source": [
    "MX1 = np.sqrt(np.abs(Mdiag2[0]))\n",
    "MX2 = np.sqrt(np.abs(Mdiag2[1]))\n",
    "MX3 = np.sqrt(np.abs(Mdiag2[2]))"
   ]
  },
  {
   "cell_type": "code",
   "execution_count": 21,
   "metadata": {},
   "outputs": [
    {
     "name": "stdout",
     "output_type": "stream",
     "text": [
      "4.16828333023791e-10 0.01656133644913594 0.08755718446402926\n"
     ]
    }
   ],
   "source": [
    "print(MX2*2.0,MX3*2.0,MX1*2.0)\n",
    "#print(V)"
   ]
  },
  {
   "cell_type": "code",
   "execution_count": 22,
   "metadata": {},
   "outputs": [
    {
     "name": "stdout",
     "output_type": "stream",
     "text": [
      "mv1 = 0.0 mv2 = 0.025602998980339946 mv3 = 0.0841338965447033\n"
     ]
    }
   ],
   "source": [
    "#Spheno Output\n",
    "print('mv1 =',mv1,'mv2 =',mv2,'mv3 =',mv3)"
   ]
  },
  {
   "cell_type": "code",
   "execution_count": null,
   "metadata": {},
   "outputs": [],
   "source": []
  }
 ],
 "metadata": {
  "kernelspec": {
   "display_name": "Python 3",
   "language": "python",
   "name": "python3"
  },
  "language_info": {
   "codemirror_mode": {
    "name": "ipython",
    "version": 3
   },
   "file_extension": ".py",
   "mimetype": "text/x-python",
   "name": "python",
   "nbconvert_exporter": "python",
   "pygments_lexer": "ipython3",
   "version": "3.11.2"
  }
 },
 "nbformat": 4,
 "nbformat_minor": 1
}
