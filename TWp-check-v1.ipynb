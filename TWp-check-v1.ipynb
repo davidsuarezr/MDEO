{
 "cells": [
  {
   "cell_type": "markdown",
   "metadata": {},
   "source": [
    "# MDEO model: DM scan with neutrino masses"
   ]
  },
  {
   "cell_type": "markdown",
   "metadata": {},
   "source": [
    "The idea is to do a firts DM random scan"
   ]
  },
  {
   "cell_type": "code",
   "execution_count": 1,
   "metadata": {},
   "outputs": [],
   "source": [
    "import numpy as np\n",
    "import pandas as pd\n",
    "import subprocess\n",
    "import time\n",
    "import sys\n",
    "\n",
    "%matplotlib inline\n",
    "import matplotlib.pyplot as plt "
   ]
  },
  {
   "cell_type": "code",
   "execution_count": 2,
   "metadata": {},
   "outputs": [],
   "source": [
    "import pyslha\n",
    "import pyMDEO_LesHouches_generator\n",
    "\n",
    "import neutrino_analytic\n",
    "import NEUTRINO2018"
   ]
  },
  {
   "cell_type": "code",
   "execution_count": 3,
   "metadata": {},
   "outputs": [
    {
     "data": {
      "image/png": "[encoded data removed]",
      "text/plain": [
       "<IPython.core.display.Image object>"
      ]
     },
     "execution_count": 3,
     "metadata": {
      "image/png": {
       "width": 300
      }
     },
     "output_type": "execute_result"
    }
   ],
   "source": [
    "from IPython.display import Image\n",
    "Image(\"/home/anferivera/Work/Documents_compartidos/MDEO/neutrino-diagram.png\", width=300)"
   ]
  },
  {
   "cell_type": "markdown",
   "metadata": {},
   "source": [
    "Run diccionary "
   ]
  },
  {
   "cell_type": "code",
   "execution_count": 27,
   "metadata": {},
   "outputs": [
    {
     "name": "stdout",
     "output_type": "stream",
     "text": [
      "The program spent 38.611985206604004 s running 10 times\n"
     ]
    }
   ],
   "source": [
    "# Tiempo inicial\n",
    "t1=time.time() \n",
    "\n",
    "x=[]\n",
    "\n",
    "Num = 10\n",
    "\n",
    "for i in range(0,Num):\n",
    "    \n",
    "    #Open the dicctionary\n",
    "    xdict = pyMDEO_LesHouches_generator.buildSLHAinFile()\n",
    "\n",
    "    #Random parameters\n",
    "    g1=3.55690247E-01\n",
    "    g1p = np.exp(np.random.uniform(np.log(10**(-3)),np.log(10**(0)))) #U1 coupling\n",
    "    epsilon = np.exp(np.random.uniform(np.log(10**(-6)),np.log(10**(-2)))) #U1 coupling\n",
    "    g1p1=-g1*epsilon/np.sqrt(1.0-epsilon**2.0)\n",
    "    MZp = np.exp(np.random.uniform(np.log(9.6e1),np.log(5.0e2)))\n",
    "    vX = MZp/(9.0*g1p)\n",
    "    VEV = 246.220569\n",
    "    theta = np.exp(np.random.uniform(np.log(1.0e-6),np.log(1.0e-3)))\n",
    "    gamma = 1.0/np.sqrt(1.0+np.tan(2.0*theta)**2.0)\n",
    "    \n",
    "    mh1=125.1\n",
    "    mh2= np.exp(np.random.uniform(np.log(1.0e3),np.log(5.0e3)))\n",
    "    Lam1=(0.5/VEV**2.0)*(mh1**2.0+mh2**2.0-gamma*(mh2**2.0-mh1**2.0))\n",
    "    \n",
    "    Lam2 = np.exp(np.random.uniform(np.log(10**(-4)),np.log(10**(0)))) #conj[Et].Et.conj[Et].Et\n",
    "    Lam3 = np.exp(np.random.uniform(np.log(10**(-4)),np.log(10**(0)))) #conj[H].H.conj[Et].Et\n",
    "    Lam4 = np.exp(np.random.uniform(np.log(10**(-4)),np.log(10**(0)))) #conj[H].Et.conj[Et].H\n",
    "    Lam5 = (0.5/vX**2.0)*(mh1**2.0+mh2**2.0+gamma*(mh2**2.0-mh1**2.0)) ##conj[bi].bi.conj[bi].bi\n",
    "    Lam6 = (0.5/(VEV*vX))*gamma*(mh2**2.0-mh1**2.0)*np.tan(2.0*theta) ##conj[bi].bi.conj[H].H\n",
    "    Lam7 = np.exp(np.random.uniform(np.log(10**(-4)),np.log(10**(0)))) #conj[bi].bi.conj[Et].Et\n",
    "    Lam8 = np.exp(np.random.uniform(np.log(10**(-4)),np.log(10**(0)))) ##conj[S].S.conj[S].S\n",
    "    Lam9 = np.exp(np.random.uniform(np.log(10**(-4)),np.log(10**(0)))) #conj[S].S.conj[H].H\n",
    "    Lam10 = np.exp(np.random.uniform(np.log(10**(-4)),np.log(10**(0)))) #conj[S].S.conj[bi].bi\n",
    "    Lam11 = np.exp(np.random.uniform(np.log(10**(-4)),np.log(10**(0)))) ##conj[S].S.conj[Et].Et\n",
    "    MS2 = np.exp(np.random.uniform(np.log(10**(6)),np.log(10**(8)))) #conj[S].S\n",
    "    Mn2 = np.exp(np.random.uniform(np.log(10**(6)),np.log(10**(8)))) #mEt2 conj[Et].Et\n",
    "    Yc = np.exp(np.random.uniform(np.log(10**(-4)),np.log(10**(0)))) # Yc bi.CL.CR\n",
    "    muC = np.exp(np.random.uniform(np.log(10**(2)),np.log(2.*10**(3)))) #muC conj[H].Et.conj[S]\n",
    "\n",
    "    xdict.blocks['MINPAR'].entries[1]='%.6E    # lambda1Input'%Lam1\n",
    "    xdict.blocks['MINPAR'].entries[2]='%.6E    # lambda2Input'%Lam2\n",
    "    xdict.blocks['MINPAR'].entries[3]='%.6E    # lambda3Input'%Lam3\n",
    "    xdict.blocks['MINPAR'].entries[4]='%.6E    # lambda4Input'%Lam4\n",
    "    xdict.blocks['MINPAR'].entries[5]='%.6E    # lambda5Input'%Lam5\n",
    "    xdict.blocks['MINPAR'].entries[6]='%.6E    # lambda6Input'%Lam6\n",
    "    xdict.blocks['MINPAR'].entries[7]='%.6E    # lambda7Input'%Lam7\n",
    "    xdict.blocks['MINPAR'].entries[8]='%.6E    # lambda8Input'%Lam8\n",
    "    xdict.blocks['MINPAR'].entries[9]='%.6E    # lambda9Input'%Lam9\n",
    "    xdict.blocks['MINPAR'].entries[10]='%.6E    # lambda10Input'%Lam10\n",
    "    xdict.blocks['MINPAR'].entries[11]='%.6E    # lambda11Input'%Lam11\n",
    "    xdict.blocks['MINPAR'].entries[20]='%.6E    # g1pINPUT'%g1p\n",
    "    xdict.blocks['MINPAR'].entries[21]='%.6E    # g1p1INPUT'%g1p1\n",
    "    xdict.blocks['MINPAR'].entries[23]='%.6E    # mEt2Input'%Mn2\n",
    "    xdict.blocks['MINPAR'].entries[24]='%.6E    # MS2Input'%MS2\n",
    "    xdict.blocks['MINPAR'].entries[30]='%.6E    # vXinput'%vX\n",
    "    xdict.blocks['MINPAR'].entries[31]='%.6E    # Ycinput'%Yc\n",
    "    xdict.blocks['MINPAR'].entries[32]='%.6E    # muCinput'%muC\n",
    "    \n",
    "    mc = Yc*vX/np.sqrt(2.)\n",
    "    \n",
    "    if mc < MZp:\n",
    "        continue\n",
    "    \n",
    "    MX1 = mc+np.exp(np.random.uniform(np.log(1.0),np.log(1.0e3)))\n",
    "    MX2 = MX1+np.exp(np.random.uniform(np.log(1.0),np.log(1.0e3)))\n",
    "    thetaf = np.exp(np.random.uniform(np.log(1.0e-3),np.log(2.0*np.pi)))\n",
    "    gammaf = 1.0/np.sqrt(1.0+np.tan(2.0*thetaf)**2.0)\n",
    "    YX11 = np.sqrt(2.0)/vX*0.5*(MX1+MX2-gammaf*(MX2-MX1)) #Yx bi.FxL.FxR\n",
    "    YX22 = np.sqrt(2.0)/vX*0.5*(MX1+MX2+gammaf*(MX2-MX1))\n",
    "    YX12 = np.sqrt(2.0)/vX*0.5*gammaf*(MX2-MX1)*np.tan(2.0*thetaf)\n",
    "    YX21 = YX12\n",
    "    \n",
    "    xdict.blocks['YXIN'].entries[1,1]='%.6E    # YX(1,1)'%YX11\n",
    "    xdict.blocks['YXIN'].entries[1,2]='%.6E    # YX(1,2)'%YX12\n",
    "    xdict.blocks['YXIN'].entries[2,1]='%.6E    # YX(2,1)'%YX21\n",
    "    xdict.blocks['YXIN'].entries[2,2]='%.6E    # YX(2,2)'%YX22\n",
    "\n",
    "    #Rotation matrices and Yukawas after inversion\n",
    "    FMa = neutrino_analytic.MATFermionXi(YX11,YX12,YX21,YX22,vX)\n",
    "    SMa = neutrino_analytic.MATSalarS0(Lam3,Lam4,Lam7,Lam9,Lam10,vX,VEV,muC,MS2,Mn2)\n",
    "    YUKS = neutrino_analytic.Yukawas(NEUTRINO2018.nuexpvalues(),FMa,SMa)\n",
    "\n",
    "    YnL11 = YUKS['YnL11']\n",
    "    YnL12 = YUKS['YnL12']\n",
    "    YnL13 = YUKS['YnL13']\n",
    "    YnL21 = YUKS['YnL21']\n",
    "    YnL22 = YUKS['YnL22']\n",
    "    YnL23 = YUKS['YnL23']\n",
    "    YnR11 = YUKS['YnR11']\n",
    "    YnR12 = YUKS['YnR12']\n",
    "    YnR13 = YUKS['YnR13']\n",
    "    YnR21 = YUKS['YnR21']\n",
    "    YnR22 = YUKS['YnR22']\n",
    "    YnR23 = YUKS['YnR23']\n",
    "\n",
    "    ZL11 = YUKS['ZL11']\n",
    "    ZL12 = YUKS['ZL12']\n",
    "    ZL21 = YUKS['ZL21']\n",
    "    ZL22 = YUKS['ZL22']\n",
    "    ZR11 = YUKS['ZR11']\n",
    "    ZR12 = YUKS['ZR12']\n",
    "    ZR21 = YUKS['ZR21']\n",
    "    ZR22 = YUKS['ZR22']\n",
    "    mXi_1 = YUKS['mXi_1']\n",
    "    mXi_2 = YUKS['mXi_2']\n",
    "\n",
    "    ZN11 = YUKS['ZN11']\n",
    "    ZN12 = YUKS['ZN12']\n",
    "    ZN21 = YUKS['ZN21']\n",
    "    ZN22 = YUKS['ZN22']\n",
    "    mns_1 = YUKS['mns_1']\n",
    "    mns_2 = YUKS['mns_2']\n",
    "\n",
    "    ##hdij->YnLij\n",
    "    xdict.blocks['YNLIN'].entries[1,1]='%.6E    # YnL(1,1)'%YnL11\n",
    "    xdict.blocks['YNLIN'].entries[1,2]='%.6E    # YnL(1,2)'%YnL12\n",
    "    xdict.blocks['YNLIN'].entries[1,3]='%.6E    # YnL(1,3)'%YnL13\n",
    "    xdict.blocks['YNLIN'].entries[2,1]='%.6E    # YnL(2,1)'%YnL21\n",
    "    xdict.blocks['YNLIN'].entries[2,2]='%.6E    # YnL(2,2)'%YnL22\n",
    "    xdict.blocks['YNLIN'].entries[2,3]='%.6E    # YnL(2,3)'%YnL23\n",
    "    ##heij->YnRij\n",
    "    xdict.blocks['YNRIN'].entries[1,1]='%.6E    # YnR(1,1)'%YnR11\n",
    "    xdict.blocks['YNRIN'].entries[1,2]='%.6E    # YnR(1,2)'%YnR12\n",
    "    xdict.blocks['YNRIN'].entries[1,3]='%.6E    # YnR(1,3)'%YnR13\n",
    "    xdict.blocks['YNRIN'].entries[2,1]='%.6E    # YnR(2,1)'%YnR21\n",
    "    xdict.blocks['YNRIN'].entries[2,2]='%.6E    # YnR(2,2)'%YnR22\n",
    "    xdict.blocks['YNRIN'].entries[2,3]='%.6E    # YnR(2,3)'%YnR23\n",
    "\n",
    "    #Write the Leshouches file\n",
    "    pyslha.writeSLHAFile('LesHouches.in.MDEO_low',xdict)\n",
    "    \n",
    "    #print('before SPHENO')\n",
    "    #run SPheno\n",
    "    #spheno = subprocess.getoutput('~/Downloads/Tesis/Automatic_Submodules_MDEO/SPHENO/bin/SPhenoMDEO LesHouches.in.MDEO_low')\n",
    "    spheno = subprocess.getoutput('../.././SPheno-4.0.5/bin/SPhenoMDEO LesHouches.in.MDEO_low')\n",
    "    so = subprocess.getoutput('cat SPheno.spc.MDEO')\n",
    "    \n",
    "    T = eval(so.split('Block SPhenoLowEnergy #')[1].split()[4])\n",
    "    S = eval(so.split('Block SPhenoLowEnergy #')[1].split()[10])\n",
    "    U = eval(so.split('Block SPhenoLowEnergy #')[1].split()[16])\n",
    "    g2mu = eval(so.split('Block SPhenoLowEnergy #')[1].split()[26])\n",
    "    \n",
    "    #print('before micromegas')    \n",
    "    #run micromegas.\n",
    "    #mo = subprocess.getoutput('~/Downloads/Tesis/Automatic_Submodules_MDEO/micromegas/MDEO/CalcOmega_with_DI_Detection') #with_direct_detection\n",
    "    mo = subprocess.getoutput('~/Work/micromegas_5.0.6/MDEO/./CalcOmega_with_DI_Detection')#with_direct_detection\n",
    "    \n",
    "    if len(mo.split()) == 2:\n",
    "        continue\n",
    "    \n",
    "    Omega1 = eval(mo.split('Omega_1h^2=')[1].split()[0])\n",
    "    Omega2 = eval(mo.split('Omega_2h^2=')[1].split()[0])\n",
    "    #print(\"i=\",i,\"Omega1=\",Omega1,\"Omega2=\",Omega2)\n",
    "    \n",
    "    if Omega1+Omega2 > 0.1236:\n",
    "        continue\n",
    "    \n",
    "    SIN1= eval(mo.split('CDM1-nucleon cross sections[pb]:')[1].split()[7])\n",
    "    SIN2= eval(mo.split('CDM2-nucleon cross sections[pb]:')[1].split()[7])\n",
    "    sv = eval(mo.split('CDM2-nucleon cross sections[pb]:')[1].split()[7])\n",
    "    \n",
    "    x.append([Lam1,Lam2,Lam3,Lam4,Lam5,Lam6,Lam7,Lam8,Lam9,Lam10,Lam11,MS2,Mn2,vX,Yc,VEV,muC,g1p,g1p1,epsilon,\\\n",
    "              ZL11,ZL12,ZL21,ZL22,ZR11,ZR12,ZR21,ZR22,\\\n",
    "          ZN11,ZN12,ZN21,ZN22,mXi_1,mXi_2,mns_1,mns_2,YnL11,YnL12,YnL13,YnL21,YnL22,YnL23,\\\n",
    "          YnR11,YnR12,YnR13,YnR21,YnR22,YnR23,Omega1,Omega2,SIN1,SIN2,sv,MZp,mh1,mh2,theta,thetaf,T,S,U,g2mu])\n",
    "\n",
    "x=np.asarray(x)\n",
    "\n",
    "xd=pd.DataFrame(x,columns=['Lam1','Lam2','Lam3','Lam4','Lam5','Lam6','Lam7','Lam8','Lam9','Lam10',\\\n",
    "                           'Lam11','MS2','Mn2','vX','Yc','VEV','muC','g1p','g1p1','epsilon',\\\n",
    "                           'ZL11','ZL12','ZL21','ZL22','ZR11','ZR12','ZR21','ZR22','ZN11','ZN12','ZN21',\\\n",
    "                           'ZN22','mXi_1','mXi_2','mns_1','mns_2','YnL11','YnL12','YnL13','YnL21','YnL22',\\\n",
    "                           'YnL23','YnR11','YnR12','YnR13','YnR21','YnR22','YnR23','Omega1','Omega2',\\\n",
    "                           'SIN1','SIN2','sv','MZp','mh1','mh2','theta','thetaf','T','S','U','g2mu'])\n",
    "\n",
    "\n",
    "t2=time.time() \n",
    "print (\"The program spent\", t2-t1, \"s running\",Num,\"times\")   "
   ]
  },
  {
   "cell_type": "code",
   "execution_count": 56,
   "metadata": {},
   "outputs": [
    {
     "data": {
      "text/html": [
       "<div>\n",
       "<style scoped>\n",
       "    .dataframe tbody tr th:only-of-type {\n",
       "        vertical-align: middle;\n",
       "    }\n",
       "\n",
       "    .dataframe tbody tr th {\n",
       "        vertical-align: top;\n",
       "    }\n",
       "\n",
       "    .dataframe thead th {\n",
       "        text-align: right;\n",
       "    }\n",
       "</style>\n",
       "<table border=\"1\" class=\"dataframe\">\n",
       "  <thead>\n",
       "    <tr style=\"text-align: right;\">\n",
       "      <th></th>\n",
       "      <th>MZp</th>\n",
       "      <th>mh1</th>\n",
       "      <th>mh2</th>\n",
       "      <th>theta</th>\n",
       "      <th>thetaf</th>\n",
       "      <th>mXi_1</th>\n",
       "      <th>mXi_2</th>\n",
       "      <th>T</th>\n",
       "      <th>S</th>\n",
       "      <th>U</th>\n",
       "      <th>g2mu</th>\n",
       "      <th>Omega1</th>\n",
       "      <th>Omega2</th>\n",
       "    </tr>\n",
       "  </thead>\n",
       "  <tbody>\n",
       "    <tr>\n",
       "      <th>0</th>\n",
       "      <td>203.263907</td>\n",
       "      <td>125.1</td>\n",
       "      <td>1659.950625</td>\n",
       "      <td>0.000507</td>\n",
       "      <td>0.053067</td>\n",
       "      <td>2004.551265</td>\n",
       "      <td>2260.377447</td>\n",
       "      <td>-5.483833e-07</td>\n",
       "      <td>-9.897778e-06</td>\n",
       "      <td>5.403280e-06</td>\n",
       "      <td>2.144096e-14</td>\n",
       "      <td>0.000005</td>\n",
       "      <td>1.360000e-12</td>\n",
       "    </tr>\n",
       "    <tr>\n",
       "      <th>1</th>\n",
       "      <td>316.929318</td>\n",
       "      <td>125.1</td>\n",
       "      <td>1014.244514</td>\n",
       "      <td>0.000596</td>\n",
       "      <td>0.112154</td>\n",
       "      <td>198.075197</td>\n",
       "      <td>207.113707</td>\n",
       "      <td>-8.248525e-08</td>\n",
       "      <td>3.118344e-07</td>\n",
       "      <td>1.985152e-06</td>\n",
       "      <td>2.160136e-14</td>\n",
       "      <td>0.005520</td>\n",
       "      <td>9.250000e-02</td>\n",
       "    </tr>\n",
       "    <tr>\n",
       "      <th>2</th>\n",
       "      <td>99.060466</td>\n",
       "      <td>125.1</td>\n",
       "      <td>3681.958625</td>\n",
       "      <td>0.000002</td>\n",
       "      <td>0.001285</td>\n",
       "      <td>64.129318</td>\n",
       "      <td>69.921852</td>\n",
       "      <td>-5.630604e-12</td>\n",
       "      <td>1.190702e-08</td>\n",
       "      <td>9.275460e-07</td>\n",
       "      <td>-1.457721e-13</td>\n",
       "      <td>0.000741</td>\n",
       "      <td>1.920000e-07</td>\n",
       "    </tr>\n",
       "  </tbody>\n",
       "</table>\n",
       "</div>"
      ],
      "text/plain": [
       "          MZp    mh1          mh2     theta    thetaf        mXi_1  \\\n",
       "0  203.263907  125.1  1659.950625  0.000507  0.053067  2004.551265   \n",
       "1  316.929318  125.1  1014.244514  0.000596  0.112154   198.075197   \n",
       "2   99.060466  125.1  3681.958625  0.000002  0.001285    64.129318   \n",
       "\n",
       "         mXi_2             T             S             U          g2mu  \\\n",
       "0  2260.377447 -5.483833e-07 -9.897778e-06  5.403280e-06  2.144096e-14   \n",
       "1   207.113707 -8.248525e-08  3.118344e-07  1.985152e-06  2.160136e-14   \n",
       "2    69.921852 -5.630604e-12  1.190702e-08  9.275460e-07 -1.457721e-13   \n",
       "\n",
       "     Omega1        Omega2  \n",
       "0  0.000005  1.360000e-12  \n",
       "1  0.005520  9.250000e-02  \n",
       "2  0.000741  1.920000e-07  "
      ]
     },
     "execution_count": 56,
     "metadata": {},
     "output_type": "execute_result"
    }
   ],
   "source": [
    "xd[['MZp','mh1','mh2','theta','thetaf','mXi_1','mXi_2','T','S','U','g2mu','Omega1','Omega2']][:3]"
   ]
  },
  {
   "cell_type": "markdown",
   "metadata": {},
   "source": [
    "Concat the new data to the DataFrame and save the file"
   ]
  },
  {
   "cell_type": "code",
   "execution_count": 23,
   "metadata": {},
   "outputs": [],
   "source": [
    "#xd.to_csv('general-scan.csv')"
   ]
  },
  {
   "cell_type": "code",
   "execution_count": 20,
   "metadata": {},
   "outputs": [],
   "source": [
    "#Read old file\n",
    "xd0 = pd.read_csv('general-scan.csv')\n",
    "del xd0['Unnamed: 0']"
   ]
  },
  {
   "cell_type": "code",
   "execution_count": 5,
   "metadata": {},
   "outputs": [
    {
     "ename": "NameError",
     "evalue": "name 'xd' is not defined",
     "output_type": "error",
     "traceback": [
      "\u001b[0;31m---------------------------------------------------------------------------\u001b[0m",
      "\u001b[0;31mNameError\u001b[0m                                 Traceback (most recent call last)",
      "Cell \u001b[0;32mIn [5], line 1\u001b[0m\n\u001b[0;32m----> 1\u001b[0m \u001b[38;5;28mprint\u001b[39m(xd0\u001b[38;5;241m.\u001b[39mshape, \u001b[43mxd\u001b[49m\u001b[38;5;241m.\u001b[39mshape)\n",
      "\u001b[0;31mNameError\u001b[0m: name 'xd' is not defined"
     ]
    }
   ],
   "source": [
    "print(xd0.shape, xd.shape)"
   ]
  },
  {
   "cell_type": "markdown",
   "metadata": {},
   "source": [
    "Run only one time. WARNING!"
   ]
  },
  {
   "cell_type": "code",
   "execution_count": 31,
   "metadata": {},
   "outputs": [],
   "source": [
    "#Concat and save new general scan\n",
    "xd = pd.concat([xd0,xd],ignore_index=True )\n",
    "xd = xd.reset_index()\n",
    "del[xd['index']]\n",
    "\n",
    "#xd.to_csv('general-scan.csv')"
   ]
  },
  {
   "cell_type": "code",
   "execution_count": 3,
   "metadata": {},
   "outputs": [],
   "source": [
    "#For good plots\n",
    "plt.rcParams.update({'font.size': 12}) \n",
    "#plt.rc('font',size='18')"
   ]
  },
  {
   "cell_type": "markdown",
   "metadata": {},
   "source": [
    "Read full file"
   ]
  },
  {
   "cell_type": "code",
   "execution_count": 4,
   "metadata": {},
   "outputs": [
    {
     "data": {
      "text/plain": [
       "(83, 63)"
      ]
     },
     "execution_count": 4,
     "metadata": {},
     "output_type": "execute_result"
    }
   ],
   "source": [
    "#Read full file\n",
    "xd = pd.read_csv('general-scan.csv')\n",
    "\n",
    "xd.shape"
   ]
  },
  {
   "cell_type": "code",
   "execution_count": null,
   "metadata": {},
   "outputs": [],
   "source": []
  },
  {
   "cell_type": "markdown",
   "metadata": {},
   "source": [
    "### TW and TWp"
   ]
  },
  {
   "cell_type": "code",
   "execution_count": 5,
   "metadata": {},
   "outputs": [],
   "source": [
    "#Theoretical values\n",
    "MW = 80.377\n",
    "MZ = 91.1876\n",
    "alpha = 1./137.036\n",
    "e = np.sqrt(4.*np.pi*alpha)\n",
    "\n",
    "twth = np.arccos(MW/MZ)\n",
    "swth2 = 1.-np.cos(twth)**2\n",
    "\n",
    "g1th = e/np.cos(twth)\n",
    "g2th = e/np.sin(twth)"
   ]
  },
  {
   "cell_type": "code",
   "execution_count": 6,
   "metadata": {},
   "outputs": [
    {
     "name": "stdout",
     "output_type": "stream",
     "text": [
      "0.4918798369788208 0.2230518910035465 28.182638686469396\n",
      "alpha= 0.0072973525205055605 e= 0.30282211985966434\n",
      "g1= 0.34355129373969084 g2= 0.6411868997571131\n"
     ]
    }
   ],
   "source": [
    "print(twth,swth2,(twth*180/np.pi))\n",
    "print('alpha=',alpha,'e=',e)\n",
    "print('g1=',g1th,'g2=',g2th)"
   ]
  },
  {
   "cell_type": "code",
   "execution_count": 7,
   "metadata": {},
   "outputs": [],
   "source": [
    "so = subprocess.getoutput('cat SPheno.spc.MDEO')"
   ]
  },
  {
   "cell_type": "code",
   "execution_count": 38,
   "metadata": {},
   "outputs": [],
   "source": []
  },
  {
   "cell_type": "code",
   "execution_count": 39,
   "metadata": {},
   "outputs": [],
   "source": [
    "#SARAH and SPheno\n",
    "g1 = eval(so.split('Block GAUGE Q=')[1].split()[5])\n",
    "g2 = eval(so.split('Block GAUGE Q=')[1].split()[13])\n",
    "gx=eval(so.split('# lambda11Input')[1].split()[1])\n",
    "g1p1=eval(so.split('# lambda11Input')[1].split()[5])\n",
    "g11p=eval(so.split('# lambda11Input')[1].split()[9])\n",
    "TWpSPheno = eval(so.split('Block ANGLES Q')[1].split()[6])\n",
    "\n",
    "cw = g2/np.sqrt(g1**2+g2**2)\n",
    "sw2 = 1. -cw**2\n",
    "\n",
    "x1 = eval(so.split('# MS2Input')[1].split()[1]) ## vXinput\n",
    "\n",
    "x2 = 0\n",
    "VEV=246.22\n",
    "\n"
   ]
  },
  {
   "cell_type": "code",
   "execution_count": 52,
   "metadata": {},
   "outputs": [
    {
     "name": "stdout",
     "output_type": "stream",
     "text": [
      "-0.5250257234305837\n"
     ]
    }
   ],
   "source": [
    "#Define values...\n",
    "xH=2\n",
    "xphi=1/2\n",
    "k=g1p1/gx\n",
    "\n",
    "gtilde = gx*xH\n",
    "g1p=gx*xphi\n",
    "\n",
    "gttilde=(gtilde-g1*k)/np.sqrt(1.-k**2)\n",
    "g1pp =g1p/np.sqrt(1.-k**2)\n",
    "\n",
    "print(k)\n",
    "\n",
    "TWp = np.arctan(2.*gttilde*np.sqrt(g2**2+g1**2)/(gttilde**2+16.*g1pp**2*(x1/VEV)**2 -g1**1-g2**2))/2."
   ]
  },
  {
   "cell_type": "code",
   "execution_count": 51,
   "metadata": {},
   "outputs": [
    {
     "name": "stdout",
     "output_type": "stream",
     "text": [
      "0.8811368831168188 sw2= 0.22359779321117756 TWptheory= -0.2361020492353256 TWSPheno= 0.489014192\n",
      "TWptheory= -0.2361020492353256\n",
      "TWSPheno= 0.489014192\n"
     ]
    }
   ],
   "source": [
    "print(cw,'sw2=',sw2,'TWptheory=',TWp,'TWSPheno=',TWpSPheno)\n",
    "print('TWptheory=',TWp)\n",
    "print('TWSPheno=',TWpSPheno)"
   ]
  },
  {
   "cell_type": "code",
   "execution_count": null,
   "metadata": {},
   "outputs": [],
   "source": []
  },
  {
   "cell_type": "code",
   "execution_count": null,
   "metadata": {},
   "outputs": [],
   "source": [
    "no working!"
   ]
  },
  {
   "cell_type": "markdown",
   "metadata": {},
   "source": [
    "# "
   ]
  }
 ],
 "metadata": {
  "kernelspec": {
   "display_name": "Python 3 (ipykernel)",
   "language": "python",
   "name": "python3"
  },
  "language_info": {
   "codemirror_mode": {
    "name": "ipython",
    "version": 3
   },
   "file_extension": ".py",
   "mimetype": "text/x-python",
   "name": "python",
   "nbconvert_exporter": "python",
   "pygments_lexer": "ipython3",
   "version": "3.11.2"
  }
 },
 "nbformat": 4,
 "nbformat_minor": 1
}
