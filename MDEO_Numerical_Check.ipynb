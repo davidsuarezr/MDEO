{
 "cells": [
  {
   "cell_type": "code",
   "execution_count": 1,
   "metadata": {},
   "outputs": [
    {
     "name": "stdout",
     "output_type": "stream",
     "text": [
      "%pylab is deprecated, use %matplotlib inline and import the required libraries.\n",
      "Populating the interactive namespace from numpy and matplotlib\n"
     ]
    }
   ],
   "source": [
    "%pylab inline"
   ]
  },
  {
   "cell_type": "code",
   "execution_count": 2,
   "metadata": {},
   "outputs": [],
   "source": [
    "import pandas as pd\n",
    "import numpy as np\n",
    "import os, sys, inspect"
   ]
  },
  {
   "cell_type": "code",
   "execution_count": 13,
   "metadata": {},
   "outputs": [],
   "source": [
    "class MDEO_Analytic:\n",
    "\n",
    "    def __init__(self, mZp, mX, gX):\n",
    "        self.mZp= mZp\n",
    "        self.mX=mX\n",
    "        self.gX=gX\n",
    "    \n",
    "    def cross_section(self):\n",
    "        conv= 1.0e-36*2.99792458e10*1.0/2.56819e-9\n",
    "        r=self.mZp/self.mX\n",
    "        cs =  conv*(self.gX**4.0*(1.0-r**2.0)**1.5*(3.2029e4*r**2.0+7.22e2))/(3.2e1*np.pi*self.mX**2.0*r**2.0*(r**2.0-2.0)**2.0)\n",
    "        return cs"
   ]
  },
  {
   "cell_type": "code",
   "execution_count": 14,
   "metadata": {},
   "outputs": [
    {
     "data": {
      "text/plain": [
       "7.750676295233536e-26"
      ]
     },
     "execution_count": 14,
     "metadata": {},
     "output_type": "execute_result"
    }
   ],
   "source": [
    "MDEO_Analytic(1.21429521e2, 1.99247548e2, 4.513816e-2).cross_section()"
   ]
  }
 ],
 "metadata": {
  "kernelspec": {
   "display_name": "Python 3",
   "language": "python",
   "name": "python3"
  },
  "language_info": {
   "codemirror_mode": {
    "name": "ipython",
    "version": 3
   },
   "file_extension": ".py",
   "mimetype": "text/x-python",
   "name": "python",
   "nbconvert_exporter": "python",
   "pygments_lexer": "ipython3",
   "version": "3.11.2"
  },
  "orig_nbformat": 4
 },
 "nbformat": 4,
 "nbformat_minor": 2
}
