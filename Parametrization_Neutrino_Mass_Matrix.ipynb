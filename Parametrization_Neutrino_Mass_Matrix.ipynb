{
 "cells": [
  {
   "cell_type": "markdown",
   "metadata": {},
   "source": [
    "## Read SPheno.sps.MDEO output"
   ]
  },
  {
   "cell_type": "code",
   "execution_count": 20,
   "metadata": {},
   "outputs": [],
   "source": [
    "import numpy as np\n",
    "import pandas as pd\n",
    "import subprocess\n",
    "import time\n",
    "\n",
    "%matplotlib inline\n",
    "import matplotlib.pyplot as plt "
   ]
  },
  {
   "cell_type": "markdown",
   "metadata": {},
   "source": [
    "Hermitian term:\n",
    "    \n",
    "$\\mathcal{L}_{\\text{mas}} = \\psi^{\\dagger} M \\psi$\n",
    "$\\to$\n",
    "$M_{\\text{diag}}=U^{-1}MU$\n",
    "\n",
    "No hermitian term:\n",
    " \n",
    "$\\mathcal{L}_{\\text{mas}} = \\psi_R^{\\dagger} M \\psi_L = \\psi_1^{\\dagger} M \\psi_2$\n",
    "$\\to$ $\\color{red}{M_{\\text{diag}}^2=V^{-1}MM^TV = U^{-1}M^TMU}$\n",
    "\n",
    "\n",
    "ie. the $V$ and $U$ matricess diagonalize the matrices $MM^T$ and $M^TM$ respectively\n",
    "\n",
    "such that: $\\Psi_1^i=V_{ij}\\psi_1^j$ and $\\Psi_2^i=U_{ij}\\psi_2^j$\n"
   ]
  },
  {
   "cell_type": "code",
   "execution_count": 21,
   "metadata": {},
   "outputs": [
    {
     "name": "stdout",
     "output_type": "stream",
     "text": [
      "1.0 0.0 0.0 1.0\n",
      "1.0 0.0 0.0 1.0\n"
     ]
    }
   ],
   "source": [
    "#ZL ad ZR matrices\n",
    "ZL11 = 1.0\n",
    "ZL12 = 0.0\n",
    "ZL21 = 0.0\n",
    "ZL22 = 1.0\n",
    "print(ZL11,ZL12,ZL21,ZL22)\n",
    "\n",
    "ZR11 = 1.0\n",
    "ZR12 = 0.0\n",
    "ZR21 = 0.0\n",
    "ZR22 = 1.0\n",
    "\n",
    "print(ZR11,ZR12,ZR21,ZR22)"
   ]
  },
  {
   "cell_type": "code",
   "execution_count": 22,
   "metadata": {},
   "outputs": [],
   "source": [
    "thscalar=10**(np.random.uniform(np.log10(1.0e-6),np.log(1.0e-3)))"
   ]
  },
  {
   "cell_type": "code",
   "execution_count": 23,
   "metadata": {},
   "outputs": [
    {
     "name": "stdout",
     "output_type": "stream",
     "text": [
      "0.9999999999999493 3.1868406645216225e-07 -3.1868406645216225e-07 0.9999999999999493\n"
     ]
    }
   ],
   "source": [
    "#ZN etR,ss ->ns mixing\n",
    "ZN11 = np.cos(thscalar)\n",
    "ZN12 = np.sin(thscalar)\n",
    "ZN21 =-np.sin(thscalar)\n",
    "ZN22 = np.cos(thscalar)\n",
    "\n",
    "print(ZN11,ZN12,ZN21,ZN22)"
   ]
  },
  {
   "cell_type": "code",
   "execution_count": 24,
   "metadata": {},
   "outputs": [],
   "source": [
    "XL11=0.82325816\n",
    "XL12=0.54794708\n",
    "XL13=0.14832397\n",
    "XL21=-0.46457132\n",
    "XL22=0.50018545\n",
    "XL23=0.73074483\n",
    "XL31=0.32622\n",
    "XL32=-0.6704987\n",
    "XL33=0.66634225"
   ]
  },
  {
   "cell_type": "code",
   "execution_count": 25,
   "metadata": {},
   "outputs": [],
   "source": [
    "XR11=1.0\n",
    "XR12=0.0\n",
    "XR13=0.0\n",
    "XR21=1.0\n",
    "XR22=0.0\n",
    "XR23=0.0\n",
    "XR31=0.0\n",
    "XR32=0.0\n",
    "XR33=1.0"
   ]
  },
  {
   "cell_type": "code",
   "execution_count": 26,
   "metadata": {},
   "outputs": [],
   "source": [
    "mv1 = 1.0e-30\n",
    "mv2 = np.sqrt(7.53*1.0e-5*1.0e-18)\n",
    "mv3 = np.sqrt(2.453*1.0e-3*1.0e-18)"
   ]
  },
  {
   "cell_type": "code",
   "execution_count": 27,
   "metadata": {},
   "outputs": [
    {
     "name": "stdout",
     "output_type": "stream",
     "text": [
      "0.057983048931548965 0.17868936914633315 0.4076234209313455 0.3252945712600129 0.0074892481122149105 1.4167872827628558\n"
     ]
    }
   ],
   "source": [
    "#YNL and YNR matrices\n",
    "YnL11 = 10**(np.random.uniform(np.log10(1.0e-2),np.log10(1.0e-1)))\n",
    "YnL12 = 10**(np.random.uniform(np.log10(1.0e-1),np.log(1.0)))\n",
    "YnL13 = 10**(np.random.uniform(np.log10(1.0e-1),np.log10(1.0)))\n",
    "YnL21 = 10**(np.random.uniform(np.log10(1.0e-1),np.log10(1.0)))\n",
    "YnL22 = 10**(np.random.uniform(np.log10(1.0e-2),np.log(1.0e-1)))\n",
    "YnL23 = 10**(np.random.uniform(np.log10(1.0),np.log10(2.0)))\n",
    "\n",
    "print(YnL11,YnL12,YnL13,YnL21,YnL22,YnL23)"
   ]
  },
  {
   "cell_type": "code",
   "execution_count": 28,
   "metadata": {},
   "outputs": [
    {
     "name": "stdout",
     "output_type": "stream",
     "text": [
      "1e-30 8.677557259966655e-12 4.952776998815917e-11 10000.0 11000.1 20000.0 20000.01\n"
     ]
    }
   ],
   "source": [
    "#Masses\n",
    "mXi_1 = 1.0e4\n",
    "mXi_2 = 1.10001e4\n",
    "mns_1 = 2.0e4\n",
    "mns_2 = 2.000001e4\n",
    "\n",
    "print(mv1,mv2,mv3,mXi_1,mXi_2,mns_1,mns_2)"
   ]
  },
  {
   "cell_type": "markdown",
   "metadata": {},
   "source": [
    "### Neutrino matriz"
   ]
  },
  {
   "cell_type": "code",
   "execution_count": 10,
   "metadata": {},
   "outputs": [
    {
     "ename": "FileNotFoundError",
     "evalue": "No such file or directory: '/home/anferivera/Work/Documents_compartidos/MDEO/neutrino-diagram.png'",
     "output_type": "error",
     "traceback": [
      "\u001b[0;31m---------------------------------------------------------------------------\u001b[0m",
      "\u001b[0;31mTypeError\u001b[0m                                 Traceback (most recent call last)",
      "File \u001b[0;32m/usr/lib/python3/dist-packages/IPython/core/display.py:1032\u001b[0m, in \u001b[0;36mImage._data_and_metadata\u001b[0;34m(self, always_both)\u001b[0m\n\u001b[1;32m   1031\u001b[0m \u001b[39mtry\u001b[39;00m:\n\u001b[0;32m-> 1032\u001b[0m     b64_data \u001b[39m=\u001b[39m b2a_base64(\u001b[39mself\u001b[39;49m\u001b[39m.\u001b[39;49mdata)\u001b[39m.\u001b[39mdecode(\u001b[39m'\u001b[39m\u001b[39mascii\u001b[39m\u001b[39m'\u001b[39m)\n\u001b[1;32m   1033\u001b[0m \u001b[39mexcept\u001b[39;00m \u001b[39mTypeError\u001b[39;00m \u001b[39mas\u001b[39;00m e:\n",
      "\u001b[0;31mTypeError\u001b[0m: a bytes-like object is required, not 'str'",
      "\nThe above exception was the direct cause of the following exception:\n",
      "\u001b[0;31mFileNotFoundError\u001b[0m                         Traceback (most recent call last)",
      "File \u001b[0;32m/usr/lib/python3/dist-packages/IPython/core/formatters.py:973\u001b[0m, in \u001b[0;36mMimeBundleFormatter.__call__\u001b[0;34m(self, obj, include, exclude)\u001b[0m\n\u001b[1;32m    970\u001b[0m     method \u001b[39m=\u001b[39m get_real_method(obj, \u001b[39mself\u001b[39m\u001b[39m.\u001b[39mprint_method)\n\u001b[1;32m    972\u001b[0m     \u001b[39mif\u001b[39;00m method \u001b[39mis\u001b[39;00m \u001b[39mnot\u001b[39;00m \u001b[39mNone\u001b[39;00m:\n\u001b[0;32m--> 973\u001b[0m         \u001b[39mreturn\u001b[39;00m method(include\u001b[39m=\u001b[39;49minclude, exclude\u001b[39m=\u001b[39;49mexclude)\n\u001b[1;32m    974\u001b[0m     \u001b[39mreturn\u001b[39;00m \u001b[39mNone\u001b[39;00m\n\u001b[1;32m    975\u001b[0m \u001b[39melse\u001b[39;00m:\n",
      "File \u001b[0;32m/usr/lib/python3/dist-packages/IPython/core/display.py:1022\u001b[0m, in \u001b[0;36mImage._repr_mimebundle_\u001b[0;34m(self, include, exclude)\u001b[0m\n\u001b[1;32m   1020\u001b[0m \u001b[39mif\u001b[39;00m \u001b[39mself\u001b[39m\u001b[39m.\u001b[39membed:\n\u001b[1;32m   1021\u001b[0m     mimetype \u001b[39m=\u001b[39m \u001b[39mself\u001b[39m\u001b[39m.\u001b[39m_mimetype\n\u001b[0;32m-> 1022\u001b[0m     data, metadata \u001b[39m=\u001b[39m \u001b[39mself\u001b[39;49m\u001b[39m.\u001b[39;49m_data_and_metadata(always_both\u001b[39m=\u001b[39;49m\u001b[39mTrue\u001b[39;49;00m)\n\u001b[1;32m   1023\u001b[0m     \u001b[39mif\u001b[39;00m metadata:\n\u001b[1;32m   1024\u001b[0m         metadata \u001b[39m=\u001b[39m {mimetype: metadata}\n",
      "File \u001b[0;32m/usr/lib/python3/dist-packages/IPython/core/display.py:1034\u001b[0m, in \u001b[0;36mImage._data_and_metadata\u001b[0;34m(self, always_both)\u001b[0m\n\u001b[1;32m   1032\u001b[0m     b64_data \u001b[39m=\u001b[39m b2a_base64(\u001b[39mself\u001b[39m\u001b[39m.\u001b[39mdata)\u001b[39m.\u001b[39mdecode(\u001b[39m'\u001b[39m\u001b[39mascii\u001b[39m\u001b[39m'\u001b[39m)\n\u001b[1;32m   1033\u001b[0m \u001b[39mexcept\u001b[39;00m \u001b[39mTypeError\u001b[39;00m \u001b[39mas\u001b[39;00m e:\n\u001b[0;32m-> 1034\u001b[0m     \u001b[39mraise\u001b[39;00m \u001b[39mFileNotFoundError\u001b[39;00m(\n\u001b[1;32m   1035\u001b[0m         \u001b[39m\"\u001b[39m\u001b[39mNo such file or directory: \u001b[39m\u001b[39m'\u001b[39m\u001b[39m%s\u001b[39;00m\u001b[39m'\u001b[39m\u001b[39m\"\u001b[39m \u001b[39m%\u001b[39m (\u001b[39mself\u001b[39m\u001b[39m.\u001b[39mdata)) \u001b[39mfrom\u001b[39;00m \u001b[39me\u001b[39;00m\n\u001b[1;32m   1036\u001b[0m md \u001b[39m=\u001b[39m {}\n\u001b[1;32m   1037\u001b[0m \u001b[39mif\u001b[39;00m \u001b[39mself\u001b[39m\u001b[39m.\u001b[39mmetadata:\n",
      "\u001b[0;31mFileNotFoundError\u001b[0m: No such file or directory: '/home/anferivera/Work/Documents_compartidos/MDEO/neutrino-diagram.png'"
     ]
    },
    {
     "ename": "FileNotFoundError",
     "evalue": "No such file or directory: '/home/anferivera/Work/Documents_compartidos/MDEO/neutrino-diagram.png'",
     "output_type": "error",
     "traceback": [
      "\u001b[0;31m---------------------------------------------------------------------------\u001b[0m",
      "\u001b[0;31mTypeError\u001b[0m                                 Traceback (most recent call last)",
      "File \u001b[0;32m/usr/lib/python3/dist-packages/IPython/core/display.py:1032\u001b[0m, in \u001b[0;36mImage._data_and_metadata\u001b[0;34m(self, always_both)\u001b[0m\n\u001b[1;32m   1031\u001b[0m \u001b[39mtry\u001b[39;00m:\n\u001b[0;32m-> 1032\u001b[0m     b64_data \u001b[39m=\u001b[39m b2a_base64(\u001b[39mself\u001b[39;49m\u001b[39m.\u001b[39;49mdata)\u001b[39m.\u001b[39mdecode(\u001b[39m'\u001b[39m\u001b[39mascii\u001b[39m\u001b[39m'\u001b[39m)\n\u001b[1;32m   1033\u001b[0m \u001b[39mexcept\u001b[39;00m \u001b[39mTypeError\u001b[39;00m \u001b[39mas\u001b[39;00m e:\n",
      "\u001b[0;31mTypeError\u001b[0m: a bytes-like object is required, not 'str'",
      "\nThe above exception was the direct cause of the following exception:\n",
      "\u001b[0;31mFileNotFoundError\u001b[0m                         Traceback (most recent call last)",
      "File \u001b[0;32m/usr/lib/python3/dist-packages/IPython/core/formatters.py:343\u001b[0m, in \u001b[0;36mBaseFormatter.__call__\u001b[0;34m(self, obj)\u001b[0m\n\u001b[1;32m    341\u001b[0m     method \u001b[39m=\u001b[39m get_real_method(obj, \u001b[39mself\u001b[39m\u001b[39m.\u001b[39mprint_method)\n\u001b[1;32m    342\u001b[0m     \u001b[39mif\u001b[39;00m method \u001b[39mis\u001b[39;00m \u001b[39mnot\u001b[39;00m \u001b[39mNone\u001b[39;00m:\n\u001b[0;32m--> 343\u001b[0m         \u001b[39mreturn\u001b[39;00m method()\n\u001b[1;32m    344\u001b[0m     \u001b[39mreturn\u001b[39;00m \u001b[39mNone\u001b[39;00m\n\u001b[1;32m    345\u001b[0m \u001b[39melse\u001b[39;00m:\n",
      "File \u001b[0;32m/usr/lib/python3/dist-packages/IPython/core/display.py:1054\u001b[0m, in \u001b[0;36mImage._repr_png_\u001b[0;34m(self)\u001b[0m\n\u001b[1;32m   1052\u001b[0m \u001b[39mdef\u001b[39;00m \u001b[39m_repr_png_\u001b[39m(\u001b[39mself\u001b[39m):\n\u001b[1;32m   1053\u001b[0m     \u001b[39mif\u001b[39;00m \u001b[39mself\u001b[39m\u001b[39m.\u001b[39membed \u001b[39mand\u001b[39;00m \u001b[39mself\u001b[39m\u001b[39m.\u001b[39mformat \u001b[39m==\u001b[39m \u001b[39mself\u001b[39m\u001b[39m.\u001b[39m_FMT_PNG:\n\u001b[0;32m-> 1054\u001b[0m         \u001b[39mreturn\u001b[39;00m \u001b[39mself\u001b[39;49m\u001b[39m.\u001b[39;49m_data_and_metadata()\n",
      "File \u001b[0;32m/usr/lib/python3/dist-packages/IPython/core/display.py:1034\u001b[0m, in \u001b[0;36mImage._data_and_metadata\u001b[0;34m(self, always_both)\u001b[0m\n\u001b[1;32m   1032\u001b[0m     b64_data \u001b[39m=\u001b[39m b2a_base64(\u001b[39mself\u001b[39m\u001b[39m.\u001b[39mdata)\u001b[39m.\u001b[39mdecode(\u001b[39m'\u001b[39m\u001b[39mascii\u001b[39m\u001b[39m'\u001b[39m)\n\u001b[1;32m   1033\u001b[0m \u001b[39mexcept\u001b[39;00m \u001b[39mTypeError\u001b[39;00m \u001b[39mas\u001b[39;00m e:\n\u001b[0;32m-> 1034\u001b[0m     \u001b[39mraise\u001b[39;00m \u001b[39mFileNotFoundError\u001b[39;00m(\n\u001b[1;32m   1035\u001b[0m         \u001b[39m\"\u001b[39m\u001b[39mNo such file or directory: \u001b[39m\u001b[39m'\u001b[39m\u001b[39m%s\u001b[39;00m\u001b[39m'\u001b[39m\u001b[39m\"\u001b[39m \u001b[39m%\u001b[39m (\u001b[39mself\u001b[39m\u001b[39m.\u001b[39mdata)) \u001b[39mfrom\u001b[39;00m \u001b[39me\u001b[39;00m\n\u001b[1;32m   1036\u001b[0m md \u001b[39m=\u001b[39m {}\n\u001b[1;32m   1037\u001b[0m \u001b[39mif\u001b[39;00m \u001b[39mself\u001b[39m\u001b[39m.\u001b[39mmetadata:\n",
      "\u001b[0;31mFileNotFoundError\u001b[0m: No such file or directory: '/home/anferivera/Work/Documents_compartidos/MDEO/neutrino-diagram.png'"
     ]
    },
    {
     "data": {
      "text/plain": [
       "<IPython.core.display.Image object>"
      ]
     },
     "execution_count": 10,
     "metadata": {},
     "output_type": "execute_result"
    }
   ],
   "source": [
    "from IPython.display import Image\n",
    "Image(\"/home/anferivera/Work/Documents_compartidos/MDEO/neutrino-diagram.png\", width=400)"
   ]
  },
  {
   "cell_type": "markdown",
   "metadata": {},
   "source": [
    "At one loop level, we obtain neutrino mass matrix:\n",
    "%\n",
    "\\begin{equation}\n",
    "\\label{eq:righthandedneutrinomassterm}\n",
    "(\\mathcal{M}_{\\nu})_{ij}=\\frac{1}{(4\\pi)^2}\\sum_{lk}Y^{\\dagger}_{Lil}Y_{Rjl}(V^{lk}_{\\Psi_2})^{\\dagger}U^{lk}_{\\Psi_2}M_k[U^{11}_{\\Xi}f(m_1,M_k)U^{21}_{\\Xi}+U^{12}_{\\Xi}f(m_2,M_k)U^{22}_{\\Xi}]\n",
    "\\end{equation}\n",
    "%\n",
    "that can be rewritten as:\n",
    "%\n",
    "\\begin{equation}\n",
    "(\\mathcal{M}_{\\nu})_{ij}=\\sum_ky_{Lil}y_{Rjk}f_{k}\\nonumber\\,,\n",
    "\\end{equation}\n",
    "%\n",
    "where:\n",
    "%\n",
    "\\begin{equation}\n",
    "f_k=\\frac{1}{(4\\pi)^2}\\sum_l(V^{lk}_{\\Psi_2})^{\\dagger}U^{lk}_{\\Psi_2}M_k[U^{11}_{\\Xi}f(m_1,M_k)U^{21}_{\\Xi}+U^{12}_{\\Xi}f(m_2,M_k)U^{22}_{\\Xi}]\n",
    "\\end{equation}\n",
    "\n",
    "\\begin{equation}\n",
    "\\label{eq:fms}\n",
    "f(m_s,M_l)=\\frac{m^2_s\\ln(m^2_s)-M^2_l\\ln(M^2_l)}{m^2_s-M^2_l}\\,,\\\\\n",
    "\\end{equation}"
   ]
  },
  {
   "cell_type": "code",
   "execution_count": 29,
   "metadata": {},
   "outputs": [],
   "source": [
    "def fk(ms,ml):\n",
    "    fk = (1./(4.*np.pi)**2)*(ms**2*np.log(ms**2)-ml**2*np.log(ml**2))/(ms**2-ml**2)\n",
    "    return fk   "
   ]
  },
  {
   "cell_type": "code",
   "execution_count": 30,
   "metadata": {},
   "outputs": [
    {
     "name": "stdout",
     "output_type": "stream",
     "text": [
      "1.447379287968039e-11 1.5322828669386656e-11\n"
     ]
    }
   ],
   "source": [
    "fk1 = mXi_1*(ZN11*fk(mns_1,mXi_1)*ZN21 + ZN12*fk(mns_2,mXi_1)*ZN22)\n",
    "fk2 = mXi_2*(ZN11*fk(mns_1,mXi_2)*ZN21 + ZN12*fk(mns_2,mXi_2)*ZN22)\n",
    "print(fk1,fk2)"
   ]
  },
  {
   "cell_type": "code",
   "execution_count": 31,
   "metadata": {},
   "outputs": [
    {
     "name": "stdout",
     "output_type": "stream",
     "text": [
      "2.020890219586357 0.0 -13.19905271530016 -0.30198216154116986 0.0 5.125215804372646\n"
     ]
    }
   ],
   "source": [
    "YnR11=(mv1*XR11*(XL13*YnL13*(YnL21**2.0+YnL22**2.0)-XL13*(YnL11*YnL21+YnL12*YnL22)*YnL23-XL12*YnL22*(YnL11*YnL21+YnL13*YnL23)+XL12*YnL12*(YnL21**2.0+YnL23**2.0)+XL11*(-YnL12*YnL21*YnL22-YnL13*YnL21*YnL23+YnL11*(YnL22**2.0+YnL23**2.0)))+mv2*XR21*(XL23*YnL13*(YnL21**2.0+YnL22**2.0)-XL23*(YnL11*YnL21+YnL12*YnL22)*YnL23-XL22*YnL22*(YnL11*YnL21+YnL13*YnL23)+XL22*YnL12*(YnL21**2.0+YnL23**2.0)+XL21*(-YnL12*YnL21*YnL22-YnL13*YnL21*YnL23+YnL11*(YnL22**2.0+YnL23**2.0)))+mv3*XR31*(XL33*YnL13*(YnL21**2.0+YnL22**2.0)-XL33*(YnL11*YnL21+YnL12*YnL22)*YnL23-XL32*YnL22*(YnL11*YnL21+YnL13*YnL23)+XL32*YnL12*(YnL21**2.0+YnL23**2.0)+XL31*(-YnL12*YnL21*YnL22-YnL13*YnL21*YnL23+YnL11*(YnL22**2.0+YnL23**2.0))))/(fk1*(YnL13**2.0*(YnL21**2.0+YnL22**2.0)-2.0*YnL11*YnL13*YnL21*YnL23-2.0*YnL12*YnL22*(YnL11*YnL21+YnL13*YnL23)+YnL12**2.0*(YnL21**2.0+YnL23**2.0)+YnL11**2.0*(YnL22**2.0+YnL23**2.0)))\n",
    "YnR12=(mv1*XR12*(XL13*YnL13*(YnL21**2.0+YnL22**2.0)-XL13*(YnL11*YnL21+YnL12*YnL22)*YnL23-XL12*YnL22*(YnL11*YnL21+YnL13*YnL23)+XL12*YnL12*(YnL21**2.0+YnL23**2.0)+XL11*(-YnL12*YnL21*YnL22-YnL13*YnL21*YnL23+YnL11*(YnL22**2.0+YnL23**2.0)))+mv2*XR22*(XL23*YnL13*(YnL21**2.0+YnL22**2.0)-XL23*(YnL11*YnL21+YnL12*YnL22)*YnL23-XL22*YnL22*(YnL11*YnL21+YnL13*YnL23)+XL22*YnL12*(YnL21**2.0+YnL23**2.0)+XL21*(-YnL12*YnL21*YnL22-YnL13*YnL21*YnL23+YnL11*(YnL22**2.0+YnL23**2.0)))+mv3*XR32*(XL33*YnL13*(YnL21**2.0+YnL22**2.0)-XL33*(YnL11*YnL21+YnL12*YnL22)*YnL23-XL32*YnL22*(YnL11*YnL21+YnL13*YnL23)+XL32*YnL12*(YnL21**2.0+YnL23**2.0)+XL31*(-YnL12*YnL21*YnL22-YnL13*YnL21*YnL23+YnL11*(YnL22**2.0+YnL23**2.0))))/(fk1*(YnL13**2.0*(YnL21**2.0+YnL22**2.0)-2.0*YnL11*YnL13*YnL21*YnL23-2.0*YnL12*YnL22*(YnL11*YnL21+YnL13*YnL23)+YnL12**2.0*(YnL21**2.0+YnL23**2.0)+YnL11**2.0*(YnL22**2.0+YnL23**2.0)))\n",
    "YnR13=(mv1*XR13*(XL13*YnL13*(YnL21**2.0+YnL22**2.0)-XL13*(YnL11*YnL21+YnL12*YnL22)*YnL23-XL12*YnL22*(YnL11*YnL21+YnL13*YnL23)+XL12*YnL12*(YnL21**2.0+YnL23**2.0)+XL11*(-YnL12*YnL21*YnL22-YnL13*YnL21*YnL23+YnL11*(YnL22**2.0+YnL23**2.0)))+mv2*XR23*(XL23*YnL13*(YnL21**2.0+YnL22**2.0)-XL23*(YnL11*YnL21+YnL12*YnL22)*YnL23-XL22*YnL22*(YnL11*YnL21+YnL13*YnL23)+XL22*YnL12*(YnL21**2.0+YnL23**2.0)+XL21*(-YnL12*YnL21*YnL22-YnL13*YnL21*YnL23+YnL11*(YnL22**2.0+YnL23**2.0)))+mv3*XR33*(XL33*YnL13*(YnL21**2.0+YnL22**2.0)-XL33*(YnL11*YnL21+YnL12*YnL22)*YnL23-XL32*YnL22*(YnL11*YnL21+YnL13*YnL23)+XL32*YnL12*(YnL21**2.0+YnL23**2.0)+XL31*(-YnL12*YnL21*YnL22-YnL13*YnL21*YnL23+YnL11*(YnL22**2.0+YnL23**2.0))))/(fk1*(YnL13**2.0*(YnL21**2.0+YnL22**2.0)-2.0*YnL11*YnL13*YnL21*YnL23-2.0*YnL12*YnL22*(YnL11*YnL21+YnL13*YnL23)+YnL12**2.0*(YnL21**2.0+YnL23**2.0)+YnL11**2.0*(YnL22**2.0+YnL23**2.0)))\n",
    "YnR21=(mv1*XR11*(-XL13*YnL13*(YnL11*YnL21+YnL12*YnL22)+XL13*(YnL11**2.0+YnL12**2.0)*YnL23+XL11*(YnL12**2.0*YnL21+YnL13**2.0*YnL21-YnL11*YnL12*YnL22-YnL11*YnL13*YnL23)+XL12*(-YnL11*YnL12*YnL21+YnL11**2.0*YnL22+YnL13*(YnL13*YnL22-YnL12*YnL23)))+mv2*XR21*(-XL23*YnL13*(YnL11*YnL21+YnL12*YnL22)+XL23*(YnL11**2.0+YnL12**2.0)*YnL23+XL21*(YnL12**2.0*YnL21+YnL13**2.0*YnL21-YnL11*YnL12*YnL22-YnL11*YnL13*YnL23)+XL22*(-YnL11*YnL12*YnL21+YnL11**2.0*YnL22+YnL13*(YnL13*YnL22-YnL12*YnL23)))+mv3*XR31*(-XL33*YnL13*(YnL11*YnL21+YnL12*YnL22)+XL33*(YnL11**2.0+YnL12**2.0)*YnL23+XL31*(YnL12**2.0*YnL21+YnL13**2.0*YnL21-YnL11*YnL12*YnL22-YnL11*YnL13*YnL23)+XL32*(-YnL11*YnL12*YnL21+YnL11**2.0*YnL22+YnL13*(YnL13*YnL22-YnL12*YnL23))))/(fk2*(YnL13**2.0*(YnL21**2.0+YnL22**2.0)-2.0*YnL11*YnL13*YnL21*YnL23-2.0*YnL12*YnL22*(YnL11*YnL21+YnL13*YnL23)+YnL12**2.0*(YnL21**2.0+YnL23**2.0)+YnL11**2.0*(YnL22**2.0+YnL23**2.0)))\n",
    "YnR22=(mv1*XR12*(-XL13*YnL13*(YnL11*YnL21+YnL12*YnL22)+XL13*(YnL11**2.0+YnL12**2.0)*YnL23+XL11*(YnL12**2.0*YnL21+YnL13**2.0*YnL21-YnL11*YnL12*YnL22-YnL11*YnL13*YnL23)+XL12*(-YnL11*YnL12*YnL21+YnL11**2.0*YnL22+YnL13*(YnL13*YnL22-YnL12*YnL23)))+mv2*XR22*(-XL23*YnL13*(YnL11*YnL21+YnL12*YnL22)+XL23*(YnL11**2.0+YnL12**2.0)*YnL23+XL21*(YnL12**2.0*YnL21+YnL13**2.0*YnL21-YnL11*YnL12*YnL22-YnL11*YnL13*YnL23)+XL22*(-YnL11*YnL12*YnL21+YnL11**2.0*YnL22+YnL13*(YnL13*YnL22-YnL12*YnL23)))+mv3*XR32*(-XL33*YnL13*(YnL11*YnL21+YnL12*YnL22)+XL33*(YnL11**2.0+YnL12**2.0)*YnL23+XL31*(YnL12**2.0*YnL21+YnL13**2.0*YnL21-YnL11*YnL12*YnL22-YnL11*YnL13*YnL23)+XL32*(-YnL11*YnL12*YnL21+YnL11**2.0*YnL22+YnL13*(YnL13*YnL22-YnL12*YnL23))))/(fk2*(YnL13**2.0*(YnL21**2.0+YnL22**2.0)-2.0*YnL11*YnL13*YnL21*YnL23-2.0*YnL12*YnL22*(YnL11*YnL21+YnL13*YnL23)+YnL12**2.0*(YnL21**2.0+YnL23**2.0)+YnL11**2.0*(YnL22**2.0+YnL23**2.0)))\n",
    "YnR23=(mv1*XR13*(-XL13*YnL13*(YnL11*YnL21+YnL12*YnL22)+XL13*(YnL11**2.0+YnL12**2.0)*YnL23+XL11*(YnL12**2.0*YnL21+YnL13**2.0*YnL21-YnL11*YnL12*YnL22-YnL11*YnL13*YnL23)+XL12*(-YnL11*YnL12*YnL21+YnL11**2.0*YnL22+YnL13*(YnL13*YnL22-YnL12*YnL23)))+mv2*XR23*(-XL23*YnL13*(YnL11*YnL21+YnL12*YnL22)+XL23*(YnL11**2.0+YnL12**2.0)*YnL23+XL21*(YnL12**2.0*YnL21+YnL13**2.0*YnL21-YnL11*YnL12*YnL22-YnL11*YnL13*YnL23)+XL22*(-YnL11*YnL12*YnL21+YnL11**2.0*YnL22+YnL13*(YnL13*YnL22-YnL12*YnL23)))+mv3*XR33*(-XL33*YnL13*(YnL11*YnL21+YnL12*YnL22)+XL33*(YnL11**2.0+YnL12**2.0)*YnL23+XL31*(YnL12**2.0*YnL21+YnL13**2.0*YnL21-YnL11*YnL12*YnL22-YnL11*YnL13*YnL23)+XL32*(-YnL11*YnL12*YnL21+YnL11**2.0*YnL22+YnL13*(YnL13*YnL22-YnL12*YnL23))))/(fk2*(YnL13**2.0*(YnL21**2.0+YnL22**2.0)-2.0*YnL11*YnL13*YnL21*YnL23-2.0*YnL12*YnL22*(YnL11*YnL21+YnL13*YnL23)+YnL12**2.0*(YnL21**2.0+YnL23**2.0)+YnL11**2.0*(YnL22**2.0+YnL23**2.0)))\n",
    "print(YnR11,YnR12,YnR13,YnR21,YnR22,YnR23)"
   ]
  },
  {
   "cell_type": "code",
   "execution_count": 32,
   "metadata": {},
   "outputs": [],
   "source": [
    "#Element M11 modifications\n",
    "M11 = YnL11*YnR11*(ZR11*ZL11*fk1 + ZR12*ZL12*fk2) + YnL21*YnR21*(ZR21*ZL21*fk1 + ZR22*ZL22*fk2)\n",
    "M12 = YnL11*YnR12*(ZR11*ZL11*fk1 + ZR12*ZL12*fk2) + YnL21*YnR22*(ZR21*ZL21*fk1 + ZR22*ZL22*fk2)\n",
    "M13 = YnL11*YnR13*(ZR11*ZL11*fk1 + ZR12*ZL12*fk2) + YnL21*YnR23*(ZR21*ZL21*fk1 + ZR22*ZL22*fk2)\n",
    "\n",
    "M21 = YnL12*YnR11*(ZR11*ZL11*fk1 + ZR12*ZL12*fk2) + YnL22*YnR21*(ZR21*ZL21*fk1 + ZR22*ZL22*fk2)\n",
    "M22 = YnL12*YnR22*(ZR11*ZL11*fk1 + ZR12*ZL12*fk2) + YnL22*YnR22*(ZR21*ZL21*fk1 + ZR22*ZL22*fk2)\n",
    "M23 = YnL12*YnR23*(ZR11*ZL11*fk1 + ZR12*ZL12*fk2) + YnL22*YnR23*(ZR21*ZL21*fk1 + ZR22*ZL22*fk2)\n",
    "\n",
    "M31 = YnL13*YnR11*(ZR11*ZL11*fk1 + ZR12*ZL12*fk2) + YnL23*YnR21*(ZR21*ZL21*fk1 + ZR22*ZL22*fk2)\n",
    "M32 = YnL13*YnR22*(ZR11*ZL11*fk1 + ZR12*ZL12*fk2) + YnL23*YnR22*(ZR21*ZL21*fk1 + ZR22*ZL22*fk2)\n",
    "M33 = YnL13*YnR23*(ZR11*ZL11*fk1 + ZR12*ZL12*fk2) + YnL23*YnR23*(ZR21*ZL21*fk1 + ZR22*ZL22*fk2)"
   ]
  },
  {
   "cell_type": "code",
   "execution_count": 33,
   "metadata": {},
   "outputs": [],
   "source": [
    "Mvij = np.matrix( [[M11, M12,M13],\n",
    "           [M21, M22,M23],\n",
    "           [M31, M32,M33]] )\n",
    "\n",
    "#eigenvalues e eigenvectors\n",
    "(Mdiag2,V)=np.linalg.eig(Mvij*np.transpose(Mvij))"
   ]
  },
  {
   "cell_type": "code",
   "execution_count": 34,
   "metadata": {},
   "outputs": [
    {
     "name": "stdout",
     "output_type": "stream",
     "text": [
      "[0.00000000e+00 2.04580084e-20 2.16991321e-23]\n"
     ]
    }
   ],
   "source": [
    "print(Mdiag2)\n",
    "#print(V)"
   ]
  },
  {
   "cell_type": "code",
   "execution_count": 38,
   "metadata": {},
   "outputs": [
    {
     "data": {
      "text/plain": [
       "1.430314944339183e-10"
      ]
     },
     "execution_count": 38,
     "metadata": {},
     "output_type": "execute_result"
    }
   ],
   "source": [
    "np.sqrt(2.04580084e-20)"
   ]
  },
  {
   "cell_type": "code",
   "execution_count": 37,
   "metadata": {},
   "outputs": [
    {
     "data": {
      "text/plain": [
       "4.6582327228252565e-12"
      ]
     },
     "execution_count": 37,
     "metadata": {},
     "output_type": "execute_result"
    }
   ],
   "source": [
    "np.sqrt(2.16991321e-23)"
   ]
  },
  {
   "cell_type": "code",
   "execution_count": 43,
   "metadata": {},
   "outputs": [
    {
     "data": {
      "text/plain": [
       "3.4135638112e-21"
      ]
     },
     "execution_count": 43,
     "metadata": {},
     "output_type": "execute_result"
    }
   ],
   "source": [
    "np.abs(5.58279288e-23-3.46939174e-21)"
   ]
  },
  {
   "cell_type": "code",
   "execution_count": 20,
   "metadata": {},
   "outputs": [
    {
     "data": {
      "text/plain": [
       "[6.99e-23, 8.070000000000002e-23]"
      ]
     },
     "execution_count": 20,
     "metadata": {},
     "output_type": "execute_result"
    }
   ],
   "source": [
    "Deltam12exp=[(7.53-3.0*0.18)*1.0e-5*1.0e-18,(7.53+3.0*0.18)*1.0e-5*1.0e-18]\n",
    "Deltam12exp"
   ]
  },
  {
   "cell_type": "code",
   "execution_count": 21,
   "metadata": {},
   "outputs": [
    {
     "data": {
      "text/plain": [
       "[2.354e-21, 2.552e-21]"
      ]
     },
     "execution_count": 21,
     "metadata": {},
     "output_type": "execute_result"
    }
   ],
   "source": [
    "Deltam23exp=[(2.453-3.0*0.033)*1.0e-3*1.0e-18,(2.453+3.0*0.033)*1.0e-3*1.0e-18]\n",
    "Deltam23exp"
   ]
  },
  {
   "cell_type": "code",
   "execution_count": null,
   "metadata": {},
   "outputs": [],
   "source": [
    "\n",
    "1e-30 8.677557259966655e-12 4.952776998815917e-11 10000.0 11000.1 20000.0 20000.01"
   ]
  }
 ],
 "metadata": {
  "kernelspec": {
   "display_name": "Python 3 (ipykernel)",
   "language": "python",
   "name": "python3"
  },
  "language_info": {
   "codemirror_mode": {
    "name": "ipython",
    "version": 3
   },
   "file_extension": ".py",
   "mimetype": "text/x-python",
   "name": "python",
   "nbconvert_exporter": "python",
   "pygments_lexer": "ipython3",
   "version": "3.9.2"
  }
 },
 "nbformat": 4,
 "nbformat_minor": 1
}
