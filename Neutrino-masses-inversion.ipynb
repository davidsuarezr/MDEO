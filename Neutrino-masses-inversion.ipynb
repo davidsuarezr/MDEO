{
 "cells": [
  {
   "cell_type": "markdown",
   "metadata": {},
   "source": [
    "# MDEO model: neutrino masses inversion"
   ]
  },
  {
   "cell_type": "markdown",
   "metadata": {},
   "source": [
    "The idea is to check the neutrino mases inversion to one loop.\n",
    "Leshouches dictionary, SPHENO_4.0.3, micromegas_5.0.4"
   ]
  },
  {
   "cell_type": "code",
   "execution_count": 1,
   "metadata": {},
   "outputs": [],
   "source": [
    "import numpy as np\n",
    "import pandas as pd\n",
    "import subprocess\n",
    "import time\n",
    "import sys\n",
    "\n",
    "%matplotlib inline\n",
    "import matplotlib.pyplot as plt "
   ]
  },
  {
   "cell_type": "code",
   "execution_count": 2,
   "metadata": {},
   "outputs": [],
   "source": [
    "import pyslha\n",
    "import pyMDEO_LesHouches_generator\n",
    "#import neutrino_analytic_v1"
   ]
  },
  {
   "cell_type": "code",
   "execution_count": 3,
   "metadata": {},
   "outputs": [
    {
     "data": {
      "image/png": "[encoded data removed]",
      "text/plain": [
       "<IPython.core.display.Image object>"
      ]
     },
     "execution_count": 3,
     "metadata": {
      "image/png": {
       "width": 400
      }
     },
     "output_type": "execute_result"
    }
   ],
   "source": [
    "from IPython.display import Image\n",
    "Image(\"/home/anferivera/Work/Documents_compartidos/MDEO/neutrino-diagram.png\", width=400)"
   ]
  },
  {
   "cell_type": "markdown",
   "metadata": {},
   "source": [
    "run diccionary first time"
   ]
  },
  {
   "cell_type": "code",
   "execution_count": 4,
   "metadata": {},
   "outputs": [],
   "source": [
    "x=[]\n",
    "\n",
    "#opend the dictionary\n",
    "xdict = pyMDEO_LesHouches_generator.buildSLHAinFile()\n",
    "\n",
    "Lam1 = 2.225000E-01 \n",
    "Lam2 = 2.100000E-02   \n",
    "\n",
    "#Modify parameters\n",
    "xdict.blocks['MINPAR'].entries[1]='%.6E    # lambda1Input'%Lam1\n",
    "xdict.blocks['MINPAR'].entries[2]='%.6E    # lambda2Input'%Lam2\n",
    "\n",
    "pyslha.writeSLHAFile('LesHouches.in.MDEO_low',xdict) \n",
    "\n",
    "#run SPheno\n",
    "spheno = subprocess.getoutput('~/Work/SPheno-4.0.5/bin/SPhenoMDEO LesHouches.in.MDEO_low')    \n",
    "so = subprocess.getoutput('cat SPheno.spc.MDEO')\n",
    "\n",
    "#take spheno data\n",
    "#ZL ad ZR matrices\n",
    "ZL11 = eval(so.split('Block LEFTMIX')[1].split()[6])\n",
    "ZL12 = eval(so.split('Block LEFTMIX')[1].split()[11])\n",
    "ZL21 = eval(so.split('Block LEFTMIX')[1].split()[16])\n",
    "ZL22 = eval(so.split('Block LEFTMIX')[1].split()[21])\n",
    "#print(ZL11,ZL12,ZL21,ZL22)\n",
    "\n",
    "ZR11 = eval(so.split('Block RIGHTMIX')[1].split()[6])\n",
    "ZR12 = eval(so.split('Block RIGHTMIX')[1].split()[11])\n",
    "ZR21 = eval(so.split('Block RIGHTMIX')[1].split()[16])\n",
    "ZR22 = eval(so.split('Block RIGHTMIX')[1].split()[21])\n",
    "#print(ZR11,ZR12,ZR21,ZR22)\n",
    "\n",
    "#ZN etR,ss ->ns mixing\n",
    "ZN11 = eval(so.split('Block NEUTRALMIX')[1].split()[6])\n",
    "ZN12 = eval(so.split('Block NEUTRALMIX')[1].split()[11])\n",
    "ZN21 = eval(so.split('Block NEUTRALMIX')[1].split()[16])\n",
    "ZN22 = eval(so.split('Block NEUTRALMIX')[1].split()[21])\n",
    "#print(ZN11,ZN12,ZN21,ZN22)\n",
    "\n",
    "#YNL and YNR matrices\n",
    "YnL11 = eval(so.split('Block YNL')[1].split()[7])\n",
    "YnL12 = eval(so.split('Block YNL')[1].split()[12])\n",
    "YnL13 = eval(so.split('Block YNL')[1].split()[17])\n",
    "YnL21 = eval(so.split('Block YNL')[1].split()[22])\n",
    "YnL22 = eval(so.split('Block YNL')[1].split()[27])\n",
    "YnL23 = eval(so.split('Block YNL')[1].split()[32])\n",
    "#print(YnL11,YnL12,YnL13,YnL21,YnL22,YnL23)\n",
    "\n",
    "YnR11 = eval(so.split('Block YNR')[1].split()[7])\n",
    "YnR12 = eval(so.split('Block YNR')[1].split()[12])\n",
    "YnR13 = eval(so.split('Block YNR')[1].split()[17])\n",
    "YnR21 = eval(so.split('Block YNR')[1].split()[22])\n",
    "YnR22 = eval(so.split('Block YNR')[1].split()[27])\n",
    "YnR23 = eval(so.split('Block YNR')[1].split()[32])\n",
    "#print(YnR11,YnR12,YnR13,YnR21,YnR22,YnR23)\n",
    "\n",
    "#Masses\n",
    "mv1 = so.split('Fe_3')[1].split()[1]\n",
    "if mv1 == 'NaN':\n",
    "    mv1 = 0.0\n",
    "else:\n",
    "    mv1 = eval(so.split('Fe_3')[1].split()[1])\n",
    "    \n",
    "mv2 = eval(so.split('Fe_3')[1].split()[5])\n",
    "mv3 = eval(so.split('Fe_3')[1].split()[9])\n",
    "mXi_1 = eval(so.split('Fe_3')[1].split()[17])\n",
    "mXi_2 = eval(so.split('Fe_3')[1].split()[21])\n",
    "metI = eval(so.split('Fe_3')[1].split()[25])\n",
    "metp = eval(so.split('Fe_3')[1].split()[29])\n",
    "mns_1 = eval(so.split('Fe_3')[1].split()[33])\n",
    "mns_2 = eval(so.split('Fe_3')[1].split()[37])\n",
    "\n",
    "x.append([ZL11,ZL12,ZL21,ZL22,ZR11,ZR12,ZR21,ZR22,ZN11,ZN12,ZN21,ZN22,YnL11,YnL12,YnL13,YnL21,YnL22,YnL23,\\\n",
    "          YnR11,YnR12,YnR13,YnR21,YnR22,YnR23,mv1,mv2,mv3,mXi_1,mXi_2,metI,metp,mns_1,mns_2])\n",
    "\n",
    "x=np.asarray(x)\n",
    "xd=pd.DataFrame(x,columns=['ZL11','ZL12','ZL21','ZL22','ZR11','ZR12','ZR21','ZR22','ZN11','ZN12','ZN21',\\\n",
    "                           'ZN22','YnL11','YnL12','YnL13','YnL21','YnL22','YnL23','YnR11','YnR12','YnR13',\\\n",
    "                           'YnR21','YnR22','YnR23','mv1','mv2','mv3','mXi_1','mXi_2','metI','metp',\\\n",
    "                           'mns_1','mns_2']) "
   ]
  },
  {
   "cell_type": "code",
   "execution_count": 5,
   "metadata": {},
   "outputs": [
    {
     "data": {
      "text/html": [
       "<div>\n",
       "<style scoped>\n",
       "    .dataframe tbody tr th:only-of-type {\n",
       "        vertical-align: middle;\n",
       "    }\n",
       "\n",
       "    .dataframe tbody tr th {\n",
       "        vertical-align: top;\n",
       "    }\n",
       "\n",
       "    .dataframe thead th {\n",
       "        text-align: right;\n",
       "    }\n",
       "</style>\n",
       "<table border=\"1\" class=\"dataframe\">\n",
       "  <thead>\n",
       "    <tr style=\"text-align: right;\">\n",
       "      <th></th>\n",
       "      <th>ZL11</th>\n",
       "      <th>ZL12</th>\n",
       "      <th>ZL21</th>\n",
       "      <th>ZL22</th>\n",
       "      <th>ZR11</th>\n",
       "      <th>ZR12</th>\n",
       "      <th>ZR21</th>\n",
       "      <th>ZR22</th>\n",
       "      <th>ZN11</th>\n",
       "      <th>ZN12</th>\n",
       "      <th>...</th>\n",
       "      <th>YnR23</th>\n",
       "      <th>mv1</th>\n",
       "      <th>mv2</th>\n",
       "      <th>mv3</th>\n",
       "      <th>mXi_1</th>\n",
       "      <th>mXi_2</th>\n",
       "      <th>metI</th>\n",
       "      <th>metp</th>\n",
       "      <th>mns_1</th>\n",
       "      <th>mns_2</th>\n",
       "    </tr>\n",
       "  </thead>\n",
       "  <tbody>\n",
       "    <tr>\n",
       "      <th>0</th>\n",
       "      <td>0.882275</td>\n",
       "      <td>-0.470734</td>\n",
       "      <td>0.470734</td>\n",
       "      <td>0.882275</td>\n",
       "      <td>-0.986734</td>\n",
       "      <td>0.162348</td>\n",
       "      <td>-0.162348</td>\n",
       "      <td>-0.986734</td>\n",
       "      <td>1.0</td>\n",
       "      <td>1.390724e-11</td>\n",
       "      <td>...</td>\n",
       "      <td>0.01</td>\n",
       "      <td>0.0</td>\n",
       "      <td>4.952623e-13</td>\n",
       "      <td>5.367904e-11</td>\n",
       "      <td>10866.9514</td>\n",
       "      <td>65681.0516</td>\n",
       "      <td>351274.552</td>\n",
       "      <td>351274.55</td>\n",
       "      <td>351274.552</td>\n",
       "      <td>622651.134</td>\n",
       "    </tr>\n",
       "  </tbody>\n",
       "</table>\n",
       "<p>1 rows × 33 columns</p>\n",
       "</div>"
      ],
      "text/plain": [
       "       ZL11      ZL12      ZL21      ZL22      ZR11      ZR12      ZR21  \\\n",
       "0  0.882275 -0.470734  0.470734  0.882275 -0.986734  0.162348 -0.162348   \n",
       "\n",
       "       ZR22  ZN11          ZN12  ...  YnR23  mv1           mv2           mv3  \\\n",
       "0 -0.986734   1.0  1.390724e-11  ...   0.01  0.0  4.952623e-13  5.367904e-11   \n",
       "\n",
       "        mXi_1       mXi_2        metI       metp       mns_1       mns_2  \n",
       "0  10866.9514  65681.0516  351274.552  351274.55  351274.552  622651.134  \n",
       "\n",
       "[1 rows x 33 columns]"
      ]
     },
     "execution_count": 5,
     "metadata": {},
     "output_type": "execute_result"
    }
   ],
   "source": [
    "xd"
   ]
  },
  {
   "cell_type": "code",
   "execution_count": 6,
   "metadata": {},
   "outputs": [
    {
     "data": {
      "text/html": [
       "<div>\n",
       "<style scoped>\n",
       "    .dataframe tbody tr th:only-of-type {\n",
       "        vertical-align: middle;\n",
       "    }\n",
       "\n",
       "    .dataframe tbody tr th {\n",
       "        vertical-align: top;\n",
       "    }\n",
       "\n",
       "    .dataframe thead th {\n",
       "        text-align: right;\n",
       "    }\n",
       "</style>\n",
       "<table border=\"1\" class=\"dataframe\">\n",
       "  <thead>\n",
       "    <tr style=\"text-align: right;\">\n",
       "      <th></th>\n",
       "      <th>mv1</th>\n",
       "      <th>mv2</th>\n",
       "      <th>mv3</th>\n",
       "    </tr>\n",
       "  </thead>\n",
       "  <tbody>\n",
       "    <tr>\n",
       "      <th>0</th>\n",
       "      <td>0.0</td>\n",
       "      <td>4.952623e-13</td>\n",
       "      <td>5.367904e-11</td>\n",
       "    </tr>\n",
       "  </tbody>\n",
       "</table>\n",
       "</div>"
      ],
      "text/plain": [
       "   mv1           mv2           mv3\n",
       "0  0.0  4.952623e-13  5.367904e-11"
      ]
     },
     "execution_count": 6,
     "metadata": {},
     "output_type": "execute_result"
    }
   ],
   "source": [
    "xd[['mv1','mv2','mv3']]"
   ]
  },
  {
   "cell_type": "markdown",
   "metadata": {},
   "source": [
    "### PMNS matrix"
   ]
  },
  {
   "cell_type": "code",
   "execution_count": 20,
   "metadata": {},
   "outputs": [],
   "source": [
    "#phases of the PMNS matrix and the R \n",
    "phases1 = np.random.uniform(0.,0.0*np.pi,3) # WARNING! They are in zero\n",
    "delta = phases1[0]\n",
    "eta1 = phases1[1]\n",
    "eta2 = phases1[2]\n",
    "\n",
    "#light neutrino masses (up 3 sigma range) NH (NO)\n",
    "#mnu1 = 10**((np.log10(2.5e-3)-np.log10(1e-9))*np.random.uniform(0,1)+np.log10(1e-9))*1e-9 \n",
    "#Zero in this framework\n",
    "mnu1 = 1.0e-20\n",
    "mnu2 = np.sqrt(np.random.uniform(7.05e-5,8.14e-5)*1e-18+mnu1**2)\n",
    "mnu3 = np.sqrt(np.random.uniform(2.41e-3,2.60e-3)*1e-18+mnu1**2)\n",
    "\n",
    "#mixing angles (up 3 sigma range) NH\n",
    "t12 = np.arcsin(np.sqrt(np.random.uniform(0.273,0.379)))\n",
    "t23 = np.arcsin(np.sqrt(np.random.uniform(0.445,0.599)))\n",
    "t13 = np.arcsin(np.sqrt(np.random.uniform(0.0196,0.0241)))\n",
    "\n",
    "#Building PMNS matrix NH\n",
    "UM12 = np.array([ [np.cos(t12),np.sin(t12),0.], [-np.sin(t12),np.cos(t12),0.], [0.,0.,1.0] ])\n",
    "UM13 = np.array([ [np.cos(t13),0.,np.sin(t13)], [0.,1.0,0.], [-np.sin(t13),0.,np.cos(t13)] ])\n",
    "UM23 = np.array([ [1.0,0.,0.], [0.,np.cos(t23),np.sin(t23)], [0.,-np.sin(t23),np.cos(t23)] ])\n",
    "Uphases = np.array([ [np.exp(eta1*1j),0.,0.], [0.,np.exp(eta2*1j),0.], [0.,0.,1.0] ])\n",
    "U=np.dot(UM23,np.dot(UM13,np.dot(UM12,Uphases)))\n",
    "\n",
    "#Defining the U elementes. readeable\n",
    "U11 = np.real(U[0,0])\n",
    "U12 = np.real(U[0,1])\n",
    "U13 = np.real(U[0,2])\n",
    "U21 = np.real(U[1,0])\n",
    "U22 = np.real(U[1,1])\n",
    "U23 = np.real(U[1,2])\n",
    "U31 = np.real(U[2,0])\n",
    "U32 = np.real(U[2,1])\n",
    "U33 = np.real(U[2,2])"
   ]
  },
  {
   "cell_type": "code",
   "execution_count": 21,
   "metadata": {},
   "outputs": [
    {
     "name": "stdout",
     "output_type": "stream",
     "text": [
      "mnu1= 1e-20 mnu2= 8.619719984821483e-12 mnu3= 4.978238409557654e-11\n",
      "[[ 0.78668376+0.j  0.60077937+0.j  0.14210143+0.j]\n",
      " [-0.52191325+0.j  0.52425976+0.j  0.67287314+0.j]\n",
      " [ 0.32975024+0.j -0.60350299+0.j  0.72598135+0.j]]\n"
     ]
    }
   ],
   "source": [
    "print(\"mnu1=\",mnu1,\"mnu2=\",mnu2,\"mnu3=\",mnu3)\n",
    "print(U)"
   ]
  },
  {
   "cell_type": "code",
   "execution_count": 22,
   "metadata": {},
   "outputs": [],
   "source": [
    "U11=np.real(U[0,0])\n",
    "U12=np.real(U[0,1])\n",
    "U13=np.real(U[0,2])\n",
    "U21=np.real(U[1,0])\n",
    "U22=np.real(U[1,1])\n",
    "U23=np.real(U[1,2])\n",
    "U31=np.real(U[2,0])\n",
    "U32=np.real(U[2,1])\n",
    "U33=np.real(U[2,2])"
   ]
  },
  {
   "cell_type": "markdown",
   "metadata": {},
   "source": [
    "Neutrino invertion algorithm"
   ]
  },
  {
   "cell_type": "markdown",
   "metadata": {},
   "source": [
    "$\\Lambda_i$ factors"
   ]
  },
  {
   "cell_type": "code",
   "execution_count": 23,
   "metadata": {},
   "outputs": [],
   "source": [
    "#L1=neutrino_analytic_v2.Lab(ZP22,ZP32,ZP42,ZP52,ZP24,ZP34,ZP44,ZP54,meD1,meD2,mH2,mH3,mH4,mH5,VL11,VL21,UL11,UL21)\n",
    "#L2=neutrino_analytic_v2.Lab(ZP23,ZP33,ZP43,ZP53,ZP25,ZP35,ZP45,ZP55,meD1,meD2,mH2,mH3,mH4,mH5,VL11,VL21,UL11,UL21)\n",
    "#print(L1,L2)\n",
    "\n",
    "#WARNING!!!!\n",
    "L1 = 1.36390455423e-06\n",
    "L2= 4.14207141252e-07"
   ]
  },
  {
   "cell_type": "code",
   "execution_count": 24,
   "metadata": {},
   "outputs": [
    {
     "name": "stdout",
     "output_type": "stream",
     "text": [
      "0.00024101418771992723 0.00020989123908051808 -0.0002427804978916307 -8.847169521401983e-05 5.092261212070086e-05 0.00029166447933446206\n"
     ]
    }
   ],
   "source": [
    "#ALGORITM: Particular case(see): inversion-neutrino-matrix.nb\n",
    "#aij->YnLij\n",
    "a11 = 0.\n",
    "a12 = 0.  \n",
    "#Random\n",
    "a21 = np.exp(np.random.uniform(np.log(1.*10**(-4)),np.log(10**(0))))\n",
    "a22 = np.exp(np.random.uniform(np.log(1.*10**(-4)),np.log(10**(0))))\n",
    "a31 = np.exp(np.random.uniform(np.log(1.*10**(-4)),np.log(10**(0))))    \n",
    "a32 = np.exp(np.random.uniform(np.log(1.*10**(-4)),np.log(10**(0))))\n",
    "#bij->YnRij Solve in Mathematica\n",
    "b11 = -((a32*mnu2*U12 - a22*mnu3*U13)/(a22*a31*L1 - a21*a32*L1))   \n",
    "b21 = -((a32*mnu2*U22 - a22*mnu3*U23)/(a22*a31*L1 - a21*a32*L1))\n",
    "b31 = -((a32*mnu2*U32 - a22*mnu3*U33)/(a22*a31*L1 - a21*a32*L1))\n",
    "b12 = (a31*mnu2*U12 - a21*mnu3*U13)/(a22*a31*L2 - a21*a32*L2)\n",
    "b22 = (a31*mnu2*U22 - a21*mnu3*U23)/(a22*a31*L2 - a21*a32*L2)\n",
    "b32 = (a31*mnu2*U32 - a21*mnu3*U33)/(a22*a31*L2 - a21*a32*L2)\n",
    "print(b11,b21,b31,b12,b22,b32)"
   ]
  },
  {
   "cell_type": "markdown",
   "metadata": {},
   "source": [
    "run dicctionary second time"
   ]
  },
  {
   "cell_type": "code",
   "execution_count": 25,
   "metadata": {},
   "outputs": [],
   "source": [
    "y=[]\n",
    "\n",
    "#opend the dictionary\n",
    "xdict = pyMDEO_LesHouches_generator.buildSLHAinFile()\n",
    "\n",
    "Lam1 = 2.225000E-01 \n",
    "Lam2 = 2.100000E-02   \n",
    "\n",
    "#Modify parameters\n",
    "xdict.blocks['MINPAR'].entries[1]='%.6E    # lambda1Input'%Lam1\n",
    "xdict.blocks['MINPAR'].entries[2]='%.6E    # lambda2Input'%Lam2\n",
    "\n",
    "##hdij->YnLij\n",
    "xdict.blocks['YNLIN'].entries[1,1]='%.6E    # YnL(1,1)'%a11\n",
    "xdict.blocks['YNLIN'].entries[1,2]='%.6E    # YnL(1,2)'%a21\n",
    "xdict.blocks['YNLIN'].entries[1,3]='%.6E    # YnL(1,3)'%a31\n",
    "xdict.blocks['YNLIN'].entries[2,1]='%.6E    # YnL(2,1)'%a12\n",
    "xdict.blocks['YNLIN'].entries[2,2]='%.6E    # YnL(2,2)'%a22\n",
    "xdict.blocks['YNLIN'].entries[2,3]='%.6E    # YnL(2,3)'%a32\n",
    "\n",
    "##heij->YnRij\n",
    "xdict.blocks['YNRIN'].entries[1,1]='%.6E    # YnR(1,1)'%b11\n",
    "xdict.blocks['YNRIN'].entries[1,2]='%.6E    # YnR(1,2)'%b21\n",
    "xdict.blocks['YNRIN'].entries[1,3]='%.6E    # YnR(1,3)'%b31\n",
    "xdict.blocks['YNRIN'].entries[2,1]='%.6E    # YnR(2,1)'%b12\n",
    "xdict.blocks['YNRIN'].entries[2,2]='%.6E    # YnR(2,2)'%b22\n",
    "xdict.blocks['YNRIN'].entries[2,3]='%.6E    # YnR(2,3)'%b32\n",
    "\n",
    "pyslha.writeSLHAFile('LesHouches.in.MDEO_low',xdict) \n",
    "\n",
    "#run SPheno\n",
    "spheno = subprocess.getoutput('~/Work/SPheno-4.0.5/bin/SPhenoMDEO LesHouches.in.MDEO_low')    \n",
    "so = subprocess.getoutput('cat SPheno.spc.MDEO')\n",
    "\n",
    "#take spheno data\n",
    "#YNL and YNR matrices\n",
    "YnL11 = eval(so.split('Block YNL')[1].split()[7])\n",
    "YnL12 = eval(so.split('Block YNL')[1].split()[12])\n",
    "YnL13 = eval(so.split('Block YNL')[1].split()[17])\n",
    "YnL21 = eval(so.split('Block YNL')[1].split()[22])\n",
    "YnL22 = eval(so.split('Block YNL')[1].split()[27])\n",
    "YnL23 = eval(so.split('Block YNL')[1].split()[32])\n",
    "#print(YnL11,YnL12,YnL13,YnL21,YnL22,YnL23)\n",
    "\n",
    "YnR11 = eval(so.split('Block YNR')[1].split()[7])\n",
    "YnR12 = eval(so.split('Block YNR')[1].split()[12])\n",
    "YnR13 = eval(so.split('Block YNR')[1].split()[17])\n",
    "YnR21 = eval(so.split('Block YNR')[1].split()[22])\n",
    "YnR22 = eval(so.split('Block YNR')[1].split()[27])\n",
    "YnR23 = eval(so.split('Block YNR')[1].split()[32])\n",
    "#print(YnR11,YnR12,YnR13,YnR21,YnR22,YnR23)\n",
    "\n",
    "#ZL ad ZR matrices\n",
    "ZL11 = eval(so.split('Block LEFTMIX')[1].split()[6])\n",
    "ZL12 = eval(so.split('Block LEFTMIX')[1].split()[11])\n",
    "ZL21 = eval(so.split('Block LEFTMIX')[1].split()[16])\n",
    "ZL22 = eval(so.split('Block LEFTMIX')[1].split()[21])\n",
    "#print(ZL11,ZL12,ZL21,ZL22)\n",
    "\n",
    "ZR11 = eval(so.split('Block RIGHTMIX')[1].split()[6])\n",
    "ZR12 = eval(so.split('Block RIGHTMIX')[1].split()[11])\n",
    "ZR21 = eval(so.split('Block RIGHTMIX')[1].split()[16])\n",
    "ZR22 = eval(so.split('Block RIGHTMIX')[1].split()[21])\n",
    "#print(ZR11,ZR12,ZR21,ZR22)\n",
    "\n",
    "#ZN etR,ss ->ns mixing\n",
    "ZN11 = eval(so.split('Block NEUTRALMIX')[1].split()[6])\n",
    "ZN12 = eval(so.split('Block NEUTRALMIX')[1].split()[11])\n",
    "ZN21 = eval(so.split('Block NEUTRALMIX')[1].split()[16])\n",
    "ZN22 = eval(so.split('Block NEUTRALMIX')[1].split()[21])\n",
    "#print(ZN11,ZN12,ZN21,ZN22)\n",
    "\n",
    "#Masses\n",
    "mv1 = so.split('Fe_3')[1].split()[1]\n",
    "if mv1 == 'NaN':\n",
    "    mv1 = 0.0\n",
    "else:\n",
    "    mv1 = eval(so.split('Fe_3')[1].split()[1])\n",
    "    \n",
    "mv2 = eval(so.split('Fe_3')[1].split()[5])\n",
    "mv3 = eval(so.split('Fe_3')[1].split()[9])\n",
    "mXi_1 = eval(so.split('Fe_3')[1].split()[17])\n",
    "mXi_2 = eval(so.split('Fe_3')[1].split()[21])\n",
    "metI = eval(so.split('Fe_3')[1].split()[25])\n",
    "metp = eval(so.split('Fe_3')[1].split()[29])\n",
    "mns_1 = eval(so.split('Fe_3')[1].split()[33])\n",
    "mns_2 = eval(so.split('Fe_3')[1].split()[37])\n",
    "\n",
    "y.append([ZL11,ZL12,ZL21,ZL22,ZR11,ZR12,ZR21,ZR22,ZN11,ZN12,ZN21,ZN22,YnL11,YnL12,YnL13,YnL21,YnL22,YnL23,\\\n",
    "          YnR11,YnR12,YnR13,YnR21,YnR22,YnR23,mv1,mv2,mv3,mXi_1,mXi_2,metI,metp,mns_1,mns_2])\n",
    "\n",
    "y=np.asarray(y)\n",
    "yd=pd.DataFrame(y,columns=['ZL11','ZL12','ZL21','ZL22','ZR11','ZR12','ZR21','ZR22','ZN11','ZN12','ZN21',\\\n",
    "                           'ZN22','YnL11','YnL12','YnL13','YnL21','YnL22','YnL23','YnR11','YnR12','YnR13',\\\n",
    "                           'YnR21','YnR22','YnR23','mv1','mv2','mv3','mXi_1','mXi_2','metI','metp',\\\n",
    "                           'mns_1','mns_2']) "
   ]
  },
  {
   "cell_type": "code",
   "execution_count": 26,
   "metadata": {},
   "outputs": [
    {
     "data": {
      "text/html": [
       "<div>\n",
       "<style scoped>\n",
       "    .dataframe tbody tr th:only-of-type {\n",
       "        vertical-align: middle;\n",
       "    }\n",
       "\n",
       "    .dataframe tbody tr th {\n",
       "        vertical-align: top;\n",
       "    }\n",
       "\n",
       "    .dataframe thead th {\n",
       "        text-align: right;\n",
       "    }\n",
       "</style>\n",
       "<table border=\"1\" class=\"dataframe\">\n",
       "  <thead>\n",
       "    <tr style=\"text-align: right;\">\n",
       "      <th></th>\n",
       "      <th>mv1</th>\n",
       "      <th>mv2</th>\n",
       "      <th>mv3</th>\n",
       "    </tr>\n",
       "  </thead>\n",
       "  <tbody>\n",
       "    <tr>\n",
       "      <th>0</th>\n",
       "      <td>2.618687e-21</td>\n",
       "      <td>7.103955e-15</td>\n",
       "      <td>5.931690e-13</td>\n",
       "    </tr>\n",
       "  </tbody>\n",
       "</table>\n",
       "</div>"
      ],
      "text/plain": [
       "            mv1           mv2           mv3\n",
       "0  2.618687e-21  7.103955e-15  5.931690e-13"
      ]
     },
     "execution_count": 26,
     "metadata": {},
     "output_type": "execute_result"
    }
   ],
   "source": [
    "yd[['mv1','mv2','mv3']]"
   ]
  },
  {
   "cell_type": "code",
   "execution_count": null,
   "metadata": {},
   "outputs": [],
   "source": []
  },
  {
   "cell_type": "code",
   "execution_count": null,
   "metadata": {},
   "outputs": [],
   "source": []
  },
  {
   "cell_type": "code",
   "execution_count": 27,
   "metadata": {},
   "outputs": [
    {
     "name": "stdout",
     "output_type": "stream",
     "text": [
      "=============================================\n",
      " Experimental values (PMNS) \n",
      "\n",
      "1e-20 8.619719984821483e-12 4.978238409557654e-11\n",
      "=============================================\n",
      " Rutine inversion \n",
      "\n",
      "2.61868715e-21 7.10395517e-15 5.93169034e-13\n",
      "=============================================\n"
     ]
    }
   ],
   "source": [
    "print(\"=============================================\")\n",
    "print(\" Experimental values (PMNS) \\n\")\n",
    "print(mnu1,mnu2,mnu3)\n",
    "print(\"=============================================\")\n",
    "print(\" Rutine inversion \\n\")\n",
    "print(mv1,mv2,mv3)\n",
    "print(\"=============================================\")"
   ]
  },
  {
   "cell_type": "code",
   "execution_count": null,
   "metadata": {},
   "outputs": [],
   "source": []
  },
  {
   "cell_type": "code",
   "execution_count": null,
   "metadata": {},
   "outputs": [],
   "source": []
  },
  {
   "cell_type": "code",
   "execution_count": null,
   "metadata": {},
   "outputs": [],
   "source": []
  },
  {
   "cell_type": "code",
   "execution_count": null,
   "metadata": {},
   "outputs": [],
   "source": []
  },
  {
   "cell_type": "markdown",
   "metadata": {},
   "source": [
    "Neutrino $M_{ij}^{\\nu}$ matrix:"
   ]
  },
  {
   "cell_type": "markdown",
   "metadata": {},
   "source": [
    "\\begin{equation}\n",
    "M_{ik}^{\\nu} = (h_d)^{\\alpha i} \\Lambda^{\\alpha\\beta} (h_e)^{\\beta k}\n",
    "\\end{equation}"
   ]
  },
  {
   "cell_type": "code",
   "execution_count": 19,
   "metadata": {},
   "outputs": [],
   "source": [
    "y=[]\n",
    "\n",
    "for i in range(0,xd.shape[0]):\n",
    "    \n",
    "    a = neutrino_analytic_v2.Mab(xd.ZP22[i],xd.ZP23[i],xd.ZP24[i],xd.ZP25[i],xd.ZP32[i],xd.ZP33[i],xd.ZP34[i],xd.ZP35[i],xd.ZP42[i],xd.ZP43[i],\\\n",
    "                           xd.ZP44[i],xd.ZP45[i],xd.ZP52[i],xd.ZP53[i],xd.ZP54[i],xd.ZP55[i],xd.meD1[i],xd.meD2[i],\\\n",
    "    xd.mH2[i],xd.mH3[i],xd.mH4[i],xd.mH5[i],xd.VL11[i],xd.VL21[i],xd.UL11[i],xd.UL21[i],xd.LD11[i],xd.LD12[i],\\\n",
    "    xd.LD13[i],xd.LD21[i],xd.LD22[i],xd.LD23[i],xd.LE11[i],xd.LE12[i],0.,xd.LE21[i],xd.LE22[i],0.)\n",
    "    \n",
    "    mn1 = a[0]\n",
    "    mn2 = a[1]\n",
    "    mn3 = a[2]\n",
    "    \n",
    "    y.append([mn1,mn2,mn3])\n",
    "\n",
    "y=np.asarray(y)\n",
    "yd=pd.DataFrame(y,columns=['mn1','mn2','mn3'])"
   ]
  },
  {
   "cell_type": "code",
   "execution_count": 20,
   "metadata": {},
   "outputs": [
    {
     "data": {
      "text/html": [
       "<div>\n",
       "<table border=\"1\" class=\"dataframe\">\n",
       "  <thead>\n",
       "    <tr style=\"text-align: right;\">\n",
       "      <th></th>\n",
       "      <th>mn1</th>\n",
       "      <th>mn2</th>\n",
       "      <th>mn3</th>\n",
       "    </tr>\n",
       "  </thead>\n",
       "  <tbody>\n",
       "    <tr>\n",
       "      <th>0</th>\n",
       "      <td>3.713443e-16</td>\n",
       "      <td>3.186668e-10</td>\n",
       "      <td>3.590529e-08</td>\n",
       "    </tr>\n",
       "  </tbody>\n",
       "</table>\n",
       "</div>"
      ],
      "text/plain": [
       "            mn1           mn2           mn3\n",
       "0  3.713443e-16  3.186668e-10  3.590529e-08"
      ]
     },
     "execution_count": 20,
     "metadata": {},
     "output_type": "execute_result"
    }
   ],
   "source": [
    "yd[:2]"
   ]
  },
  {
   "cell_type": "code",
   "execution_count": 18,
   "metadata": {},
   "outputs": [
    {
     "data": {
      "text/html": [
       "<div>\n",
       "<table border=\"1\" class=\"dataframe\">\n",
       "  <thead>\n",
       "    <tr style=\"text-align: right;\">\n",
       "      <th></th>\n",
       "      <th>mnu1</th>\n",
       "      <th>mnu2</th>\n",
       "      <th>mnu3</th>\n",
       "    </tr>\n",
       "  </thead>\n",
       "  <tbody>\n",
       "    <tr>\n",
       "      <th>0</th>\n",
       "      <td>9.575239e-27</td>\n",
       "      <td>5.634659e-10</td>\n",
       "      <td>5.645737e-08</td>\n",
       "    </tr>\n",
       "  </tbody>\n",
       "</table>\n",
       "</div>"
      ],
      "text/plain": [
       "           mnu1          mnu2          mnu3\n",
       "0  9.575239e-27  5.634659e-10  5.645737e-08"
      ]
     },
     "execution_count": 18,
     "metadata": {},
     "output_type": "execute_result"
    }
   ],
   "source": [
    "xd[['mnu1','mnu2','mnu3']][:2]"
   ]
  },
  {
   "cell_type": "code",
   "execution_count": 13,
   "metadata": {},
   "outputs": [],
   "source": [
    "#For good plots\n",
    "plt.rcParams.update({'font.size': 20}) \n",
    "#plt.rc('font',size='18')"
   ]
  },
  {
   "cell_type": "code",
   "execution_count": 14,
   "metadata": {},
   "outputs": [
    {
     "data": {
      "image/png": "[encoded data removed]",
      "text/plain": [
       "<matplotlib.figure.Figure at 0x7f44af64dcc0>"
      ]
     },
     "metadata": {
      "needs_background": "light"
     },
     "output_type": "display_data"
    }
   ],
   "source": [
    "plt.figure(figsize=(8,6))\n",
    "\n",
    "#plt.loglog(xd.mv1,xd.mn1,'bo')\n",
    "plt.loglog(xd.mnu2,yd.mn2,'bo')\n",
    "plt.loglog(xd.mnu3,yd.mn3,'go')\n",
    "\n",
    "a = np.linspace(1e-10,1e-07,20)\n",
    "plt.plot(a,a,'r-')\n",
    "\n",
    "plt.xlabel(r'$m_i$SPHENO (GeV)',size=25)\n",
    "plt.ylabel(r'$m_i$Analytic (GeV)',size=25)\n",
    "plt.legend()\n",
    "\n",
    "plt.grid()\n",
    "\n",
    "plt.tight_layout()\n",
    "#plt.savefig('plots/neutrino_masses_v2.pdf')"
   ]
  },
  {
   "cell_type": "code",
   "execution_count": null,
   "metadata": {},
   "outputs": [],
   "source": []
  },
  {
   "cell_type": "code",
   "execution_count": null,
   "metadata": {},
   "outputs": [],
   "source": []
  }
 ],
 "metadata": {
  "kernelspec": {
   "display_name": "Python 3 (ipykernel)",
   "language": "python",
   "name": "python3"
  },
  "language_info": {
   "codemirror_mode": {
    "name": "ipython",
    "version": 3
   },
   "file_extension": ".py",
   "mimetype": "text/x-python",
   "name": "python",
   "nbconvert_exporter": "python",
   "pygments_lexer": "ipython3",
   "version": "3.9.2"
  }
 },
 "nbformat": 4,
 "nbformat_minor": 1
}
