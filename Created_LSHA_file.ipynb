{
 "cells": [
  {
   "cell_type": "markdown",
   "metadata": {},
   "source": [
    "# Created LSHA file Using pyslha in python3"
   ]
  },
  {
   "cell_type": "code",
   "execution_count": 1,
   "metadata": {},
   "outputs": [],
   "source": [
    "import numpy as np\n",
    "import time\n",
    "\n",
    "%matplotlib inline\n",
    "import matplotlib.pyplot as plt "
   ]
  },
  {
   "cell_type": "code",
   "execution_count": 2,
   "metadata": {
    "collapsed": true
   },
   "outputs": [],
   "source": []
  },
  {
   "cell_type": "markdown",
   "metadata": {
    "collapsed": true
   },
   "source": [
    "# Writing the Leshouches.in file in a compact form"
   ]
  },
  {
   "cell_type": "code",
   "execution_count": 1,
   "metadata": {},
   "outputs": [
    {
     "data": {
      "text/plain": [
       "10"
      ]
     },
     "execution_count": 1,
     "metadata": {},
     "output_type": "execute_result"
    }
   ],
   "source": [
    "int(10.1)"
   ]
  },
  {
   "cell_type": "code",
   "execution_count": null,
   "metadata": {},
   "outputs": [],
   "source": []
  },
  {
   "cell_type": "code",
   "execution_count": 7,
   "metadata": {},
   "outputs": [],
   "source": [
    "import pyslha\n",
    "import pyMDEO_LesHouches_generator\n",
    "\n",
    "#Open xdict which is now a <PySLHA Doc: 10 blocks, 0 decays, 0 xsections>\n",
    "xdict = pyMDEO_LesHouches_generator.buildSLHAinFile()\n",
    "\n",
    "#Modified the xdict elements\n",
    "#Examples\n",
    "xdict.blocks['MINPAR'].entries[2]='%.7E    # MDFInput' %1119\n",
    "\n",
    "#Write the Leshouches file\n",
    "pyslha.writeSLHAFile('LesHouches.in.MDEO_low',xdict)"
   ]
  },
  {
   "cell_type": "code",
   "execution_count": 8,
   "metadata": {},
   "outputs": [
    {
     "data": {
      "text/plain": [
       "1.000000E-01    # lambda1Input\n",
       "  1.1190000E+03    # MDFInput\n",
       "  3.000000E-01    # lambda3Input\n",
       "  4.000000E-02    # lambda4Input\n",
       "  3.000000E-03    # lambda5Input\n",
       "  2.000000E-02    # lambda6Input\n",
       "  3.000000E-02    # lambda7Input\n",
       "  3.000000E-02    # lambda8Input\n",
       "  3.000000E-02    # lambda9Input\n",
       "  1.000000E-01    # lambda10Input\n",
       "  2.000000E-00    # lambda11Input\n",
       "  1.000000E-01    # g1pINPUT\n",
       "  0.000000E+00    # g1p1INPUT\n",
       "  0.000000E+00    # g11pINPUT\n",
       "  2.000000E+08    # mEt2Input\n",
       "  1.000000E+08    # MS2Input\n",
       "  2.000000E+06    # vXinput\n",
       "  1.000000E-02    # Ycinput\n",
       "  2.000000E-02    # muCinput"
      ]
     },
     "execution_count": 8,
     "metadata": {},
     "output_type": "execute_result"
    }
   ],
   "source": [
    "xdict.blocks['MINPAR'].entries"
   ]
  },
  {
   "cell_type": "code",
   "execution_count": 6,
   "metadata": {},
   "outputs": [
    {
     "data": {
      "text/plain": [
       "   1.000000E-02         # YnL(1,1)\n",
       "     2.000000E-02         # YnL(1,2)\n",
       "     1.000000E-01         # YnL(1,3)\n",
       "     2.000000E-02         # YnL(2,1)\n",
       "     3.000000E-03         # YnL(2,2)\n",
       "     2.000000E-02         # YnL(2,3)"
      ]
     },
     "execution_count": 6,
     "metadata": {},
     "output_type": "execute_result"
    }
   ],
   "source": [
    "xdict.blocks['YNLIN'].entries"
   ]
  },
  {
   "cell_type": "code",
   "execution_count": null,
   "metadata": {},
   "outputs": [],
   "source": []
  },
  {
   "cell_type": "code",
   "execution_count": null,
   "metadata": {
    "collapsed": true
   },
   "outputs": [],
   "source": []
  }
 ],
 "metadata": {
  "kernelspec": {
   "display_name": "Python 3 (ipykernel)",
   "language": "python",
   "name": "python3"
  },
  "language_info": {
   "codemirror_mode": {
    "name": "ipython",
    "version": 3
   },
   "file_extension": ".py",
   "mimetype": "text/x-python",
   "name": "python",
   "nbconvert_exporter": "python",
   "pygments_lexer": "ipython3",
   "version": "3.9.2"
  }
 },
 "nbformat": 4,
 "nbformat_minor": 1
}
