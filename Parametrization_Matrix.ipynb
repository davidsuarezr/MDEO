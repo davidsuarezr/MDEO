{
 "cells": [
  {
   "cell_type": "markdown",
   "metadata": {},
   "source": [
    "## Read SPheno.sps.MDEO output"
   ]
  },
  {
   "cell_type": "code",
   "execution_count": 17,
   "metadata": {},
   "outputs": [],
   "source": [
    "import numpy as np\n",
    "import pandas as pd\n",
    "import subprocess\n",
    "import time\n",
    "\n",
    "%matplotlib inline\n",
    "import matplotlib.pyplot as plt "
   ]
  },
  {
   "cell_type": "markdown",
   "metadata": {},
   "source": [
    "Hermitian term:\n",
    "    \n",
    "$\\mathcal{L}_{\\text{mas}} = \\psi^{\\dagger} M \\psi$\n",
    "$\\to$\n",
    "$M_{\\text{diag}}=U^{-1}MU$\n",
    "\n",
    "No hermitian term:\n",
    " \n",
    "$\\mathcal{L}_{\\text{mas}} = \\psi_R^{\\dagger} M \\psi_L = \\psi_1^{\\dagger} M \\psi_2$\n",
    "$\\to$ $\\color{red}{M_{\\text{diag}}^2=V^{-1}MM^TV = U^{-1}M^TMU}$\n",
    "\n",
    "\n",
    "ie. the $V$ and $U$ matricess diagonalize the matrices $MM^T$ and $M^TM$ respectively\n",
    "\n",
    "such that: $\\Psi_1^i=V_{ij}\\psi_1^j$ and $\\Psi_2^i=U_{ij}\\psi_2^j$\n"
   ]
  },
  {
   "cell_type": "code",
   "execution_count": 18,
   "metadata": {},
   "outputs": [
    {
     "name": "stdout",
     "output_type": "stream",
     "text": [
      "1.0 0.0 0.0 1.0\n",
      "1.0 0.0 0.0 1.0\n"
     ]
    }
   ],
   "source": [
    "#ZL ad ZR matrices\n",
    "ZL11 = 1.0\n",
    "ZL12 = 0.0\n",
    "ZL21 = 0.0\n",
    "ZL22 = 1.0\n",
    "print(ZL11,ZL12,ZL21,ZL22)\n",
    "\n",
    "ZR11 = 1.0\n",
    "ZR12 = 0.0\n",
    "ZR21 = 0.0\n",
    "ZR22 = 1.0\n",
    "\n",
    "print(ZR11,ZR12,ZR21,ZR22)"
   ]
  },
  {
   "cell_type": "code",
   "execution_count": 19,
   "metadata": {},
   "outputs": [],
   "source": [
    "XL11=10**(np.random.uniform(np.log10(1.0e-3),np.log10(1.0)))\n",
    "XL12=10**(np.random.uniform(np.log10(1.0e-3),np.log10(1.0)))\n",
    "XL13=10**(np.random.uniform(np.log10(1.0e-3),np.log10(1.0)))\n",
    "XL21=10**(np.random.uniform(np.log10(1.0e-3),np.log10(1.0)))\n",
    "XL22=10**(np.random.uniform(np.log10(1.0e-3),np.log10(1.0)))\n",
    "XL23=10**(np.random.uniform(np.log10(1.0e-3),np.log10(1.0)))\n",
    "XL31=10**(np.random.uniform(np.log10(1.0e-3),np.log10(1.0)))\n",
    "XL32=10**(np.random.uniform(np.log10(1.0e-3),np.log10(1.0)))\n",
    "XL33=10**(np.random.uniform(np.log10(1.0e-3),np.log10(1.0)))"
   ]
  },
  {
   "cell_type": "code",
   "execution_count": 20,
   "metadata": {},
   "outputs": [],
   "source": [
    "XR11=10**(np.random.uniform(np.log10(1.0e-3),np.log10(1.0)))\n",
    "XR12=10**(np.random.uniform(np.log10(1.0e-3),np.log10(1.0)))\n",
    "XR13=10**(np.random.uniform(np.log10(1.0e-3),np.log10(1.0)))\n",
    "XR21=10**(np.random.uniform(np.log10(1.0e-3),np.log10(1.0)))\n",
    "XR22=10**(np.random.uniform(np.log10(1.0e-3),np.log10(1.0)))\n",
    "XR23=10**(np.random.uniform(np.log10(1.0e-3),np.log10(1.0)))\n",
    "XR31=10**(np.random.uniform(np.log10(1.0e-3),np.log10(1.0)))\n",
    "XR32=10**(np.random.uniform(np.log10(1.0e-3),np.log10(1.0)))\n",
    "XR33=10**(np.random.uniform(np.log10(1.0e-3),np.log10(1.0)))"
   ]
  },
  {
   "cell_type": "code",
   "execution_count": 21,
   "metadata": {},
   "outputs": [
    {
     "name": "stdout",
     "output_type": "stream",
     "text": [
      "0.0 0.006835916895423604 0.011530931166948975\n"
     ]
    }
   ],
   "source": [
    "mv1 = 0.0\n",
    "mv2 = 10**(np.random.uniform(np.log10(1.0e-3),np.log10(1.0)))\n",
    "mv3 = mv2+10**(np.random.uniform(np.log10(1.0e-3),np.log10(1.0)))\n",
    "print(mv1,mv2,mv3)"
   ]
  },
  {
   "cell_type": "code",
   "execution_count": 22,
   "metadata": {},
   "outputs": [
    {
     "name": "stdout",
     "output_type": "stream",
     "text": [
      "0.010682009139529486 0.7323466819081612 0.15563067451438176 0.7443255254007021 0.006402653821709001 1.0987980651392792\n"
     ]
    }
   ],
   "source": [
    "#YNL and YNR matrices\n",
    "YnL11 = 10**(np.random.uniform(np.log10(1.0e-2),np.log10(1.0e-1)))\n",
    "YnL12 = 10**(np.random.uniform(np.log10(1.0e-1),np.log(1.0)))\n",
    "YnL13 = 10**(np.random.uniform(np.log10(1.0e-1),np.log10(1.0)))\n",
    "YnL21 = 10**(np.random.uniform(np.log10(1.0e-1),np.log10(1.0)))\n",
    "YnL22 = 10**(np.random.uniform(np.log10(1.0e-2),np.log(1.0e-1)))\n",
    "YnL23 = 10**(np.random.uniform(np.log10(1.0),np.log10(2.0)))\n",
    "\n",
    "print(YnL11,YnL12,YnL13,YnL21,YnL22,YnL23)"
   ]
  },
  {
   "cell_type": "markdown",
   "metadata": {},
   "source": [
    "### Neutrino matriz"
   ]
  },
  {
   "cell_type": "code",
   "execution_count": 23,
   "metadata": {},
   "outputs": [
    {
     "name": "stdout",
     "output_type": "stream",
     "text": [
      "0.011032762501020574 0.002022625636564641\n"
     ]
    }
   ],
   "source": [
    "fk1 = 10**(np.random.uniform(np.log10(1.0e-3),np.log10(1.0)))\n",
    "fk2 = 10**(np.random.uniform(np.log10(1.0e-3),np.log10(1.0)))\n",
    "print(fk1,fk2)"
   ]
  },
  {
   "cell_type": "code",
   "execution_count": 24,
   "metadata": {},
   "outputs": [
    {
     "name": "stdout",
     "output_type": "stream",
     "text": [
      "0.021156956691648885 0.026514207237734875 0.06927272856434552 0.12275396142806176 0.15743221281084363 0.264739955483886\n"
     ]
    }
   ],
   "source": [
    "YnR11=(mv1*XR11*(XL13*YnL13*(YnL21**2.0+YnL22**2.0)-XL13*(YnL11*YnL21+YnL12*YnL22)*YnL23-XL12*YnL22*(YnL11*YnL21+YnL13*YnL23)+XL12*YnL12*(YnL21**2.0+YnL23**2.0)+XL11*(-YnL12*YnL21*YnL22-YnL13*YnL21*YnL23+YnL11*(YnL22**2.0+YnL23**2.0)))+mv2*XR21*(XL23*YnL13*(YnL21**2.0+YnL22**2.0)-XL23*(YnL11*YnL21+YnL12*YnL22)*YnL23-XL22*YnL22*(YnL11*YnL21+YnL13*YnL23)+XL22*YnL12*(YnL21**2.0+YnL23**2.0)+XL21*(-YnL12*YnL21*YnL22-YnL13*YnL21*YnL23+YnL11*(YnL22**2.0+YnL23**2.0)))+mv3*XR31*(XL33*YnL13*(YnL21**2.0+YnL22**2.0)-XL33*(YnL11*YnL21+YnL12*YnL22)*YnL23-XL32*YnL22*(YnL11*YnL21+YnL13*YnL23)+XL32*YnL12*(YnL21**2.0+YnL23**2.0)+XL31*(-YnL12*YnL21*YnL22-YnL13*YnL21*YnL23+YnL11*(YnL22**2.0+YnL23**2.0))))/(fk1*(YnL13**2.0*(YnL21**2.0+YnL22**2.0)-2.0*YnL11*YnL13*YnL21*YnL23-2.0*YnL12*YnL22*(YnL11*YnL21+YnL13*YnL23)+YnL12**2.0*(YnL21**2.0+YnL23**2.0)+YnL11**2.0*(YnL22**2.0+YnL23**2.0)))\n",
    "YnR12=(mv1*XR12*(XL13*YnL13*(YnL21**2.0+YnL22**2.0)-XL13*(YnL11*YnL21+YnL12*YnL22)*YnL23-XL12*YnL22*(YnL11*YnL21+YnL13*YnL23)+XL12*YnL12*(YnL21**2.0+YnL23**2.0)+XL11*(-YnL12*YnL21*YnL22-YnL13*YnL21*YnL23+YnL11*(YnL22**2.0+YnL23**2.0)))+mv2*XR22*(XL23*YnL13*(YnL21**2.0+YnL22**2.0)-XL23*(YnL11*YnL21+YnL12*YnL22)*YnL23-XL22*YnL22*(YnL11*YnL21+YnL13*YnL23)+XL22*YnL12*(YnL21**2.0+YnL23**2.0)+XL21*(-YnL12*YnL21*YnL22-YnL13*YnL21*YnL23+YnL11*(YnL22**2.0+YnL23**2.0)))+mv3*XR32*(XL33*YnL13*(YnL21**2.0+YnL22**2.0)-XL33*(YnL11*YnL21+YnL12*YnL22)*YnL23-XL32*YnL22*(YnL11*YnL21+YnL13*YnL23)+XL32*YnL12*(YnL21**2.0+YnL23**2.0)+XL31*(-YnL12*YnL21*YnL22-YnL13*YnL21*YnL23+YnL11*(YnL22**2.0+YnL23**2.0))))/(fk1*(YnL13**2.0*(YnL21**2.0+YnL22**2.0)-2.0*YnL11*YnL13*YnL21*YnL23-2.0*YnL12*YnL22*(YnL11*YnL21+YnL13*YnL23)+YnL12**2.0*(YnL21**2.0+YnL23**2.0)+YnL11**2.0*(YnL22**2.0+YnL23**2.0)))\n",
    "YnR13=(mv1*XR13*(XL13*YnL13*(YnL21**2.0+YnL22**2.0)-XL13*(YnL11*YnL21+YnL12*YnL22)*YnL23-XL12*YnL22*(YnL11*YnL21+YnL13*YnL23)+XL12*YnL12*(YnL21**2.0+YnL23**2.0)+XL11*(-YnL12*YnL21*YnL22-YnL13*YnL21*YnL23+YnL11*(YnL22**2.0+YnL23**2.0)))+mv2*XR23*(XL23*YnL13*(YnL21**2.0+YnL22**2.0)-XL23*(YnL11*YnL21+YnL12*YnL22)*YnL23-XL22*YnL22*(YnL11*YnL21+YnL13*YnL23)+XL22*YnL12*(YnL21**2.0+YnL23**2.0)+XL21*(-YnL12*YnL21*YnL22-YnL13*YnL21*YnL23+YnL11*(YnL22**2.0+YnL23**2.0)))+mv3*XR33*(XL33*YnL13*(YnL21**2.0+YnL22**2.0)-XL33*(YnL11*YnL21+YnL12*YnL22)*YnL23-XL32*YnL22*(YnL11*YnL21+YnL13*YnL23)+XL32*YnL12*(YnL21**2.0+YnL23**2.0)+XL31*(-YnL12*YnL21*YnL22-YnL13*YnL21*YnL23+YnL11*(YnL22**2.0+YnL23**2.0))))/(fk1*(YnL13**2.0*(YnL21**2.0+YnL22**2.0)-2.0*YnL11*YnL13*YnL21*YnL23-2.0*YnL12*YnL22*(YnL11*YnL21+YnL13*YnL23)+YnL12**2.0*(YnL21**2.0+YnL23**2.0)+YnL11**2.0*(YnL22**2.0+YnL23**2.0)))\n",
    "YnR21=(mv1*XR11*(-XL13*YnL13*(YnL11*YnL21+YnL12*YnL22)+XL13*(YnL11**2.0+YnL12**2.0)*YnL23+XL11*(YnL12**2.0*YnL21+YnL13**2.0*YnL21-YnL11*YnL12*YnL22-YnL11*YnL13*YnL23)+XL12*(-YnL11*YnL12*YnL21+YnL11**2.0*YnL22+YnL13*(YnL13*YnL22-YnL12*YnL23)))+mv2*XR21*(-XL23*YnL13*(YnL11*YnL21+YnL12*YnL22)+XL23*(YnL11**2.0+YnL12**2.0)*YnL23+XL21*(YnL12**2.0*YnL21+YnL13**2.0*YnL21-YnL11*YnL12*YnL22-YnL11*YnL13*YnL23)+XL22*(-YnL11*YnL12*YnL21+YnL11**2.0*YnL22+YnL13*(YnL13*YnL22-YnL12*YnL23)))+mv3*XR31*(-XL33*YnL13*(YnL11*YnL21+YnL12*YnL22)+XL33*(YnL11**2.0+YnL12**2.0)*YnL23+XL31*(YnL12**2.0*YnL21+YnL13**2.0*YnL21-YnL11*YnL12*YnL22-YnL11*YnL13*YnL23)+XL32*(-YnL11*YnL12*YnL21+YnL11**2.0*YnL22+YnL13*(YnL13*YnL22-YnL12*YnL23))))/(fk2*(YnL13**2.0*(YnL21**2.0+YnL22**2.0)-2.0*YnL11*YnL13*YnL21*YnL23-2.0*YnL12*YnL22*(YnL11*YnL21+YnL13*YnL23)+YnL12**2.0*(YnL21**2.0+YnL23**2.0)+YnL11**2.0*(YnL22**2.0+YnL23**2.0)))\n",
    "YnR22=(mv1*XR12*(-XL13*YnL13*(YnL11*YnL21+YnL12*YnL22)+XL13*(YnL11**2.0+YnL12**2.0)*YnL23+XL11*(YnL12**2.0*YnL21+YnL13**2.0*YnL21-YnL11*YnL12*YnL22-YnL11*YnL13*YnL23)+XL12*(-YnL11*YnL12*YnL21+YnL11**2.0*YnL22+YnL13*(YnL13*YnL22-YnL12*YnL23)))+mv2*XR22*(-XL23*YnL13*(YnL11*YnL21+YnL12*YnL22)+XL23*(YnL11**2.0+YnL12**2.0)*YnL23+XL21*(YnL12**2.0*YnL21+YnL13**2.0*YnL21-YnL11*YnL12*YnL22-YnL11*YnL13*YnL23)+XL22*(-YnL11*YnL12*YnL21+YnL11**2.0*YnL22+YnL13*(YnL13*YnL22-YnL12*YnL23)))+mv3*XR32*(-XL33*YnL13*(YnL11*YnL21+YnL12*YnL22)+XL33*(YnL11**2.0+YnL12**2.0)*YnL23+XL31*(YnL12**2.0*YnL21+YnL13**2.0*YnL21-YnL11*YnL12*YnL22-YnL11*YnL13*YnL23)+XL32*(-YnL11*YnL12*YnL21+YnL11**2.0*YnL22+YnL13*(YnL13*YnL22-YnL12*YnL23))))/(fk2*(YnL13**2.0*(YnL21**2.0+YnL22**2.0)-2.0*YnL11*YnL13*YnL21*YnL23-2.0*YnL12*YnL22*(YnL11*YnL21+YnL13*YnL23)+YnL12**2.0*(YnL21**2.0+YnL23**2.0)+YnL11**2.0*(YnL22**2.0+YnL23**2.0)))\n",
    "YnR23=(mv1*XR13*(-XL13*YnL13*(YnL11*YnL21+YnL12*YnL22)+XL13*(YnL11**2.0+YnL12**2.0)*YnL23+XL11*(YnL12**2.0*YnL21+YnL13**2.0*YnL21-YnL11*YnL12*YnL22-YnL11*YnL13*YnL23)+XL12*(-YnL11*YnL12*YnL21+YnL11**2.0*YnL22+YnL13*(YnL13*YnL22-YnL12*YnL23)))+mv2*XR23*(-XL23*YnL13*(YnL11*YnL21+YnL12*YnL22)+XL23*(YnL11**2.0+YnL12**2.0)*YnL23+XL21*(YnL12**2.0*YnL21+YnL13**2.0*YnL21-YnL11*YnL12*YnL22-YnL11*YnL13*YnL23)+XL22*(-YnL11*YnL12*YnL21+YnL11**2.0*YnL22+YnL13*(YnL13*YnL22-YnL12*YnL23)))+mv3*XR33*(-XL33*YnL13*(YnL11*YnL21+YnL12*YnL22)+XL33*(YnL11**2.0+YnL12**2.0)*YnL23+XL31*(YnL12**2.0*YnL21+YnL13**2.0*YnL21-YnL11*YnL12*YnL22-YnL11*YnL13*YnL23)+XL32*(-YnL11*YnL12*YnL21+YnL11**2.0*YnL22+YnL13*(YnL13*YnL22-YnL12*YnL23))))/(fk2*(YnL13**2.0*(YnL21**2.0+YnL22**2.0)-2.0*YnL11*YnL13*YnL21*YnL23-2.0*YnL12*YnL22*(YnL11*YnL21+YnL13*YnL23)+YnL12**2.0*(YnL21**2.0+YnL23**2.0)+YnL11**2.0*(YnL22**2.0+YnL23**2.0)))\n",
    "print(YnR11,YnR12,YnR13,YnR21,YnR22,YnR23)"
   ]
  },
  {
   "cell_type": "code",
   "execution_count": 25,
   "metadata": {},
   "outputs": [],
   "source": [
    "#Element M11 modifications\n",
    "M11 = YnL11*YnR11*(ZR11*ZL11*fk1 + ZR12*ZL12*fk2) + YnL21*YnR21*(ZR21*ZL21*fk1 + ZR22*ZL22*fk2)\n",
    "M12 = YnL11*YnR12*(ZR11*ZL11*fk1 + ZR12*ZL12*fk2) + YnL21*YnR22*(ZR21*ZL21*fk1 + ZR22*ZL22*fk2)\n",
    "M13 = YnL11*YnR13*(ZR11*ZL11*fk1 + ZR12*ZL12*fk2) + YnL21*YnR23*(ZR21*ZL21*fk1 + ZR22*ZL22*fk2)\n",
    "\n",
    "M21 = YnL12*YnR11*(ZR11*ZL11*fk1 + ZR12*ZL12*fk2) + YnL22*YnR21*(ZR21*ZL21*fk1 + ZR22*ZL22*fk2)\n",
    "M22 = YnL12*YnR22*(ZR11*ZL11*fk1 + ZR12*ZL12*fk2) + YnL22*YnR22*(ZR21*ZL21*fk1 + ZR22*ZL22*fk2)\n",
    "M23 = YnL12*YnR23*(ZR11*ZL11*fk1 + ZR12*ZL12*fk2) + YnL22*YnR23*(ZR21*ZL21*fk1 + ZR22*ZL22*fk2)\n",
    "\n",
    "M31 = YnL13*YnR11*(ZR11*ZL11*fk1 + ZR12*ZL12*fk2) + YnL23*YnR21*(ZR21*ZL21*fk1 + ZR22*ZL22*fk2)\n",
    "M32 = YnL13*YnR22*(ZR11*ZL11*fk1 + ZR12*ZL12*fk2) + YnL23*YnR22*(ZR21*ZL21*fk1 + ZR22*ZL22*fk2)\n",
    "M33 = YnL13*YnR23*(ZR11*ZL11*fk1 + ZR12*ZL12*fk2) + YnL23*YnR23*(ZR21*ZL21*fk1 + ZR22*ZL22*fk2)"
   ]
  },
  {
   "cell_type": "code",
   "execution_count": 26,
   "metadata": {},
   "outputs": [],
   "source": [
    "Mvij = np.matrix( [[M11, M12,M13],\n",
    "           [M21, M22,M23],\n",
    "           [M31, M32,M33]] )\n",
    "\n",
    "#eigenvalues e eigenvectors\n",
    "(Mdiag2,V)=np.linalg.eig(Mvij*np.transpose(Mvij))"
   ]
  },
  {
   "cell_type": "code",
   "execution_count": 27,
   "metadata": {},
   "outputs": [],
   "source": [
    "MX1 = np.sqrt(np.abs(Mdiag2[0]))\n",
    "MX2 = np.sqrt(np.abs(Mdiag2[1]))\n",
    "MX3 = np.sqrt(np.abs(Mdiag2[2]))"
   ]
  },
  {
   "cell_type": "code",
   "execution_count": 28,
   "metadata": {},
   "outputs": [
    {
     "name": "stdout",
     "output_type": "stream",
     "text": [
      "2.4343823029197654e-06 0.0004845050721347651 0.005660613732189045\n"
     ]
    }
   ],
   "source": [
    "print(MX2*2.0,MX3*2.0,MX1*2.0)\n",
    "#print(V)"
   ]
  },
  {
   "cell_type": "code",
   "execution_count": 29,
   "metadata": {},
   "outputs": [
    {
     "name": "stdout",
     "output_type": "stream",
     "text": [
      "mv1 = 0.0 mv2 = 0.006835916895423604 mv3 = 0.011530931166948975\n"
     ]
    }
   ],
   "source": [
    "#Spheno Output\n",
    "print('mv1 =',mv1,'mv2 =',mv2,'mv3 =',mv3)"
   ]
  },
  {
   "cell_type": "code",
   "execution_count": null,
   "metadata": {},
   "outputs": [],
   "source": []
  }
 ],
 "metadata": {
  "kernelspec": {
   "display_name": "Python 3",
   "language": "python",
   "name": "python3"
  },
  "language_info": {
   "codemirror_mode": {
    "name": "ipython",
    "version": 3
   },
   "file_extension": ".py",
   "mimetype": "text/x-python",
   "name": "python",
   "nbconvert_exporter": "python",
   "pygments_lexer": "ipython3",
   "version": "3.11.2"
  }
 },
 "nbformat": 4,
 "nbformat_minor": 1
}
