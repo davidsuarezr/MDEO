{
 "cells": [
  {
   "cell_type": "code",
   "execution_count": 78,
   "id": "9badf711",
   "metadata": {},
   "outputs": [],
   "source": [
    "import numpy as np\n",
    "import pandas as pd\n",
    "import subprocess\n",
    "import time\n",
    "import sys\n",
    "\n",
    "%matplotlib inline\n",
    "import matplotlib.pyplot as plt \n",
    "\n",
    "#latex\n",
    "plt.rc('text', usetex = True)\n",
    "plt.rc('font', family = 'serif')"
   ]
  },
  {
   "cell_type": "markdown",
   "id": "b98b888d",
   "metadata": {},
   "source": [
    "\\begin{equation}\n",
    "\\label{eq:RelicAbundance}\n",
    "\\Omega_{\\chi} h^{2} \\approx \\frac{2.08 \\times 10^{9}\\, x_{f}\\,\\,\\text{GeV}^{-1}}{M_{\\mathrm{Pl}} \\sqrt{g_{*}(T_f)}\\left(a+3 b / x_{f}\\right)}\\,,\n",
    "\\end{equation}"
   ]
  },
  {
   "cell_type": "markdown",
   "id": "45393f4b",
   "metadata": {},
   "source": [
    "\\begin{equation}\n",
    "\\label{eq:sigmav}\n",
    "\\langle\\sigma{v}\\rangle\\approx a=\\frac{g^4_D\\, B^2}{16\\pi m_{\\Psi_1}^2}\\frac{(1-r^2)^{\\frac{3}{2}}}{(1-r^2/2)^2}\\,,\n",
    "\\end{equation}\n",
    "\n",
    "$r=\\frac{m_{Z'}}{m_{\\Psi_1}}<1$"
   ]
  },
  {
   "cell_type": "code",
   "execution_count": 23,
   "id": "7a6a9dd0",
   "metadata": {},
   "outputs": [],
   "source": [
    "B=10\n",
    "MPl=1.22e19\n",
    "gs=80\n",
    "xf=25"
   ]
  },
  {
   "cell_type": "code",
   "execution_count": 38,
   "id": "d063afcf",
   "metadata": {},
   "outputs": [],
   "source": [
    "gD=1\n",
    "m=1"
   ]
  },
  {
   "cell_type": "code",
   "execution_count": 39,
   "id": "82df0b53",
   "metadata": {},
   "outputs": [
    {
     "data": {
      "text/plain": [
       "2.395346662387658e-10"
      ]
     },
     "execution_count": 39,
     "metadata": {},
     "output_type": "execute_result"
    }
   ],
   "source": [
    "2.08*1e9*xf/(MPl*np.sqrt(gs)*(gD**4*B**2/(16.*np.pi*m**2)))"
   ]
  },
  {
   "cell_type": "code",
   "execution_count": 40,
   "id": "e2ac5460",
   "metadata": {},
   "outputs": [
    {
     "data": {
      "text/plain": [
       "2.395346662387658e-10"
      ]
     },
     "execution_count": 40,
     "metadata": {},
     "output_type": "execute_result"
    }
   ],
   "source": [
    "2.395346662387658e-10*m**2/gD**4"
   ]
  },
  {
   "cell_type": "code",
   "execution_count": 59,
   "id": "518c3d7d",
   "metadata": {},
   "outputs": [],
   "source": [
    "def DM(m,gD):\n",
    "    return 2.395346662387658e-10*m**2/gD**4"
   ]
  },
  {
   "cell_type": "code",
   "execution_count": 60,
   "id": "9efc2762",
   "metadata": {},
   "outputs": [
    {
     "data": {
      "text/plain": [
       "0.14970916639922857"
      ]
     },
     "execution_count": 60,
     "metadata": {},
     "output_type": "execute_result"
    }
   ],
   "source": [
    "DM(1000,0.2)"
   ]
  },
  {
   "cell_type": "code",
   "execution_count": 67,
   "id": "7e9b0c18",
   "metadata": {},
   "outputs": [],
   "source": [
    "#Function to return gD that gives the Omega=0.12\n",
    "def RD(m):\n",
    "    gD = (2.395346662387658e-10*m**2/0.12)**(1/4)\n",
    "    return gD"
   ]
  },
  {
   "cell_type": "code",
   "execution_count": 72,
   "id": "378d5626",
   "metadata": {},
   "outputs": [
    {
     "data": {
      "text/plain": [
       "0.13368318308756372"
      ]
     },
     "execution_count": 72,
     "metadata": {},
     "output_type": "execute_result"
    }
   ],
   "source": [
    "RD(400)"
   ]
  },
  {
   "cell_type": "code",
   "execution_count": 92,
   "id": "7a41f1f0",
   "metadata": {},
   "outputs": [
    {
     "name": "stdout",
     "output_type": "stream",
     "text": [
      "0.108 0.12 0.132\n"
     ]
    }
   ],
   "source": [
    "#Experimental values for DM:Planck results 2018\n",
    "e = 10\n",
    "Omega = 0.1200\n",
    "Omega_min=Omega - e*0.0012\n",
    "Omega_max=Omega + e*0.0012\n",
    "print( Omega_min, Omega,Omega_max)"
   ]
  },
  {
   "cell_type": "code",
   "execution_count": 156,
   "id": "741a2bd6",
   "metadata": {},
   "outputs": [],
   "source": [
    "n=np.arange(1,2000,10)"
   ]
  },
  {
   "cell_type": "code",
   "execution_count": 157,
   "id": "c8a8426b",
   "metadata": {},
   "outputs": [
    {
     "data": {
      "image/png": "[encoded data removed]",
      "text/plain": [
       "<Figure size 600x400 with 1 Axes>"
      ]
     },
     "metadata": {},
     "output_type": "display_data"
    }
   ],
   "source": [
    "plt.figure(figsize=(6,4))\n",
    "\n",
    "plt.semilogy(n,RD(n),'b.',label=r'$\\Omega h^2=0.12$')\n",
    "\n",
    "plt.hlines(0.3,1,3e3, 'r',label=r'0.3')\n",
    "plt.hlines(0.2,1,3e3, 'm',label=r'0.2')\n",
    "\n",
    "plt.xlabel(r'$m_{\\Psi_1}$ (GeV)',size=20)\n",
    "plt.ylabel(r'$g_D$',size=20)\n",
    "plt.legend(prop={'size':14},shadow=True,loc='lower right')\n",
    "\n",
    "#plt.ylim(4e-2,Omega_max+0.003)\n",
    "#plt.xlim(1, 1e4)\n",
    "plt.tight_layout()\n"
   ]
  },
  {
   "cell_type": "markdown",
   "id": "870988f2",
   "metadata": {},
   "source": [
    "General case: This is the gD vs m thar reproduce the DM relic density"
   ]
  },
  {
   "cell_type": "code",
   "execution_count": 173,
   "id": "7b713eda",
   "metadata": {},
   "outputs": [],
   "source": [
    "def gD(xf,gs,m):\n",
    "    MPl=1.22e19\n",
    "    B=9\n",
    "    gd = (2.08e9*xf*16.*np.pi*m**2/(MPl*np.sqrt(gs)*B**2*0.12))**(1/4)\n",
    "    return gd"
   ]
  },
  {
   "cell_type": "code",
   "execution_count": 174,
   "id": "f2f61e0d",
   "metadata": {},
   "outputs": [
    {
     "data": {
      "text/plain": [
       "0.3859101087086547"
      ]
     },
     "execution_count": 174,
     "metadata": {},
     "output_type": "execute_result"
    }
   ],
   "source": [
    "gD(25,80,3000)"
   ]
  },
  {
   "cell_type": "code",
   "execution_count": 177,
   "id": "fe3c26ee",
   "metadata": {},
   "outputs": [
    {
     "data": {
      "image/png": "[encoded data removed]",
      "text/plain": [
       "<Figure size 600x400 with 1 Axes>"
      ]
     },
     "metadata": {},
     "output_type": "display_data"
    }
   ],
   "source": [
    "plt.figure(figsize=(6,4))\n",
    "\n",
    "plt.semilogy(n, gD(30,90,n),'b.',label=r'$\\Omega h^2=0.12\\, g^*=90$')\n",
    "#plt.semilogy(n, gD(25,10,n),'g.',label=r'$\\Omega h^2=0.12\\, g^*=10$')\n",
    "#plt.plot(yd.mChi,yd.Omega1,'ro')\n",
    "\n",
    "plt.hlines(0.3,1,1e3, 'r',label=r'0.3')\n",
    "plt.hlines(0.2,1,1e3, 'm',label=r'0.2')\n",
    "\n",
    "plt.xlabel(r'$m_{\\Psi_1}$ (GeV)',size=20)\n",
    "plt.ylabel(r'$g_D$',size=20)\n",
    "plt.legend(prop={'size':14},shadow=True,loc='lower right')\n",
    "plt.grid()\n",
    "\n",
    "#plt.ylim(4e-2,Omega_max+0.003)\n",
    "plt.xlim(0.1, 1e2)\n",
    "plt.tight_layout()"
   ]
  },
  {
   "cell_type": "code",
   "execution_count": 166,
   "id": "8d54180e",
   "metadata": {},
   "outputs": [
    {
     "data": {
      "text/plain": [
       "0.03142696805273544"
      ]
     },
     "execution_count": 166,
     "metadata": {},
     "output_type": "execute_result"
    }
   ],
   "source": [
    "4*0.1/(9*np.sqrt(2))"
   ]
  },
  {
   "cell_type": "code",
   "execution_count": 169,
   "id": "ece62972",
   "metadata": {},
   "outputs": [
    {
     "data": {
      "text/plain": [
       "399.99969951551213"
      ]
     },
     "execution_count": 169,
     "metadata": {},
     "output_type": "execute_result"
    }
   ],
   "source": [
    "5656.85*0.1/np.sqrt(2)"
   ]
  },
  {
   "cell_type": "code",
   "execution_count": 171,
   "id": "470fbfbc",
   "metadata": {},
   "outputs": [
    {
     "data": {
      "text/plain": [
       "0.001964186978815261"
      ]
     },
     "execution_count": 171,
     "metadata": {},
     "output_type": "execute_result"
    }
   ],
   "source": [
    "100/(5656.85*9)"
   ]
  },
  {
   "cell_type": "code",
   "execution_count": 172,
   "id": "57e5834f",
   "metadata": {},
   "outputs": [
    {
     "data": {
      "text/plain": [
       "0.001964185503295965"
      ]
     },
     "execution_count": 172,
     "metadata": {},
     "output_type": "execute_result"
    }
   ],
   "source": [
    "0.1/(36*np.sqrt(2))"
   ]
  },
  {
   "cell_type": "code",
   "execution_count": 159,
   "id": "b68d9281",
   "metadata": {},
   "outputs": [],
   "source": [
    "yd = pd.read_csv('limit-noKM-xd_scan-01.csv')"
   ]
  },
  {
   "cell_type": "code",
   "execution_count": 163,
   "id": "a84dbfe8",
   "metadata": {},
   "outputs": [
    {
     "data": {
      "text/html": [
       "<div>\n",
       "<style scoped>\n",
       "    .dataframe tbody tr th:only-of-type {\n",
       "        vertical-align: middle;\n",
       "    }\n",
       "\n",
       "    .dataframe tbody tr th {\n",
       "        vertical-align: top;\n",
       "    }\n",
       "\n",
       "    .dataframe thead th {\n",
       "        text-align: right;\n",
       "    }\n",
       "</style>\n",
       "<table border=\"1\" class=\"dataframe\">\n",
       "  <thead>\n",
       "    <tr style=\"text-align: right;\">\n",
       "      <th></th>\n",
       "      <th>mChi</th>\n",
       "      <th>MZp</th>\n",
       "    </tr>\n",
       "  </thead>\n",
       "  <tbody>\n",
       "    <tr>\n",
       "      <th>0</th>\n",
       "      <td>87.208933</td>\n",
       "      <td>1000.0</td>\n",
       "    </tr>\n",
       "  </tbody>\n",
       "</table>\n",
       "</div>"
      ],
      "text/plain": [
       "        mChi     MZp\n",
       "0  87.208933  1000.0"
      ]
     },
     "execution_count": 163,
     "metadata": {},
     "output_type": "execute_result"
    }
   ],
   "source": [
    "yd[['mChi','MZp']]"
   ]
  },
  {
   "cell_type": "code",
   "execution_count": null,
   "id": "ddeaa0b6",
   "metadata": {},
   "outputs": [],
   "source": []
  },
  {
   "cell_type": "code",
   "execution_count": 5,
   "id": "afe30cc1",
   "metadata": {},
   "outputs": [
    {
     "data": {
      "text/plain": [
       "0.07856742013183861"
      ]
     },
     "execution_count": 5,
     "metadata": {},
     "output_type": "execute_result"
    }
   ],
   "source": [
    "1/(9*(2.0)**(0.5))"
   ]
  },
  {
   "cell_type": "code",
   "execution_count": 7,
   "id": "ee83539c",
   "metadata": {},
   "outputs": [
    {
     "data": {
      "text/plain": [
       "0.08333333333333333"
      ]
     },
     "execution_count": 7,
     "metadata": {},
     "output_type": "execute_result"
    }
   ],
   "source": [
    "1/12"
   ]
  },
  {
   "cell_type": "code",
   "execution_count": null,
   "id": "a333061b",
   "metadata": {},
   "outputs": [],
   "source": []
  }
 ],
 "metadata": {
  "kernelspec": {
   "display_name": "Python 3 (ipykernel)",
   "language": "python",
   "name": "python3"
  },
  "language_info": {
   "codemirror_mode": {
    "name": "ipython",
    "version": 3
   },
   "file_extension": ".py",
   "mimetype": "text/x-python",
   "name": "python",
   "nbconvert_exporter": "python",
   "pygments_lexer": "ipython3",
   "version": "3.11.2"
  }
 },
 "nbformat": 4,
 "nbformat_minor": 5
}
