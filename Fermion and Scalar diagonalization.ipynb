{
 "cells": [
  {
   "cell_type": "code",
   "execution_count": 1,
   "id": "f5f046c3",
   "metadata": {},
   "outputs": [],
   "source": [
    "import numpy as np\n",
    "import pandas as pd\n",
    "import subprocess\n",
    "import time\n",
    "\n",
    "%matplotlib inline\n",
    "import matplotlib.pyplot as plt "
   ]
  },
  {
   "cell_type": "code",
   "execution_count": 2,
   "id": "f3403cc4",
   "metadata": {},
   "outputs": [],
   "source": [
    "import pyslha\n",
    "import pyMDEO_LesHouches_generator\n",
    "\n",
    "#Open xdict which is now a <PySLHA Doc: 10 blocks, 0 decays, 0 xsections>\n",
    "xdict = pyMDEO_LesHouches_generator.buildSLHAinFile()\n",
    "\n",
    "#Modified the xdict elements\n",
    "#xdict.blocks['SPHENOINPUT'].entries[55]='%i           # Calculate loop corrected masses'%0\n",
    "\n",
    "#Fermion matrix\n",
    "Lam1 = 2.225000E-01 \n",
    "Lam2 = 2.100000E-02\n",
    "Lam3 = 3.000000E-02\n",
    "Lam4 = 4.000000E-02\n",
    "Lam7 = 3.000000E-02\n",
    "Lam9 = 3.000000E-02\n",
    "Lam10 = 1.000000E-02\n",
    "vX = 5.2E3\n",
    "VEV =246.220569\n",
    "muC = 4.110000E+02 \n",
    "MS2 = 4.020000E+08\n",
    "Mn2 = 4.030000E+08\n",
    "\n",
    "xdict.blocks['MINPAR'].entries[1]='%.6E    # lambda1Input'%Lam1\n",
    "xdict.blocks['MINPAR'].entries[2]='%.6E    # lambda2Input'%Lam2\n",
    "xdict.blocks['MINPAR'].entries[3]='%.6E    # lambda3Input'%Lam3\n",
    "xdict.blocks['MINPAR'].entries[4]='%.6E    # lambda4Input'%Lam4\n",
    "xdict.blocks['MINPAR'].entries[7]='%.6E    # lambda7Input'%Lam7\n",
    "xdict.blocks['MINPAR'].entries[9]='%.6E    # lambda9Input'%Lam9\n",
    "xdict.blocks['MINPAR'].entries[10]='%.6E    # lambda10Input'%Lam10\n",
    "xdict.blocks['MINPAR'].entries[23]='%.6E    # mEt2Input'%Mn2\n",
    "xdict.blocks['MINPAR'].entries[24]='%.6E    # MS2Input'%MS2\n",
    "xdict.blocks['MINPAR'].entries[30]='%.6E    # vXinput'%vX\n",
    "xdict.blocks['MINPAR'].entries[32]='%.6E    # muCinput'%muC\n",
    "\n",
    "YX11 = 0.11\n",
    "YX12 = 0.0011\n",
    "YX21 = 0.02\n",
    "YX22 = 0.32\n",
    "xdict.blocks['YXIN'].entries[1,1]='%.6E    # YX(1,1)'%YX11\n",
    "xdict.blocks['YXIN'].entries[1,2]='%.6E    # YX(1,2)'%YX12\n",
    "xdict.blocks['YXIN'].entries[2,1]='%.6E    # YX(2,1)'%YX21\n",
    "xdict.blocks['YXIN'].entries[2,2]='%.6E    # YX(2,2)'%YX22\n",
    "\n",
    "#Write the Leshouches file\n",
    "pyslha.writeSLHAFile('LesHouches.in.MDEO_low',xdict)"
   ]
  },
  {
   "cell_type": "code",
   "execution_count": 3,
   "id": "f0168944",
   "metadata": {},
   "outputs": [],
   "source": [
    "spheno = subprocess.getoutput('../.././SPheno-4.0.5/bin/SPhenoMDEO LesHouches.in.MDEO_low')\n",
    "so = subprocess.getoutput('cat SPheno.spc.MDEO')"
   ]
  },
  {
   "cell_type": "code",
   "execution_count": 4,
   "id": "73667c57",
   "metadata": {},
   "outputs": [
    {
     "name": "stdout",
     "output_type": "stream",
     "text": [
      "-0.999605012 0.028103744 -0.028103744 -0.999605012\n",
      "0.997406769 -0.0719703846 0.0719703846 0.997406769\n",
      "403.284405 1179.33288 20085.0124 20084.9822 20053.2815 20085.0624\n"
     ]
    }
   ],
   "source": [
    "#ZL ad ZR matrices\n",
    "ZL11 = eval(so.split('Block LEFTMIX')[1].split()[6])\n",
    "ZL12 = eval(so.split('Block LEFTMIX')[1].split()[11])\n",
    "ZL21 = eval(so.split('Block LEFTMIX')[1].split()[16])\n",
    "ZL22 = eval(so.split('Block LEFTMIX')[1].split()[21])\n",
    "print(ZL11,ZL12,ZL21,ZL22)\n",
    "\n",
    "ZR11 = eval(so.split('Block RIGHTMIX')[1].split()[6])\n",
    "ZR12 = eval(so.split('Block RIGHTMIX')[1].split()[11])\n",
    "ZR21 = eval(so.split('Block RIGHTMIX')[1].split()[16])\n",
    "ZR22 = eval(so.split('Block RIGHTMIX')[1].split()[21])\n",
    "print(ZR11,ZR12,ZR21,ZR22)\n",
    "\n",
    "#ZN etR,ss ->ns mixing\n",
    "ZN11 = eval(so.split('Block NEUTRALMIX')[1].split()[6])\n",
    "ZN12 = eval(so.split('Block NEUTRALMIX')[1].split()[11])\n",
    "ZN21 = eval(so.split('Block NEUTRALMIX')[1].split()[16])\n",
    "ZN22 = eval(so.split('Block NEUTRALMIX')[1].split()[21])\n",
    "#print(ZN11,ZN12,ZN21,ZN22)\n",
    "\n",
    "mXi_1 = eval(so.split('Fe_3')[1].split()[17])\n",
    "mXi_2 = eval(so.split('Fe_3')[1].split()[21])\n",
    "metI = eval(so.split('Fe_3')[1].split()[25])\n",
    "metp = eval(so.split('Fe_3')[1].split()[29])\n",
    "mns_1 = eval(so.split('Fe_3')[1].split()[33])\n",
    "mns_2 = eval(so.split('Fe_3')[1].split()[37])\n",
    "print(mXi_1,mXi_2,metI,metp,mns_1,mns_2)"
   ]
  },
  {
   "cell_type": "markdown",
   "id": "1742c48f",
   "metadata": {},
   "source": [
    "# Fermion diagonalization"
   ]
  },
  {
   "cell_type": "code",
   "execution_count": 5,
   "id": "14cd8c8d",
   "metadata": {},
   "outputs": [],
   "source": [
    "def MATFermionXi(YX11,YX12,YX21,YX22,vX):\n",
    "    \n",
    "    dcOut={}\n",
    "    \n",
    "    MF = (-vX/np.sqrt(2.))*np.matrix([[YX11,YX12],[YX21,YX22]])\n",
    "\n",
    "    (MVdiag2,V)=np.linalg.eig(MF*np.transpose(MF))\n",
    "\n",
    "    (MUdiag2,U)=np.linalg.eig(np.transpose(MF)*MF)\n",
    "    \n",
    "    if np.sqrt(np.abs(MVdiag2[0])) < np.sqrt(np.abs(MVdiag2[1])):\n",
    "        \n",
    "        M1=np.sqrt(np.abs(MVdiag2[0]))\n",
    "        M2=np.sqrt(np.abs(MVdiag2[1]))\n",
    "        V11=V[0,0]\n",
    "        V12=V[0,1]\n",
    "        V21=V[1,0]\n",
    "        V22=V[1,1]\n",
    "        U11=U[0,0]\n",
    "        U12=U[0,1]\n",
    "        U21=U[1,0]\n",
    "        U22=U[1,1]\n",
    "        \n",
    "    else:\n",
    "        \n",
    "        M1=np.sqrt(np.abs(MVdiag2[1]))\n",
    "        M2=np.sqrt(np.abs(MVdiag2[0]))\n",
    "        V11=V[1,0]\n",
    "        V12=V[1,1]\n",
    "        V21=V[0,0]\n",
    "        V22=V[0,1]\n",
    "        U11=U[1,0]\n",
    "        U12=U[1,1]\n",
    "        U21=U[0,0]\n",
    "        U22=U[0,1]\n",
    "    \n",
    "    dcOut['M1']= M1\n",
    "    dcOut['M2']= M2  \n",
    "    dcOut['V11']= V11 \n",
    "    dcOut['V12']= V12 \n",
    "    dcOut['V21']= V21 \n",
    "    dcOut['V22']= V22 \n",
    "    dcOut['U11']= U11 \n",
    "    dcOut['U12']= U12 \n",
    "    dcOut['U21']= U21 \n",
    "    dcOut['U22']= U22 \n",
    "            \n",
    "    return dcOut"
   ]
  },
  {
   "cell_type": "code",
   "execution_count": 6,
   "id": "0fa3ab00",
   "metadata": {},
   "outputs": [
    {
     "data": {
      "text/plain": [
       "{'M1': 403.2844051540688,\n",
       " 'M2': 1179.3328825058381,\n",
       " 'V11': -0.9996050117797957,\n",
       " 'V12': -0.028103743962590196,\n",
       " 'V21': 0.028103743962590196,\n",
       " 'V22': -0.9996050117797957,\n",
       " 'U11': -0.997406769444537,\n",
       " 'U12': -0.07197038464682774,\n",
       " 'U21': 0.07197038464682774,\n",
       " 'U22': -0.997406769444537}"
      ]
     },
     "execution_count": 6,
     "metadata": {},
     "output_type": "execute_result"
    }
   ],
   "source": [
    "MATFermionXi(YX11,YX12,YX21,YX22,vX)"
   ]
  },
  {
   "cell_type": "code",
   "execution_count": 7,
   "id": "137b9fa7",
   "metadata": {},
   "outputs": [
    {
     "name": "stdout",
     "output_type": "stream",
     "text": [
      "403.284405 1179.33288\n",
      "-0.999605012 0.028103744 -0.028103744 -0.999605012\n",
      "0.997406769 -0.0719703846 0.0719703846 0.997406769\n"
     ]
    }
   ],
   "source": [
    "print(mXi_1,mXi_2)\n",
    "print(ZL11,ZL12,ZL21,ZL22)\n",
    "print(ZR11,ZR12,ZR21,ZR22)"
   ]
  },
  {
   "cell_type": "code",
   "execution_count": 8,
   "id": "920567a7",
   "metadata": {},
   "outputs": [],
   "source": [
    "MXI = MATFermionXi(YX11,YX12,YX21,YX22,vX)"
   ]
  },
  {
   "cell_type": "markdown",
   "id": "9fbc185b",
   "metadata": {},
   "source": [
    "Check! Take care with the signs... working!!!"
   ]
  },
  {
   "cell_type": "code",
   "execution_count": 9,
   "id": "85e539c4",
   "metadata": {},
   "outputs": [
    {
     "data": {
      "text/plain": [
       "matrix([[ 2.20204299e-10,  3.74098044e-11],\n",
       "        [-3.74098044e-11,  2.20204299e-10]])"
      ]
     },
     "execution_count": 9,
     "metadata": {},
     "output_type": "execute_result"
    }
   ],
   "source": [
    "np.matrix([[MXI['V11']-ZL11, MXI['V12']+ZL12],[MXI['V21']+ZL21, MXI['V22']-ZL22]])"
   ]
  },
  {
   "cell_type": "markdown",
   "id": "1c5f3163",
   "metadata": {},
   "source": [
    "# Scalar diagonalization"
   ]
  },
  {
   "cell_type": "code",
   "execution_count": 15,
   "id": "6285abd8",
   "metadata": {},
   "outputs": [],
   "source": [
    "def MATSalarS0(l3,l4,l7,l9,l10,vX,VEV,muC,MS2,Mn2):\n",
    "    \n",
    "    dcOut={}\n",
    "    \n",
    "    MS = np.matrix([[0.5*((l3+l4)*VEV**2 + l7*vX**2) + Mn2, -0.5*VEV*muC],[-0.5*VEV*muC, 0.5*(l10*vX**2+l9*VEV**2) + MS2]])\n",
    "\n",
    "    (MVdiag2,V)=np.linalg.eig(MS)\n",
    "    \n",
    "    if np.abs(MVdiag2[0]) < np.abs(MVdiag2[1]):\n",
    "        \n",
    "        M1=np.sqrt(np.abs(MVdiag2[0]))\n",
    "        M2=np.sqrt(np.abs(MVdiag2[1]))\n",
    "        V11=V[0,0]\n",
    "        V12=V[0,1]\n",
    "        V21=V[1,0]\n",
    "        V22=V[1,1]\n",
    "        \n",
    "    else:\n",
    "        \n",
    "        M1=np.sqrt(np.abs(MVdiag2[1]))\n",
    "        M2=np.sqrt(np.abs(MVdiag2[0]))\n",
    "        V11=V[1,0]\n",
    "        V12=V[1,1]\n",
    "        V21=V[0,0]\n",
    "        V22=V[0,1]\n",
    "    \n",
    "    dcOut['M1']= M1\n",
    "    dcOut['M2']= M2  \n",
    "    dcOut['V11']= V11 \n",
    "    dcOut['V12']= V12 \n",
    "    dcOut['V21']= V21 \n",
    "    dcOut['V22']= V22 \n",
    "            \n",
    "    return dcOut"
   ]
  },
  {
   "cell_type": "code",
   "execution_count": 16,
   "id": "44ce0956",
   "metadata": {},
   "outputs": [
    {
     "data": {
      "text/plain": [
       "{'M1': 20053.281507132742,\n",
       " 'M2': 20085.062410261955,\n",
       " 'V11': -0.03969656485854936,\n",
       " 'V12': 0.9992117807244022,\n",
       " 'V21': 0.9992117807244022,\n",
       " 'V22': 0.03969656485854936}"
      ]
     },
     "execution_count": 16,
     "metadata": {},
     "output_type": "execute_result"
    }
   ],
   "source": [
    "MATSalarS0(Lam3,Lam4,Lam7,Lam9,Lam10,vX,VEV,muC,MS2,Mn2)"
   ]
  },
  {
   "cell_type": "code",
   "execution_count": 12,
   "id": "7bc788b1",
   "metadata": {},
   "outputs": [
    {
     "name": "stdout",
     "output_type": "stream",
     "text": [
      "20053.2815 20085.0624\n",
      "-0.0396965649 -0.999211781 -0.999211781 0.0396965649\n"
     ]
    }
   ],
   "source": [
    "print(mns_1,mns_2)\n",
    "print(ZN11,ZN12,ZN21,ZN22)"
   ]
  },
  {
   "cell_type": "code",
   "execution_count": 13,
   "id": "a6a84eb5",
   "metadata": {},
   "outputs": [],
   "source": [
    "MSO = MATSalarS0(Lam3,Lam4,Lam7,Lam9,Lam10,vX,VEV,muC,MS2,Mn2)"
   ]
  },
  {
   "cell_type": "code",
   "execution_count": 14,
   "id": "011267f5",
   "metadata": {},
   "outputs": [
    {
     "data": {
      "text/plain": [
       "matrix([[ 4.14506415e-11, -2.75597767e-10],\n",
       "        [-2.75597767e-10, -4.14506415e-11]])"
      ]
     },
     "execution_count": 14,
     "metadata": {},
     "output_type": "execute_result"
    }
   ],
   "source": [
    "np.matrix([[MSO['V11']-ZN11, MSO['V12']+ZN12],[MSO['V21']+ZN21, MSO['V22']-ZN22]])"
   ]
  },
  {
   "cell_type": "markdown",
   "id": "f56e058b",
   "metadata": {},
   "source": [
    "Check! Take care with the signs... working!!!"
   ]
  },
  {
   "cell_type": "code",
   "execution_count": null,
   "id": "718e6fca",
   "metadata": {},
   "outputs": [],
   "source": []
  }
 ],
 "metadata": {
  "kernelspec": {
   "display_name": "Python 3 (ipykernel)",
   "language": "python",
   "name": "python3"
  },
  "language_info": {
   "codemirror_mode": {
    "name": "ipython",
    "version": 3
   },
   "file_extension": ".py",
   "mimetype": "text/x-python",
   "name": "python",
   "nbconvert_exporter": "python",
   "pygments_lexer": "ipython3",
   "version": "3.9.2"
  }
 },
 "nbformat": 4,
 "nbformat_minor": 5
}
