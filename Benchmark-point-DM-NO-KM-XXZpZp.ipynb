{
 "cells": [
  {
   "cell_type": "markdown",
   "metadata": {},
   "source": [
    "## MDEO model: DM scan without kinetic mixing $\\epsilon$"
   ]
  },
  {
   "cell_type": "markdown",
   "metadata": {},
   "source": [
    "The idea is to do a firts DM random scan"
   ]
  },
  {
   "cell_type": "code",
   "execution_count": 1,
   "metadata": {},
   "outputs": [],
   "source": [
    "import numpy as np\n",
    "import pandas as pd\n",
    "import subprocess\n",
    "import time\n",
    "import sys\n",
    "\n",
    "%matplotlib inline\n",
    "import matplotlib.pyplot as plt "
   ]
  },
  {
   "cell_type": "code",
   "execution_count": 2,
   "metadata": {},
   "outputs": [],
   "source": [
    "import pyslha\n",
    "import pyMDEO_LesHouches_generator\n",
    "\n",
    "import neutrino_analytic\n",
    "import NEUTRINO2018"
   ]
  },
  {
   "cell_type": "code",
   "execution_count": 3,
   "metadata": {},
   "outputs": [],
   "source": [
    "plt.rc('text', usetex = True)\n",
    "plt.rc('font', family = 'serif')\n",
    "\n",
    "#For good plots\n",
    "plt.rcParams.update({'font.size': 12}) \n",
    "#plt.rc('font',size='18')"
   ]
  },
  {
   "cell_type": "code",
   "execution_count": 4,
   "metadata": {},
   "outputs": [
    {
     "data": {
      "text/plain": [
       "(42, 87)"
      ]
     },
     "execution_count": 4,
     "metadata": {},
     "output_type": "execute_result"
    }
   ],
   "source": [
    "#run: random_general_scan-noKMv4.py\n",
    "#random_general_scan-noKM-XXZpZp.py\n",
    "#File for XX->ZpZp\n",
    "#xd = pd.read_csv('noKM-xd_scan-noKM-XXZpZp-01.csv')\n",
    "xd = pd.read_csv('noKM-xd_scan-noKM-XXZpZp-02.csv')\n",
    "\n",
    "xd.shape"
   ]
  },
  {
   "cell_type": "code",
   "execution_count": 5,
   "metadata": {},
   "outputs": [],
   "source": [
    "del[xd['Unnamed: 0']]"
   ]
  },
  {
   "cell_type": "code",
   "execution_count": 6,
   "metadata": {},
   "outputs": [
    {
     "data": {
      "text/html": [
       "<div>\n",
       "<style scoped>\n",
       "    .dataframe tbody tr th:only-of-type {\n",
       "        vertical-align: middle;\n",
       "    }\n",
       "\n",
       "    .dataframe tbody tr th {\n",
       "        vertical-align: top;\n",
       "    }\n",
       "\n",
       "    .dataframe thead th {\n",
       "        text-align: right;\n",
       "    }\n",
       "</style>\n",
       "<table border=\"1\" class=\"dataframe\">\n",
       "  <thead>\n",
       "    <tr style=\"text-align: right;\">\n",
       "      <th></th>\n",
       "      <th>Omega1</th>\n",
       "      <th>Omega2</th>\n",
       "    </tr>\n",
       "  </thead>\n",
       "  <tbody>\n",
       "    <tr>\n",
       "      <th>0</th>\n",
       "      <td>0.126</td>\n",
       "      <td>9.850000e-19</td>\n",
       "    </tr>\n",
       "    <tr>\n",
       "      <th>1</th>\n",
       "      <td>0.122</td>\n",
       "      <td>2.080000e-22</td>\n",
       "    </tr>\n",
       "    <tr>\n",
       "      <th>2</th>\n",
       "      <td>0.122</td>\n",
       "      <td>1.880000e-19</td>\n",
       "    </tr>\n",
       "  </tbody>\n",
       "</table>\n",
       "</div>"
      ],
      "text/plain": [
       "   Omega1        Omega2\n",
       "0   0.126  9.850000e-19\n",
       "1   0.122  2.080000e-22\n",
       "2   0.122  1.880000e-19"
      ]
     },
     "execution_count": 6,
     "metadata": {},
     "output_type": "execute_result"
    }
   ],
   "source": [
    "xd[['Omega1','Omega2']][:3]"
   ]
  },
  {
   "cell_type": "markdown",
   "metadata": {},
   "source": [
    "Filter with $m {\\chi_1^0} < m {s_1}$ and $\\lambda_5 <= \\sqrt(4\\pi)$"
   ]
  },
  {
   "cell_type": "code",
   "execution_count": 7,
   "metadata": {},
   "outputs": [
    {
     "data": {
      "text/plain": [
       "(42, 86)"
      ]
     },
     "execution_count": 7,
     "metadata": {},
     "output_type": "execute_result"
    }
   ],
   "source": [
    "#xd = xd[np.logical_and(np.abs(xd.mXi_1) < np.abs(xd.mns_1), xd.Lam5 < np.sqrt(4*np.pi) )]\n",
    "#xd = xd[np.logical_and(np.abs(xd.mXi_1) < np.abs(xd.mns_1), 0<1 )]\n",
    "\n",
    "xd = xd.reset_index()\n",
    "del[xd['index']]\n",
    "\n",
    "xd.shape"
   ]
  },
  {
   "cell_type": "markdown",
   "metadata": {},
   "source": [
    "## Dark matter $\\Omega h^2$"
   ]
  },
  {
   "cell_type": "code",
   "execution_count": 8,
   "metadata": {},
   "outputs": [
    {
     "name": "stdout",
     "output_type": "stream",
     "text": [
      "0.11639999999999999 0.12 0.1236\n"
     ]
    }
   ],
   "source": [
    "#Experimental values for DM:Planck results 2018\n",
    "e = 3\n",
    "Omega = 0.1200\n",
    "Omega_min=Omega - e*0.0012\n",
    "Omega_max=Omega + e*0.0012\n",
    "print( Omega_min, Omega,Omega_max)"
   ]
  },
  {
   "cell_type": "code",
   "execution_count": 9,
   "metadata": {},
   "outputs": [
    {
     "data": {
      "text/plain": [
       "(42, 86)"
      ]
     },
     "execution_count": 9,
     "metadata": {},
     "output_type": "execute_result"
    }
   ],
   "source": [
    "xd = xd[np.logical_and(xd.MZp < xd.mChi, 1>0)]\n",
    "\n",
    "xd = xd.reset_index()\n",
    "del[xd['index']]\n",
    "\n",
    "xd.shape"
   ]
  },
  {
   "cell_type": "markdown",
   "metadata": {},
   "source": [
    "for $M_1=297.9$ GeV"
   ]
  },
  {
   "cell_type": "code",
   "execution_count": 10,
   "metadata": {},
   "outputs": [
    {
     "data": {
      "text/plain": [
       "297.9747975920111"
      ]
     },
     "execution_count": 10,
     "metadata": {},
     "output_type": "execute_result"
    }
   ],
   "source": [
    "xd.mChi[0]"
   ]
  },
  {
   "cell_type": "code",
   "execution_count": 11,
   "metadata": {},
   "outputs": [],
   "source": [
    "from scipy import interpolate\n",
    "from scipy.signal import savgol_filter\n",
    "\n",
    "fitOmega=interpolate.interp1d(xd.MZp, xd.Omega1)"
   ]
  },
  {
   "cell_type": "code",
   "execution_count": 12,
   "metadata": {},
   "outputs": [
    {
     "name": "stdout",
     "output_type": "stream",
     "text": [
      "0.002662906609781 0.0227177506553086\n"
     ]
    }
   ],
   "source": [
    "print(xd.g1p.min(),xd.g1p.max())"
   ]
  },
  {
   "cell_type": "code",
   "execution_count": 13,
   "metadata": {},
   "outputs": [
    {
     "data": {
      "image/png": "[encoded data removed]",
      "text/plain": [
       "<Figure size 600x400 with 1 Axes>"
      ]
     },
     "metadata": {},
     "output_type": "display_data"
    }
   ],
   "source": [
    "plt.figure(figsize=(6,4))\n",
    "\n",
    "plt.semilogy(xd.MZp, (xd.Omega1+xd.Omega2),color='red', marker='.',ms=2,linestyle='')\n",
    "\n",
    "n=np.linspace(1e1,1.0e2,10)\n",
    "plt.fill_between(n,Omega_min,Omega_max,facecolor='grey',alpha=0.3,label=r'$\\Omega h^2$ to $3\\sigma$')\n",
    "\n",
    "n=np.arange(11.1,88.1,1)\n",
    "m=fitOmega(n)\n",
    "yhat = savgol_filter(m, 51, 3)\n",
    "\n",
    "plt.plot(n,yhat,'b-')\n",
    "\n",
    "#plt.hlines(Omega,0.1,1e4, 'r',label=r'0.12')\n",
    "\n",
    "plt.xlabel(r'$m_{Z^{\\prime}}$ (GeV)',size=20)\n",
    "plt.ylabel(r'$\\Omega_1 h^2$',size=20)\n",
    "#plt.title('$M_1=86, M2=500,750, Yc=0.243, v=500, h_2=200$')\n",
    "plt.legend(prop={'size':16},loc='best')\n",
    "\n",
    "plt.ylim(0.113,0.135)\n",
    "plt.xlim(xd.MZp.min(), 91)\n",
    "plt.tight_layout()\n",
    "\n",
    "#plt.savefig('plots/benchmark4.pdf')\n",
    "#plt.show()"
   ]
  },
  {
   "cell_type": "code",
   "execution_count": 14,
   "metadata": {},
   "outputs": [
    {
     "data": {
      "text/html": [
       "<div>\n",
       "<style scoped>\n",
       "    .dataframe tbody tr th:only-of-type {\n",
       "        vertical-align: middle;\n",
       "    }\n",
       "\n",
       "    .dataframe tbody tr th {\n",
       "        vertical-align: top;\n",
       "    }\n",
       "\n",
       "    .dataframe thead th {\n",
       "        text-align: right;\n",
       "    }\n",
       "</style>\n",
       "<table border=\"1\" class=\"dataframe\">\n",
       "  <thead>\n",
       "    <tr style=\"text-align: right;\">\n",
       "      <th></th>\n",
       "      <th>MZp</th>\n",
       "      <th>mChi</th>\n",
       "      <th>mXi_1</th>\n",
       "      <th>mXi_2</th>\n",
       "      <th>vX</th>\n",
       "      <th>mh2</th>\n",
       "      <th>g1p</th>\n",
       "      <th>Yc</th>\n",
       "      <th>Omega1</th>\n",
       "      <th>Omega2</th>\n",
       "    </tr>\n",
       "  </thead>\n",
       "  <tbody>\n",
       "    <tr>\n",
       "      <th>0</th>\n",
       "      <td>60.630242</td>\n",
       "      <td>297.974798</td>\n",
       "      <td>500.0</td>\n",
       "      <td>750.0</td>\n",
       "      <td>430.0</td>\n",
       "      <td>800.0</td>\n",
       "      <td>0.015667</td>\n",
       "      <td>0.98</td>\n",
       "      <td>0.126</td>\n",
       "      <td>9.850000e-19</td>\n",
       "    </tr>\n",
       "    <tr>\n",
       "      <th>1</th>\n",
       "      <td>15.279124</td>\n",
       "      <td>297.974798</td>\n",
       "      <td>500.0</td>\n",
       "      <td>750.0</td>\n",
       "      <td>430.0</td>\n",
       "      <td>800.0</td>\n",
       "      <td>0.003948</td>\n",
       "      <td>0.98</td>\n",
       "      <td>0.122</td>\n",
       "      <td>2.080000e-22</td>\n",
       "    </tr>\n",
       "    <tr>\n",
       "      <th>2</th>\n",
       "      <td>20.950605</td>\n",
       "      <td>297.974798</td>\n",
       "      <td>500.0</td>\n",
       "      <td>750.0</td>\n",
       "      <td>430.0</td>\n",
       "      <td>800.0</td>\n",
       "      <td>0.005414</td>\n",
       "      <td>0.98</td>\n",
       "      <td>0.122</td>\n",
       "      <td>1.880000e-19</td>\n",
       "    </tr>\n",
       "  </tbody>\n",
       "</table>\n",
       "</div>"
      ],
      "text/plain": [
       "         MZp        mChi  mXi_1  mXi_2     vX    mh2       g1p    Yc  Omega1  \\\n",
       "0  60.630242  297.974798  500.0  750.0  430.0  800.0  0.015667  0.98   0.126   \n",
       "1  15.279124  297.974798  500.0  750.0  430.0  800.0  0.003948  0.98   0.122   \n",
       "2  20.950605  297.974798  500.0  750.0  430.0  800.0  0.005414  0.98   0.122   \n",
       "\n",
       "         Omega2  \n",
       "0  9.850000e-19  \n",
       "1  2.080000e-22  \n",
       "2  1.880000e-19  "
      ]
     },
     "execution_count": 14,
     "metadata": {},
     "output_type": "execute_result"
    }
   ],
   "source": [
    "xd[['MZp','mChi','mXi_1','mXi_2','vX','mh2','g1p','Yc','Omega1','Omega2']][:3]"
   ]
  },
  {
   "cell_type": "markdown",
   "metadata": {},
   "source": [
    "Analitycal behavoiur"
   ]
  },
  {
   "cell_type": "code",
   "execution_count": 15,
   "metadata": {},
   "outputs": [],
   "source": [
    "import numpy as np\n",
    "import pandas as pd\n",
    "from scipy.special import zeta\n",
    "from scipy.optimize import bisect\n",
    "from scipy import integrate as intg\n",
    "from scipy import interpolate\n",
    "from scipy.interpolate import InterpolatedUnivariateSpline\n",
    "USETEX=False\n",
    "if USETEX:\n",
    "    matplotlib.rcParams['text.usetex'] = True\n",
    "    #matplotlib.rcParams['text.latex.unicode'] = True"
   ]
  },
  {
   "cell_type": "code",
   "execution_count": 16,
   "metadata": {},
   "outputs": [],
   "source": [
    "Tdec_νL = 0.0023\n",
    "T, g = np.loadtxt('GT.dat',usecols=(0,1),unpack=True); T*=1e-3\n",
    "geff = InterpolatedUnivariateSpline(T, g)\n",
    "g_eff = lambda T: geff(T)"
   ]
  },
  {
   "cell_type": "code",
   "execution_count": 17,
   "metadata": {},
   "outputs": [
    {
     "data": {
      "text/plain": [
       "[<matplotlib.lines.Line2D at 0x7f96ca43e2d0>]"
      ]
     },
     "execution_count": 17,
     "metadata": {},
     "output_type": "execute_result"
    },
    {
     "data": {
      "image/png": "[encoded data removed]",
      "text/plain": [
       "<Figure size 500x400 with 1 Axes>"
      ]
     },
     "metadata": {},
     "output_type": "display_data"
    }
   ],
   "source": [
    "plt.figure(figsize=(5,4))\n",
    "\n",
    "n=np.linspace(1e-1,1.5e2,1000)\n",
    "\n",
    "plt.semilogx(n,g_eff(n))"
   ]
  },
  {
   "cell_type": "code",
   "execution_count": 18,
   "metadata": {},
   "outputs": [],
   "source": [
    "gd = pd.read_csv('gT.csv')"
   ]
  },
  {
   "cell_type": "code",
   "execution_count": 19,
   "metadata": {},
   "outputs": [],
   "source": [
    "#NEW\n",
    "def relic_abundance(a, b, xf, m):\n",
    "    MPl=1.22E19\n",
    "    xd2=gd[gd['T']>m/xf].copy()\n",
    "    T=np.asarray(xd2['T'])\n",
    "    g=np.asarray(xd2['g'])\n",
    "    geff=g*T\n",
    "    thavgeff=geff.sum()/T.sum()    \n",
    "    sqrtg=np.sqrt(thavgeff)\n",
    "    \n",
    "    return 2*1.04E9*xf/(MPl*sqrtg*(a + 3.0*b/xf))"
   ]
  },
  {
   "cell_type": "code",
   "execution_count": 18,
   "metadata": {},
   "outputs": [],
   "source": [
    "def relic_abundance(a, b, xf, m):\n",
    "    MPl=1.22E19\n",
    "    sqrtg=np.sqrt(g_eff(m/xf))\n",
    "    \n",
    "    return 2.08E9*xf/(MPl*sqrtg*(a + 3.0*b/xf))"
   ]
  },
  {
   "cell_type": "code",
   "execution_count": 20,
   "metadata": {},
   "outputs": [],
   "source": [
    "M1 = xd['mChi'][0]\n",
    "xd['r'] = xd['MZp']/xd['mChi']"
   ]
  },
  {
   "cell_type": "code",
   "execution_count": 21,
   "metadata": {},
   "outputs": [
    {
     "name": "stdout",
     "output_type": "stream",
     "text": [
      "0.03458496712853862 0.2950507752552339\n"
     ]
    }
   ],
   "source": [
    "print(xd.r.min(),xd.r.max())"
   ]
  },
  {
   "cell_type": "markdown",
   "metadata": {},
   "source": [
    "RELIC DENSITY:\n",
    "\n",
    "\\begin{equation}\n",
    "\\label{eq:RelicAbundance}\n",
    "\\Omega_{\\chi} h^{2} \\approx \\frac{2.08 \\times 10^{9}\\, x_{f}\\,\\,\\text{GeV}^{-1}}{M_{\\mathrm{Pl}} \\sqrt{g_{*}(T_f)}\\left(a+3 b / x_{f}\\right)}\\,,\n",
    "\\end{equation}\n",
    "\n",
    "FeynCalc:\n",
    "\n",
    "\\begin{equation}\n",
    "\\langle\\sigma{v}\\rangle\\approx a+bv^2\n",
    "\\end{equation}\n",
    "\n",
    "FeynCalcl lat version:\n",
    "\n",
    "\\begin{equation}\n",
    "a=-\\frac{\\text{g}^4_D \\sqrt{1-r^2} \\left(1519 r^4-1357 r^2-162\\right)}{16 \\pi  \\text{Mx}^2 r^2 \\left(r^2-2\\right)^2}\n",
    "\\end{equation}\n",
    "\n",
    "\n",
    "\\begin{equation}\n",
    "b= -\\frac{27 \\text{gBL}^4 \\sqrt{1-r^2} \\left(\\text{Ms}^4 \\left(245 r^2-162\\right)+16 \\text{Ms}^2 \\text{Mx}^2 \\left(162-325 r^2\\right)+16\n",
    "   \\text{Mx}^4 \\left(1784 r^2-729\\right)\\right)}{8 \\pi  r^4 \\left(r^2-2\\right)^4 \\left(\\text{Ms}^2 \\text{Mx}-4 \\text{Mx}^3\\right)^2}\n",
    "\\end{equation}\n",
    "\n",
    "\\begin{equation}\n",
    "b= \\frac{\\text{gBL}^4 \\sqrt{1-r^2} \\left(\\text{Ms}^4 \\left(48379 r^6+25638 r^4-79380 r^2+52488\\right)+4 \\text{Ms}^2 \\text{Mx}^2 \\left(85897\n",
    "   r^6-352434 r^4+421200 r^2-209952\\right)-16 \\text{Mx}^4 \\left(409838 r^6-661407 r^4+578016 r^2-236196\\right)\\right)}{96 \\pi  r^4\n",
    "   \\left(r^2-2\\right)^4 \\left(\\text{Ms}^2 \\text{Mx}-4 \\text{Mx}^3\\right)^2}\n",
    "   \\end{equation}\n",
    "   \n",
    "\n",
    "\\begin{equation}\n",
    "b=\\frac{\\text{gBL}^4 \\left(-\\frac{21261 \\text{Ms}^4}{4}-9318 \\text{Ms}^2 \\text{Mx}^2+\\frac{13122 \\text{Ms}^4-209952 \\text{Ms}^2 \\text{Mx}^2+944784 \\text{Mx}^4}{r^4}+r^2 \\left(6724 \\text{Ms}^4-60434 \\text{Ms}^2 \\text{Mx}^2+35737\n",
    "   \\text{Mx}^4\\right)+\\frac{-162 \\text{Ms}^4+106272 \\text{Ms}^2 \\text{Mx}^2-894888 \\text{Mx}^4}{r^2}+476610 \\text{Mx}^4\\right)}{384 \\pi  \\left(\\text{Ms}^2 \\text{Mx}-4 \\text{Mx}^3\\right)^2}   \n",
    " \\end{equation}   \n",
    "\n",
    "with $r=\\frac{m_{Z'}}{M_1}$.\n",
    "\n",
    "https://inspirehep.net/files/3fb25aaba1b2df77e1e8718195cc1f20\n",
    "\\begin{equation}\n",
    "\\langle\\sigma{v}\\rangle\n",
    "\\approx\\frac{\\,g^4_D (1-r^2)^{3/2}(1-r^2/2)^{-2}}{16\\pi M_1^2}\n",
    "\\end{equation}\n",
    "\n"
   ]
  },
  {
   "cell_type": "code",
   "execution_count": 22,
   "metadata": {},
   "outputs": [],
   "source": [
    "#Seclude WIMP DM work: ONly Vector interation\n",
    "#https://arxiv.org/pdf/0711.4866.pdf\n",
    "def a_coefficient_Sec(g1p, r, M1): \n",
    "    alpha= g1p**2/(4.*np.pi)\n",
    "    k = np.pi*(alpha)**2/(M1)**2*np.sqrt(1. - r**2)   \n",
    "    return k\n",
    "\n",
    "#https://inspirehep.net/files/3fb25aaba1b2df77e1e8718195cc1f20\n",
    "#https://arxiv.org/pdf/2203.12034.pdf\n",
    "#Ernest Ma: vector interation\n",
    "def a_coefficient_Ma(g1p, r, Mx): \n",
    "    k = g1p**4/(16*np.pi*Mx**2)*(1. - r**2)**(1.5)*(1. - r**2/2.)**(-2)     \n",
    "    return k\n",
    "\n",
    "#XX to nunu\n",
    "def a_coefficient_vv(g1p, r, Mx): \n",
    "    n = 81.*g1p**4\n",
    "    d = 16.*np.pi*Mx**2*(r**2-4.)**2\n",
    "    k = n/d\n",
    "    return k\n",
    "\n",
    "#XX to nunu\n",
    "def b_coefficient_vv(g1p, r, Mx): \n",
    "    n = 27.*g1p**4*(41.*r**2-158.)\n",
    "    d = 16.*np.pi*Mx**2*(r**2-4.)**3\n",
    "    k = n/d\n",
    "    return k\n",
    "\n",
    "#FeynCalc\n",
    "def a_coefficient_Fey(g1p, r, Mx): \n",
    "    k = -g1p**4*np.sqrt(1.-r**2)*(1519*r**4-1357*r**2-162)/(16.*np.pi*Mx**2*r**2*(r**2-2.)**2)  \n",
    "    return k\n",
    "\n",
    "#FeynCalc: 4 version\n",
    "def b_coefficient_Fey(g1p, r, Mx,Ms): \n",
    "    \n",
    "    c0 = -21261*Ms**4/4 -9318*Ms**2*Mx**2 +476610*Mx**4\n",
    "    cm4 = (13122*Ms**4-209952*Ms**2*Mx**2+944784*Mx**4)/r**4 \n",
    "    cm2 = (-162*Ms**4+106272*Ms**2*Mx**2-894888*Mx**4)/r**2\n",
    "    c2 = (6724*Ms**4-60434*Ms**2*Mx**2+35737*Mx**4)*r**2\n",
    "    \n",
    "    n = g1p**4*(cm4+cm2+c0+c2 )\n",
    "    \n",
    "    d = 384.*np.pi*(Ms**2*Mx-4.*Mx**3)**2\n",
    "    k = n/d \n",
    "    return k\n",
    "\n",
    "#Nicole F.: 1610.03063\n",
    "def a_coefficient_ZZ(g1p, MZp, Mx, QA, QV): \n",
    "    \n",
    "    nZ = (MZp/Mx)**2\n",
    "    n = g1p**4*(1.-nZ)**(3/2)*(2.*QA**2*QV**2*(4.-3.*nZ)+QA**4*nZ+QV**4*nZ)\n",
    "    d = 4.*np.pi*Mx**2*(nZ-2.)**2*nZ\n",
    "    k = n/d\n",
    "    return k\n",
    "\n",
    "def a_coefficient_sZ(g1p, MZp, Mx, Ms, QA, QV, yx): \n",
    "    \n",
    "    ns = (Ms/Mx)**2\n",
    "    nZ = (MZp/Mx)**2\n",
    "    QS = 1/2\n",
    "\n",
    "    k1 = g1p**2*np.sqrt((ns-nZ-4.)**2-16.*nZ)/(256.*np.pi*Mx**2*(nZ-4.)**2*nZ**2*(ns+nZ-4.)**2)\n",
    "\n",
    "    k2 = g1p**2*QS**2*(ns+nZ-4)**2*(QA**1*(nZ-4)**2*((ns-nZ-4)**2-16*nZ)+QV**2*nZ**2*((ns-nZ-4)**2+32*nZ))\n",
    "\n",
    "    k3 = 24*np.sqrt(2.)*g1p*QS*QV**2*yx*(nZ-4.)*nZ**(5/2)*(ns**2-8*ns-nZ**2+16)+4*QV**2*yx**2*(nZ-4)**2*nZ**2*((ns-nZ-4)**2+8*nZ)\n",
    "\n",
    "    k =k1*(k2+k3)\n",
    "\n",
    "    return k"
   ]
  },
  {
   "cell_type": "code",
   "execution_count": 23,
   "metadata": {},
   "outputs": [
    {
     "name": "stdout",
     "output_type": "stream",
     "text": [
      "3.978774105147102e-06 1.1459155902616466e-09 1.5049691418769628e-08\n",
      "a_coefficient_ZZ= 1.0471177882768053e-11\n",
      "a_coefficient_sZ= 1.8522127744378036e-09\n"
     ]
    }
   ],
   "source": [
    "print(a_coefficient_ZZ(0.1, 0.5, 100,1/2,1/2),a_coefficient_vv(0.1, 0.5, 100),b_coefficient_vv(0.1, 0.5, 100))\n",
    "print('a_coefficient_ZZ=',a_coefficient_ZZ(0.01,50,86.1,1/2,9/2))\n",
    "print('a_coefficient_sZ=',a_coefficient_sZ(0.01,50,86.1,50.,1/2,9/2,0.5))"
   ]
  },
  {
   "cell_type": "code",
   "execution_count": 24,
   "metadata": {},
   "outputs": [
    {
     "name": "stdout",
     "output_type": "stream",
     "text": [
      "a = 9.143339666165998e-06 b = 0.00016775600142894927\n",
      "a = 9.143339666165997e-08 b = 180.2031360850741\n"
     ]
    }
   ],
   "source": [
    "print('a =',a_coefficient_Fey(0.1,0.5,10),'b =',b_coefficient_Fey(0.1,0.5,10,200.01))\n",
    "print('a =',a_coefficient_Fey(0.1,0.5,100),'b =',b_coefficient_Fey(0.1,0.5,100,200.01))"
   ]
  },
  {
   "cell_type": "code",
   "execution_count": 25,
   "metadata": {},
   "outputs": [
    {
     "name": "stdout",
     "output_type": "stream",
     "text": [
      "50599999999999.99 1.52e+24 1.1732539834905879e-17\n"
     ]
    }
   ],
   "source": [
    "#http://www.saha.ac.in/theory/palashbaran.pal/conv.html\n",
    "GeVtocmmin1 = 5.06*1e+13\n",
    "GeVtosegmin1 = 1.52*1e+24\n",
    "tocm3sm1 = GeVtosegmin1/(GeVtocmmin1)**3\n",
    "\n",
    "print(GeVtocmmin1,GeVtosegmin1, GeVtosegmin1/(GeVtocmmin1)**3)"
   ]
  },
  {
   "cell_type": "code",
   "execution_count": null,
   "metadata": {},
   "outputs": [],
   "source": []
  },
  {
   "cell_type": "code",
   "execution_count": 112,
   "metadata": {},
   "outputs": [
    {
     "data": {
      "image/png": "[encoded data removed]",
      "text/plain": [
       "<Figure size 400x400 with 1 Axes>"
      ]
     },
     "metadata": {},
     "output_type": "display_data"
    }
   ],
   "source": [
    "plt.figure(figsize=(4,4))\n",
    "\n",
    "DM = np.arange(20.1,400,5)\n",
    "DM2 = np.arange(110.1,400,5)\n",
    "\n",
    "plt.semilogy(DM, a_coefficient_ZZ(g1p=0.1, MZp=20., Mx=DM, QA=1/2, QV=1/2)*tocm3sm1,\\\n",
    "             color='orange', lw=3,label=r'$\\chi\\chi\\to Z^{\\prime}Z^{\\prime}$')\n",
    "\n",
    "plt.semilogy(DM2, a_coefficient_sZ(g1p=0.1, MZp=20, Mx=DM2, Ms=200, QA=1/2, QV=1/2, yx=0.5)*tocm3sm1,\\\n",
    "             color='blue', lw=3,label=r'$\\chi\\chi\\to Z^{\\prime}S$')\n",
    "\n",
    "plt.hlines(3*1.e-26,10,400,color='grey',linestyle='--',label=r'$3\\times 10^{-26}$cm3/s')\n",
    "\n",
    "\n",
    "plt.xlabel(r'$M_{\\chi}$ (GeV)',size=16)\n",
    "plt.ylabel(r'$\\langle\\sigma v\\rangle$ [cm$^3/$s]',size=16)\n",
    "plt.legend(loc='lower right')\n",
    "plt.title('arXiv:1610.03063')\n",
    "#plt.grid()\n",
    "\n",
    "#plt.ylim(1e-29,1e-22)\n",
    "#plt.xlim(0, 400)\n",
    "\n",
    "plt.show()"
   ]
  },
  {
   "cell_type": "code",
   "execution_count": 113,
   "metadata": {},
   "outputs": [
    {
     "data": {
      "image/png": "[encoded data removed]",
      "text/plain": [
       "<Figure size 600x600 with 1 Axes>"
      ]
     },
     "metadata": {},
     "output_type": "display_data"
    }
   ],
   "source": [
    "plt.figure(figsize=(6,6))\n",
    "\n",
    "DM = np.arange(20.1,400,5)\n",
    "DM2 = np.arange(110.1,400,5)\n",
    "\n",
    "plt.semilogy(DM, a_coefficient_ZZ(g1p=0.1, MZp=20., Mx=DM, QA=1/2, QV=9/2)*tocm3sm1,\\\n",
    "             color='orange', lw=3,label=r'$\\chi\\chi\\to Z^{\\prime}Z^{\\prime}$ arXiv:1610.03063')\n",
    "\n",
    "plt.semilogy(DM2, a_coefficient_sZ(g1p=0.1, MZp=20, Mx=DM2, Ms=200, QA=1/2, QV=9/2, yx=0.01)*tocm3sm1,\\\n",
    "             color='blue', lw=3,label=r'$\\chi\\chi\\to Z^{\\prime}S$ arXiv:1610.03063')\n",
    "\n",
    "plt.semilogy(DM,(a_coefficient_Fey(g1p=0.1, r=(20./DM), Mx=DM)+0*b_coefficient_Fey(g1p=0.1,\\\n",
    "                r=(20./DM), Mx=DM, Ms=200))*tocm3sm1,'r-.',\\\n",
    "             label=r'FeynCalc: s-wave: $\\chi\\chi \\to Z^{\\prime}Z^{\\prime}$')\n",
    "\n",
    "plt.semilogy(DM,(a_coefficient_Fey(g1p=0.1, r=(20./DM), Mx=DM)+1*b_coefficient_Fey(g1p=0.1,\\\n",
    "                r=(20./DM), Mx=DM, Ms=200))*tocm3sm1,'r:',\\\n",
    "             label=r'FeynCalc: s-p-wave: $\\chi\\chi \\to Z^{\\prime}Z^{\\prime}$')\n",
    "\n",
    "plt.semilogy(DM, a_coefficient_vv(g1p=0.1, r=(20./DM), Mx=DM)*tocm3sm1,\\\n",
    "             label=r'$\\chi\\chi \\to \\nu\\nu$')\n",
    "\n",
    "plt.hlines(3*1.e-26,10,400,color='grey',linestyle='--',label=r'$3\\times 10^{-26}$cm3/s')\n",
    "\n",
    "plt.xlabel(r'$M_{\\chi}$ (GeV)',size=16)\n",
    "plt.ylabel(r'$\\langle\\sigma v\\rangle$ [cm$^3/$s]',size=16)\n",
    "plt.legend(loc='lower right')\n",
    "plt.title(r'$M_{Z^{\\prime}}=20, Ms=200, y_x=0.01, QA=1/2, QV=9/2$')\n",
    "#plt.grid()\n",
    "\n",
    "#plt.ylim(1e-29,1e-22)\n",
    "plt.xlim(0, 400)\n",
    "\n",
    "plt.show()"
   ]
  },
  {
   "cell_type": "code",
   "execution_count": null,
   "metadata": {},
   "outputs": [],
   "source": []
  },
  {
   "cell_type": "code",
   "execution_count": null,
   "metadata": {},
   "outputs": [],
   "source": [
    "'''\n",
    "plt.figure(figsize=(7,5))\n",
    "\n",
    "plt.semilogy(xd.MZp, (xd.Omega1+xd.Omega2),'ro',label='micrOMEGAs')\n",
    "#plt.semilogy(xd.MZp, (xd.Omega1+xd.Omega2),'m-')\n",
    "plt.plot(xd.MZp, rd.RD_Sec/10000,'yo',label='Seclude WIMP/10000')\n",
    "plt.plot(xd.MZp, rd.RD_Ma/10000,'b.',label='Ma/10000')\n",
    "plt.plot(xd.MZp, rd.RD_Fey/1,'c.',label=r'Feyncal:$\\Omega h^2(\\chi\\chi\\to Z^{\\prime}Z^{\\prime})$ with p-wave')\n",
    "\n",
    "plt.plot(xd.MZp, rd.RD_ZZ,'m.',label=r'$\\Omega h^2(\\chi\\chi\\to Z^{\\prime}Z^{\\prime})$ arXiv:1610.03063')\n",
    "\n",
    "#plt.plot(xd.MZp, rd.RD_vv,'b.',label=r'$\\Omega h^2(\\chi\\chi\\to \\nu\\nu)$')\n",
    "\n",
    "#n=np.linspace(1e1,1.0e2,10)\n",
    "#plt.fill_between(n,Omega_min,Omega_max,facecolor='cyan',alpha=0.3,label='')\n",
    "\n",
    "plt.hlines(Omega,0.1,1e2, 'k',label=r'$\\Omega h^2=$ 0.12')\n",
    "\n",
    "plt.xlabel(r'$M_{Z^{\\prime}}$ (GeV)',size=16)\n",
    "plt.ylabel(r'$\\Omega_1 h^2$',size=16)\n",
    "plt.title('$Mx=86, M2=500,750, Yc=0.243, v=500, Mh_2=200$',size=10)\n",
    "plt.legend()\n",
    "#plt.grid()\n",
    "\n",
    "#plt.ylim(0.11,0.2)\n",
    "plt.xlim(xd.MZp.min(), 90)\n",
    "\n",
    "#plt.savefig('plots/benchmark4.pdf')\n",
    "plt.show()\n",
    "'''\n",
    "#First plot"
   ]
  },
  {
   "cell_type": "code",
   "execution_count": 28,
   "metadata": {},
   "outputs": [],
   "source": [
    "x= []\n",
    "\n",
    "#for i in range(0,2):\n",
    "for i in range(0,len(xd)):\n",
    "    \n",
    "    Ms= xd.mh2[0]\n",
    "    Yx=xd.Yc[0]\n",
    "    xf=26 #WARNING\n",
    "    \n",
    "    RD_Sec = relic_abundance(a_coefficient_Sec(xd.g1p[i],xd.r[i],xd.mChi[i]), 0, xf, xd.mChi[i])\n",
    "    RD_Ma  = relic_abundance(a_coefficient_Ma(xd.g1p[i],xd.r[i],xd.mChi[i]), 0, xf, xd.mChi[i])\n",
    "    RD_Fey = relic_abundance(a_coefficient_Fey(xd.g1p[i],xd.r[i],xd.mChi[i]), 1.*b_coefficient_Fey(xd.g1p[i],xd.r[i],xd.mChi[i],Ms), xf, xd.mChi[i])\n",
    "    RD_vv  = relic_abundance(a_coefficient_vv(xd.g1p[i],xd.r[i],xd.mChi[i]), b_coefficient_vv(xd.g1p[i],xd.r[i],xd.mChi[i]), xf, xd.mChi[i])\n",
    "    RD_ZZ  = relic_abundance(a_coefficient_ZZ(xd.g1p[i],xd.MZp[i],xd.mChi[i],1/2,9/2), 0., xf, xd.mChi[i])\n",
    "    RD_sZ  = relic_abundance(a_coefficient_sZ(xd.g1p[i],xd.MZp[i],xd.mChi[i],Ms,1/2,9/2,Yx), 0., xf, xd.mChi[i])\n",
    "    \n",
    "    a_Fey = a_coefficient_Fey(xd.g1p[i],xd.r[i],xd.mChi[i])\n",
    "    b_Fey = b_coefficient_Fey(xd.g1p[i],xd.r[i],xd.mChi[i],Ms)\n",
    "    a_vv = a_coefficient_vv(xd.g1p[i],xd.r[i],xd.mChi[i])\n",
    "    b_vv = a_coefficient_vv(xd.g1p[i],xd.r[i],xd.mChi[i])\n",
    "    a_sZ = a_coefficient_sZ(xd.g1p[i],xd.MZp[i],xd.mChi[i],Ms,1/2,9/2,Yx)\n",
    "       \n",
    "    x.append([RD_Sec, RD_Ma, RD_Fey, RD_vv, RD_ZZ,RD_sZ, a_Fey, b_Fey, a_vv, b_vv,a_sZ])\n",
    "    \n",
    "x=np.asarray(x)    \n",
    "\n",
    "rd=pd.DataFrame(x,columns=['RD_Sec','RD_Ma','RD_Fey','RD_vv','RD_ZZ','RD_sZ','a_Fey','b_Fey','a_vv','b_vv','a_sZ'])"
   ]
  },
  {
   "cell_type": "code",
   "execution_count": 29,
   "metadata": {},
   "outputs": [
    {
     "data": {
      "text/html": [
       "<div>\n",
       "<style scoped>\n",
       "    .dataframe tbody tr th:only-of-type {\n",
       "        vertical-align: middle;\n",
       "    }\n",
       "\n",
       "    .dataframe tbody tr th {\n",
       "        vertical-align: top;\n",
       "    }\n",
       "\n",
       "    .dataframe thead th {\n",
       "        text-align: right;\n",
       "    }\n",
       "</style>\n",
       "<table border=\"1\" class=\"dataframe\">\n",
       "  <thead>\n",
       "    <tr style=\"text-align: right;\">\n",
       "      <th></th>\n",
       "      <th>RD_Sec</th>\n",
       "      <th>RD_Ma</th>\n",
       "      <th>RD_Fey</th>\n",
       "      <th>RD_vv</th>\n",
       "      <th>RD_ZZ</th>\n",
       "      <th>RD_sZ</th>\n",
       "      <th>a_Fey</th>\n",
       "      <th>b_Fey</th>\n",
       "      <th>a_vv</th>\n",
       "      <th>b_vv</th>\n",
       "      <th>a_sZ</th>\n",
       "    </tr>\n",
       "  </thead>\n",
       "  <tbody>\n",
       "    <tr>\n",
       "      <th>0</th>\n",
       "      <td>3.483343e+04</td>\n",
       "      <td>3.484900e+04</td>\n",
       "      <td>1.111190</td>\n",
       "      <td>2619.681342</td>\n",
       "      <td>25.662617</td>\n",
       "      <td>0.574170</td>\n",
       "      <td>1.793899e-11</td>\n",
       "      <td>3.435092e-09</td>\n",
       "      <td>6.977287e-14</td>\n",
       "      <td>6.977287e-14</td>\n",
       "      <td>8.017867e-10</td>\n",
       "    </tr>\n",
       "    <tr>\n",
       "      <th>1</th>\n",
       "      <td>8.467392e+06</td>\n",
       "      <td>8.467406e+06</td>\n",
       "      <td>1.106713</td>\n",
       "      <td>662186.591107</td>\n",
       "      <td>536.483217</td>\n",
       "      <td>8.183378</td>\n",
       "      <td>8.581098e-13</td>\n",
       "      <td>3.597654e-09</td>\n",
       "      <td>2.759670e-16</td>\n",
       "      <td>2.759670e-16</td>\n",
       "      <td>5.625568e-11</td>\n",
       "    </tr>\n",
       "    <tr>\n",
       "      <th>2</th>\n",
       "      <td>2.398068e+06</td>\n",
       "      <td>2.398083e+06</td>\n",
       "      <td>1.107705</td>\n",
       "      <td>187107.257853</td>\n",
       "      <td>279.746801</td>\n",
       "      <td>4.443913</td>\n",
       "      <td>1.645636e-12</td>\n",
       "      <td>3.587599e-09</td>\n",
       "      <td>9.766809e-16</td>\n",
       "      <td>9.766809e-16</td>\n",
       "      <td>1.035937e-10</td>\n",
       "    </tr>\n",
       "  </tbody>\n",
       "</table>\n",
       "</div>"
      ],
      "text/plain": [
       "         RD_Sec         RD_Ma    RD_Fey          RD_vv       RD_ZZ     RD_sZ  \\\n",
       "0  3.483343e+04  3.484900e+04  1.111190    2619.681342   25.662617  0.574170   \n",
       "1  8.467392e+06  8.467406e+06  1.106713  662186.591107  536.483217  8.183378   \n",
       "2  2.398068e+06  2.398083e+06  1.107705  187107.257853  279.746801  4.443913   \n",
       "\n",
       "          a_Fey         b_Fey          a_vv          b_vv          a_sZ  \n",
       "0  1.793899e-11  3.435092e-09  6.977287e-14  6.977287e-14  8.017867e-10  \n",
       "1  8.581098e-13  3.597654e-09  2.759670e-16  2.759670e-16  5.625568e-11  \n",
       "2  1.645636e-12  3.587599e-09  9.766809e-16  9.766809e-16  1.035937e-10  "
      ]
     },
     "execution_count": 29,
     "metadata": {},
     "output_type": "execute_result"
    }
   ],
   "source": [
    "rd[:3]"
   ]
  },
  {
   "cell_type": "code",
   "execution_count": 30,
   "metadata": {},
   "outputs": [
    {
     "data": {
      "image/png": "[encoded data removed]",
      "text/plain": [
       "<Figure size 700x500 with 1 Axes>"
      ]
     },
     "metadata": {},
     "output_type": "display_data"
    }
   ],
   "source": [
    "plt.figure(figsize=(7,5))\n",
    "\n",
    "plt.semilogy(xd.MZp, (xd.Omega1+xd.Omega2),'ro',label='micrOMEGAs')\n",
    "#plt.semilogy(xd.MZp, (xd.Omega1+xd.Omega2),'m-')\n",
    "plt.plot(xd.MZp, rd.RD_Sec/10000,'yo',label='Seclude WIMP/10000')\n",
    "plt.plot(xd.MZp, rd.RD_Ma/10000,'b.',label='Ma/10000')\n",
    "plt.plot(xd.MZp, rd.RD_Fey/1,'c.',label=r'Feyncal:$\\Omega h^2(\\chi\\chi\\to Z^{\\prime}Z^{\\prime})$ with p-wave')\n",
    "\n",
    "plt.plot(xd.MZp, rd.RD_ZZ,'m.',label=r'$\\Omega h^2(\\chi\\chi\\to Z^{\\prime}Z^{\\prime})$ arXiv:1610.03063')\n",
    "\n",
    "plt.plot(xd.MZp, rd.RD_sZ,'g.',label=r'$\\Omega h^2(\\chi\\chi\\to Z^{\\prime}Z^{\\prime})$ arXiv:1610.03063')\n",
    "\n",
    "#plt.plot(xd.MZp, rd.RD_vv,'k.',label=r'$\\Omega h^2(\\chi\\chi\\to \\nu\\nu)$')\n",
    "\n",
    "#n=np.linspace(1e1,1.0e2,10)\n",
    "#plt.fill_between(n,Omega_min,Omega_max,facecolor='cyan',alpha=0.3,label='')\n",
    "\n",
    "plt.hlines(Omega,0.1,1e2, 'k',label=r'$\\Omega h^2=$ 0.12')\n",
    "\n",
    "plt.xlabel(r'$M_{Z^{\\prime}}$ (GeV)',size=16)\n",
    "plt.ylabel(r'$\\Omega_1 h^2$',size=16)\n",
    "plt.title('$Mx=301.01, M2=500,750, Yc=0.99, v=430, Mh_2=800$',size=10)\n",
    "plt.legend()\n",
    "#plt.grid()\n",
    "\n",
    "#plt.ylim(0.11,0.2)\n",
    "plt.xlim(xd.MZp.min(), 90)\n",
    "\n",
    "#plt.savefig('plots/benchmark4.pdf')\n",
    "plt.show()"
   ]
  },
  {
   "cell_type": "code",
   "execution_count": null,
   "metadata": {},
   "outputs": [],
   "source": []
  },
  {
   "cell_type": "markdown",
   "metadata": {},
   "source": [
    "## $\\langle \\sigma vr\\rangle$"
   ]
  },
  {
   "cell_type": "code",
   "execution_count": 31,
   "metadata": {},
   "outputs": [],
   "source": [
    "v=0.12\n",
    "\n",
    "#sv = a_coefficient(g1p, (MZp/m), m)+ b_coefficient(g1p, (MZp/m), m)*v**2\n",
    "#print('sv(cm3/sec)=',sv,'sv(GeV-3)=',sv*(cmtoGeV**3/sectoGeV))"
   ]
  },
  {
   "cell_type": "code",
   "execution_count": 32,
   "metadata": {},
   "outputs": [
    {
     "data": {
      "image/png": "[encoded data removed]",
      "text/plain": [
       "<Figure size 600x400 with 1 Axes>"
      ]
     },
     "metadata": {},
     "output_type": "display_data"
    }
   ],
   "source": [
    "plt.figure(figsize=(6,4))\n",
    "\n",
    "#(a+v**2*b)\n",
    "plt.semilogy(xd.MZp, (rd.a_Fey+1*(3./25.)*rd.b_Fey)*tocm3sm1,'r.',label='FeynCal:(a+(3/xf)b)')\n",
    "\n",
    "plt.semilogy(xd.MZp, (rd.a_sZ)*tocm3sm1,'c.',label='FeynCal:(a+(3/xf)b)')\n",
    "\n",
    "plt.hlines(3e-26,10,90,)\n",
    "\n",
    "plt.xlabel(r'$M_{Z^{\\prime}}$ (GeV)',size=16)\n",
    "plt.ylabel(r'$\\langle \\sigma v\\rangle$ cm$^3$/s',size=16)\n",
    "#plt.title('$M_1=86, M2=500,750, Yc=0.243, v=500, h_2=200$')\n",
    "plt.legend()\n",
    "#plt.grid()\n",
    "\n",
    "#plt.ylim(0.11,0.2)\n",
    "plt.xlim(xd.MZp.min(), 60)\n",
    "\n",
    "#plt.savefig('plots/benchmark4.pdf')\n",
    "plt.show()"
   ]
  },
  {
   "cell_type": "code",
   "execution_count": null,
   "metadata": {},
   "outputs": [],
   "source": []
  },
  {
   "cell_type": "code",
   "execution_count": null,
   "metadata": {},
   "outputs": [],
   "source": []
  },
  {
   "cell_type": "markdown",
   "metadata": {},
   "source": [
    "thermal cross-section $\\sigma v$ check for a bechmark point for 1DM model"
   ]
  },
  {
   "cell_type": "code",
   "execution_count": 46,
   "metadata": {},
   "outputs": [],
   "source": [
    "so = subprocess.getoutput('cat SPheno.spc.MDEOlight')"
   ]
  },
  {
   "cell_type": "code",
   "execution_count": 47,
   "metadata": {},
   "outputs": [
    {
     "data": {
      "text/plain": [
       "['# SUSY Les Houches Accord 2 - MDEOlight Spectrum + Decays + Flavour Observables',\n",
       " '# SPheno module generated by SARAH',\n",
       " '# ----------------------------------------------------------------------',\n",
       " '# SPheno v4.0.5  ',\n",
       " '#   W. Porod, Comput. Phys. Commun. 153 (2003) 275-315, hep-ph/0301101',\n",
       " '#   W. Porod, F.Staub, Comput.Phys.Commun.183 (2012) 2458-2469, arXiv:1104.1573',\n",
       " '# SARAH: 4.14.5  ',\n",
       " '#   F. Staub; arXiv:0806.0538 (online manual)',\n",
       " '#   F. Staub; Comput. Phys. Commun. 181 (2010) 1077-1086; arXiv:0909.2863',\n",
       " '#   F. Staub; Comput. Phys. Commun. 182 (2011)  808-833; arXiv:1002.0840',\n",
       " '#   F. Staub; Comput. Phys. Commun. 184 (2013)  1792-1809; arXiv:1207.0906',\n",
       " '#   F. Staub; Comput. Phys. Commun. 185 (2014)  1773-1790; arXiv:1309.7223 ',\n",
       " '# Including the calculation of flavor observables based on FlavorKit ',\n",
       " '#   W. Porod, F. Staub, A. Vicente; Eur.Phys.J. C74 (2014) 8, 2992; arXiv:1405.1434 ',\n",
       " '# Two-loop mass corrections to Higgs fields based on ',\n",
       " '#   M. D. Goodsell, K. Nickel, F. Staub; Eur.Phys.J. C75 (2015) no.6, 290; arXiv:1411.0675 ',\n",
       " '#   M. D. Goodsell, K. Nickel, F. Staub; Eur.Phys.J. C75 (2015) no.1, 32; arXiv:1503.03098',\n",
       " '#   M. D. Goodsell, F. Staub; Eur.Phys.J.C 77 (2017) 1, 46, arXiv:1604.05335',\n",
       " '#   J. Braathen, M. D. Goodsell, F. Staub; Eur.Phys.J.C 77 (2017) 11, 758; arXiv:1703.09237',\n",
       " '# Loop decays based on ',\n",
       " '#   M. D. Goodsell, S. Liebler, F. Staub; Eur.Phys.J.C 77 (2017) 11, 757; arXiv:1706.05372',\n",
       " '# Unitarity routines based on ',\n",
       " '#   M. D. Goodsell, F. Staub; Eur.Phys.J.C 78 (2018) 8, 649; arXiv:1805.07306',\n",
       " '#   M. D. Goodsell, R. Moutafis; arXiv:2012.09022',\n",
       " '#  ',\n",
       " '# in case of problems send email to goodsell@lpthe.jussieu.fr and porod@physik.uni-wuerzburg.de, or consult the forum/wiki ',\n",
       " '# ----------------------------------------------------------------------',\n",
       " '# Created: 17.04.2024,  14:51',\n",
       " 'Block SPINFO         # Program information',\n",
       " '     1   SPhenoSARAH      # spectrum calculator',\n",
       " '     2   v4.0.5      # version number of SPheno',\n",
       " '     9   4.14.5      # version number of SARAH',\n",
       " 'Block MODSEL  # Input parameters',\n",
       " '     1  1   #  GUT scale input',\n",
       " '     2  1   #  Boundary conditions ',\n",
       " '     6  1   #  switching on flavour violation',\n",
       " 'Block MINPAR  # Input parameters',\n",
       " '    1    2.58146300E-01  # lambda1Input',\n",
       " '    2    0.00000000E+00  # lambda2Input',\n",
       " '    3    0.00000000E+00  # lambda3Input',\n",
       " '    4    0.00000000E+00  # lambda4Input',\n",
       " '    5    1.60000000E-01  # lambda5Input',\n",
       " '    6    0.00000000E+00  # lambda6Input',\n",
       " '    7    0.00000000E+00  # lambda7Input',\n",
       " '    8    0.00000000E+00  # lambda8Input',\n",
       " '    9    0.00000000E+00  # lambda9Input',\n",
       " '   10    0.00000000E+00  # lambda10Input',\n",
       " '   11    0.00000000E+00  # lambda11Input',\n",
       " '   20    5.28375800E-03  # g1pINPUT',\n",
       " '   21    0.00000000E+00  # g1p1INPUT',\n",
       " '   22   -0.00000000E+00  # g11pINPUT',\n",
       " '   23    1.00000000E+08  # mEt2Input',\n",
       " '   24    1.00000000E+10  # MS2Input',\n",
       " '   30    5.00000000E+02  # vXinput',\n",
       " '   31    2.43300000E-01  # Ycinput',\n",
       " '   32    1.10000000E-09  # muCinput',\n",
       " 'Block gaugeGUT Q= -1.00000000E+00  # (GUT scale)',\n",
       " '   1    0.00000000E+00  # g1(Q)',\n",
       " '   2    0.00000000E+00  # g2(Q)',\n",
       " '   3    0.00000000E+00  # g3(Q)',\n",
       " '   4    0.00000000E+00  # g1p(Q)',\n",
       " 'Block SMINPUTS  # SM parameters',\n",
       " '         1     1.27932000E+02  # alpha_em^-1(MZ)^MSbar',\n",
       " '         2     1.16637000E-05  # G_mu [GeV^-2]',\n",
       " '         3     1.18700000E-01  # alpha_s(MZ)^MSbar',\n",
       " '         4     9.11887000E+01  # m_Z(pole)',\n",
       " '         5     4.18000000E+00  # m_b(m_b), MSbar',\n",
       " '         6     1.73500000E+02  # m_t(pole)',\n",
       " '         7     1.77669000E+00  # m_tau(pole)',\n",
       " 'Block GAUGE Q=  1.73500000E+02  # (Renormalization Scale)',\n",
       " '   1    3.55690247E-01  # g1',\n",
       " '  11   -0.00000000E+00  # gBY',\n",
       " '   2    6.62798598E-01  # g2',\n",
       " '   3    1.22132231E+00  # g3',\n",
       " '   4    5.28375800E-03  # gBL',\n",
       " '  10    0.00000000E+00  # gYB',\n",
       " 'Block BL Q=  1.73500000E+02  # (Renormalization Scale)',\n",
       " '   1    2.58146300E-01  # lam1',\n",
       " '   2    0.00000000E+00  # lam2',\n",
       " '   4    0.00000000E+00  # lam4',\n",
       " '   3    0.00000000E+00  # lam3',\n",
       " '   5    1.60000000E-01  # lam5',\n",
       " '   6    0.00000000E+00  # lam6',\n",
       " '   7    0.00000000E+00  # lam7',\n",
       " '   8    0.00000000E+00  # lam8',\n",
       " '   9    0.00000000E+00  # lam9',\n",
       " '  10    0.00000000E+00  # lam10',\n",
       " '  11    0.00000000E+00  # lam11',\n",
       " '  31    2.43300000E-01  # YC',\n",
       " '  30    1.10000000E-09  # MUC',\n",
       " '  12    1.00000000E+08  # mEt2',\n",
       " '  10    2.00000000E+04  # MUP',\n",
       " '  13    1.00000000E+10  # MS2',\n",
       " '  43    5.00000000E+02  # vX',\n",
       " '  43    5.00000000E+02  # vX',\n",
       " 'Block SM Q=  1.73500000E+02  # (Renormalization Scale)',\n",
       " '   3    7.82500404E+03  # mH2',\n",
       " 'Block HMIX Q=  1.73500000E+02  # (Renormalization Scale)',\n",
       " '   3    2.46220569E+02  # v',\n",
       " 'Block ANGLES Q=  1.73500000E+02  # (Renormalization Scale)',\n",
       " '  10    0.00000000E+00  # TWp',\n",
       " 'Block YX Q=  1.73500000E+02  # (Renormalization Scale)',\n",
       " '  1  1     1.41421400E+00   # Real(YX(1,1),dp)',\n",
       " '  1  2     0.00000000E+00   # Real(YX(1,2),dp)',\n",
       " '  2  1     0.00000000E+00   # Real(YX(2,1),dp)',\n",
       " '  2  2     2.12132000E+00   # Real(YX(2,2),dp)',\n",
       " 'Block Yd Q=  1.73500000E+02  # (Renormalization Scale)',\n",
       " '  1  1     2.87184285E-05   # Real(Yd(1,1),dp)',\n",
       " '  1  2     0.00000000E+00   # Real(Yd(1,2),dp)',\n",
       " '  1  3     0.00000000E+00   # Real(Yd(1,3),dp)',\n",
       " '  2  1     0.00000000E+00   # Real(Yd(2,1),dp)',\n",
       " '  2  2     5.45650142E-04   # Real(Yd(2,2),dp)',\n",
       " '  2  3     0.00000000E+00   # Real(Yd(2,3),dp)',\n",
       " '  3  1     0.00000000E+00   # Real(Yd(3,1),dp)',\n",
       " '  3  2     0.00000000E+00   # Real(Yd(3,2),dp)',\n",
       " '  3  3     2.40086062E-02   # Real(Yd(3,3),dp)',\n",
       " 'Block Ye Q=  1.73500000E+02  # (Renormalization Scale)',\n",
       " '  1  1     2.93501725E-06   # Real(Ye(1,1),dp)',\n",
       " '  1  2     0.00000000E+00   # Real(Ye(1,2),dp)',\n",
       " '  1  3     0.00000000E+00   # Real(Ye(1,3),dp)',\n",
       " '  2  1     0.00000000E+00   # Real(Ye(2,1),dp)',\n",
       " '  2  2     6.06868478E-04   # Real(Ye(2,2),dp)',\n",
       " '  2  3     0.00000000E+00   # Real(Ye(2,3),dp)',\n",
       " '  3  1     0.00000000E+00   # Real(Ye(3,1),dp)',\n",
       " '  3  2     0.00000000E+00   # Real(Ye(3,2),dp)',\n",
       " '  3  3     1.02047490E-02   # Real(Ye(3,3),dp)',\n",
       " 'Block YNR Q=  1.73500000E+02  # (Renormalization Scale)',\n",
       " '  1  1     4.51224800E+05   # Real(YnR(1,1),dp)',\n",
       " '  1  2    -1.28263800E+06   # Real(YnR(1,2),dp)',\n",
       " '  1  3    -3.02928500E+06   # Real(YnR(1,3),dp)',\n",
       " '  2  1    -3.37067200E+05   # Real(YnR(2,1),dp)',\n",
       " '  2  2    -2.76814500E+05   # Real(YnR(2,2),dp)',\n",
       " '  2  3     4.58190600E+05   # Real(YnR(2,3),dp)',\n",
       " 'Block YNL Q=  1.73500000E+02  # (Renormalization Scale)',\n",
       " '  1  1     0.00000000E+00   # Real(YnL(1,1),dp)',\n",
       " '  1  2     2.89124200E-04   # Real(YnL(1,2),dp)',\n",
       " '  1  3     1.85364500E-02   # Real(YnL(1,3),dp)',\n",
       " '  2  1     0.00000000E+00   # Real(YnL(2,1),dp)',\n",
       " '  2  2     9.78220900E-03   # Real(YnL(2,2),dp)',\n",
       " '  2  3     3.17369700E-02   # Real(YnL(2,3),dp)',\n",
       " 'Block Yu Q=  1.73500000E+02  # (Renormalization Scale)',\n",
       " '  1  1     1.39897827E-05   # Real(Yu(1,1),dp)',\n",
       " '  1  2     3.23582995E-06   # Real(Yu(1,2),dp)',\n",
       " '  1  3     4.91802180E-08   # Real(Yu(1,3),dp)',\n",
       " '  2  1    -1.64341904E-03   # Real(Yu(2,1),dp)',\n",
       " '  2  2     7.10058961E-03   # Real(Yu(2,2),dp)',\n",
       " '  2  3     3.00419293E-04   # Real(Yu(2,3),dp)',\n",
       " '  3  1     5.92627039E-03   # Real(Yu(3,1),dp)',\n",
       " '  3  2    -4.07545835E-02   # Real(Yu(3,2),dp)',\n",
       " '  3  3     9.95678124E-01   # Real(Yu(3,3),dp)',\n",
       " 'Block MASS  # Mass spectrum',\n",
       " '#   PDG code      mass          particle',\n",
       " '        25     1.25099992E+02  # hh_1',\n",
       " '        35     2.00000000E+02  # hh_2',\n",
       " '        23     9.11887000E+01  # VZ',\n",
       " '        24     8.03497269E+01  # VWm',\n",
       " '        31     2.37769110E+01  # VZp',\n",
       " '         1     5.00000000E-03  # Fd_1',\n",
       " '         3     9.50000000E-02  # Fd_2',\n",
       " '         5     4.18000000E+00  # Fd_3',\n",
       " '         2     2.50000000E-03  # Fu_1',\n",
       " '         4     1.27000000E+00  # Fu_2',\n",
       " '         6     1.73500000E+02  # Fu_3',\n",
       " '        11     5.10998930E-04  # Fe_1',\n",
       " '        13     1.05658372E-01  # Fe_2',\n",
       " '        15     1.77669000E+00  # Fe_3',\n",
       " '        12     0.00000000E+00  # Fv_1',\n",
       " '        14     0.00000000E+00  # Fv_2',\n",
       " '        16     0.00000000E+00  # Fv_3',\n",
       " '      1012    -8.60195399E+01  # Chi',\n",
       " '      1022     5.00000155E+02  # Xi_1',\n",
       " '      1023     7.49999879E+02  # Xi_2',\n",
       " '      1002     1.00000000E+04  # etI',\n",
       " '      1003     1.00000000E+04  # etm',\n",
       " '      1025     1.00000000E+04  # ns_1',\n",
       " '      1026     1.00000000E+05  # ns_2',\n",
       " 'Block SCALARMIX Q=  1.73500000E+02  # ()',\n",
       " '  1  1     1.00000000E+00   # ZH(1,1)',\n",
       " '  1  2     0.00000000E+00   # ZH(1,2)',\n",
       " '  2  1     0.00000000E+00   # ZH(2,1)',\n",
       " '  2  2     1.00000000E+00   # ZH(2,2)',\n",
       " 'Block PSEUDOSCALARMIX Q=  1.73500000E+02  # ()',\n",
       " '  1  1     1.00000000E+00   # ZA(1,1)',\n",
       " '  1  2     0.00000000E+00   # ZA(1,2)',\n",
       " '  2  1     0.00000000E+00   # ZA(2,1)',\n",
       " '  2  2     1.00000000E+00   # ZA(2,2)',\n",
       " 'Block NEUTRALMIX Q=  1.73500000E+02  # ()',\n",
       " '  1  1     1.00000000E+00   # Real(ZN(1,1),dp)',\n",
       " '  1  2     0.00000000E+00   # Real(ZN(1,2),dp)',\n",
       " '  2  1     0.00000000E+00   # Real(ZN(2,1),dp)',\n",
       " '  2  2     1.00000000E+00   # Real(ZN(2,2),dp)',\n",
       " 'Block LEFTMIX Q=  1.73500000E+02  # ()',\n",
       " '  1  1    -1.00000000E+00   # Real(ZL(1,1),dp)',\n",
       " '  1  2     0.00000000E+00   # Real(ZL(1,2),dp)',\n",
       " '  2  1     0.00000000E+00   # Real(ZL(2,1),dp)',\n",
       " '  2  2    -1.00000000E+00   # Real(ZL(2,2),dp)',\n",
       " 'Block RIGHTMIX Q=  1.73500000E+02  # ()',\n",
       " '  1  1     1.00000000E+00   # Real(ZR(1,1),dp)',\n",
       " '  1  2     0.00000000E+00   # Real(ZR(1,2),dp)',\n",
       " '  2  1     0.00000000E+00   # Real(ZR(2,1),dp)',\n",
       " '  2  2     1.00000000E+00   # Real(ZR(2,2),dp)',\n",
       " 'Block UDLMIX Q=  1.73500000E+02  # ()',\n",
       " '  1  1    -1.00000000E+00   # Real(ZDL(1,1),dp)',\n",
       " '  1  2     0.00000000E+00   # Real(ZDL(1,2),dp)',\n",
       " '  1  3     0.00000000E+00   # Real(ZDL(1,3),dp)',\n",
       " '  2  1     0.00000000E+00   # Real(ZDL(2,1),dp)',\n",
       " '  2  2    -1.00000000E+00   # Real(ZDL(2,2),dp)',\n",
       " '  2  3     0.00000000E+00   # Real(ZDL(2,3),dp)',\n",
       " '  3  1     0.00000000E+00   # Real(ZDL(3,1),dp)',\n",
       " '  3  2     0.00000000E+00   # Real(ZDL(3,2),dp)',\n",
       " '  3  3    -1.00000000E+00   # Real(ZDL(3,3),dp)',\n",
       " 'Block UDRMIX Q=  1.73500000E+02  # ()',\n",
       " '  1  1     1.00000000E+00   # Real(ZDR(1,1),dp)',\n",
       " '  1  2     0.00000000E+00   # Real(ZDR(1,2),dp)',\n",
       " '  1  3     0.00000000E+00   # Real(ZDR(1,3),dp)',\n",
       " '  2  1     0.00000000E+00   # Real(ZDR(2,1),dp)',\n",
       " '  2  2     1.00000000E+00   # Real(ZDR(2,2),dp)',\n",
       " '  2  3     0.00000000E+00   # Real(ZDR(2,3),dp)',\n",
       " '  3  1     0.00000000E+00   # Real(ZDR(3,1),dp)',\n",
       " '  3  2     0.00000000E+00   # Real(ZDR(3,2),dp)',\n",
       " '  3  3     1.00000000E+00   # Real(ZDR(3,3),dp)',\n",
       " 'Block UULMIX Q=  1.73500000E+02  # ()',\n",
       " '  1  1    -9.74272160E-01   # Real(ZUL(1,1),dp)',\n",
       " '  1  2    -2.25348678E-01   # Real(ZUL(1,2),dp)',\n",
       " '  1  3    -3.42499367E-03   # Real(ZUL(1,3),dp)',\n",
       " '  2  1     2.25296231E-01   # Real(ZUL(2,1),dp)',\n",
       " '  2  2    -9.73419462E-01   # Real(ZUL(2,2),dp)',\n",
       " '  2  3    -4.11844653E-02   # Real(ZUL(2,3),dp)',\n",
       " '  3  1    -5.94690932E-03   # Real(ZUL(3,1),dp)',\n",
       " '  3  2     4.08965161E-02   # Real(ZUL(3,2),dp)',\n",
       " '  3  3    -9.99145690E-01   # Real(ZUL(3,3),dp)',\n",
       " 'Block UURMIX Q=  1.73500000E+02  # ()',\n",
       " '  1  1     1.00000000E+00   # Real(ZUR(1,1),dp)',\n",
       " '  1  2     2.16840434E-19   # Real(ZUR(1,2),dp)',\n",
       " '  1  3     0.00000000E+00   # Real(ZUR(1,3),dp)',\n",
       " '  2  1    -2.16840434E-19   # Real(ZUR(2,1),dp)',\n",
       " '  2  2     1.00000000E+00   # Real(ZUR(2,2),dp)',\n",
       " '  2  3    -0.00000000E+00   # Real(ZUR(2,3),dp)',\n",
       " '  3  1     0.00000000E+00   # Real(ZUR(3,1),dp)',\n",
       " '  3  2     0.00000000E+00   # Real(ZUR(3,2),dp)',\n",
       " '  3  3     1.00000000E+00   # Real(ZUR(3,3),dp)',\n",
       " 'Block UELMIX Q=  1.73500000E+02  # ()',\n",
       " '  1  1    -1.00000000E+00   # Real(ZEL(1,1),dp)',\n",
       " '  1  2     0.00000000E+00   # Real(ZEL(1,2),dp)',\n",
       " '  1  3     0.00000000E+00   # Real(ZEL(1,3),dp)',\n",
       " '  2  1     0.00000000E+00   # Real(ZEL(2,1),dp)',\n",
       " '  2  2    -1.00000000E+00   # Real(ZEL(2,2),dp)',\n",
       " '  2  3     0.00000000E+00   # Real(ZEL(2,3),dp)',\n",
       " '  3  1     0.00000000E+00   # Real(ZEL(3,1),dp)',\n",
       " '  3  2     0.00000000E+00   # Real(ZEL(3,2),dp)',\n",
       " '  3  3    -1.00000000E+00   # Real(ZEL(3,3),dp)',\n",
       " 'Block UERMIX Q=  1.73500000E+02  # ()',\n",
       " '  1  1     1.00000000E+00   # Real(ZER(1,1),dp)',\n",
       " '  1  2     0.00000000E+00   # Real(ZER(1,2),dp)',\n",
       " '  1  3     0.00000000E+00   # Real(ZER(1,3),dp)',\n",
       " '  2  1     0.00000000E+00   # Real(ZER(2,1),dp)',\n",
       " '  2  2     1.00000000E+00   # Real(ZER(2,2),dp)',\n",
       " '  2  3     0.00000000E+00   # Real(ZER(2,3),dp)',\n",
       " '  3  1     0.00000000E+00   # Real(ZER(3,1),dp)',\n",
       " '  3  2     0.00000000E+00   # Real(ZER(3,2),dp)',\n",
       " '  3  3     1.00000000E+00   # Real(ZER(3,3),dp)',\n",
       " 'Block LNEUTRINOMIX Q=  1.73500000E+02  # ()',\n",
       " '  1  1     1.00000000E+00   # Real(XL(1,1),dp)',\n",
       " '  1  2     0.00000000E+00   # Real(XL(1,2),dp)',\n",
       " '  1  3     0.00000000E+00   # Real(XL(1,3),dp)',\n",
       " '  2  1     0.00000000E+00   # Real(XL(2,1),dp)',\n",
       " '  2  2     1.00000000E+00   # Real(XL(2,2),dp)',\n",
       " '  2  3     0.00000000E+00   # Real(XL(2,3),dp)',\n",
       " '  3  1     0.00000000E+00   # Real(XL(3,1),dp)',\n",
       " '  3  2     0.00000000E+00   # Real(XL(3,2),dp)',\n",
       " '  3  3     1.00000000E+00   # Real(XL(3,3),dp)',\n",
       " 'Block RNEUTRINOMIX Q=  1.73500000E+02  # ()',\n",
       " '  1  1     1.00000000E+00   # Real(XR(1,1),dp)',\n",
       " '  1  2     0.00000000E+00   # Real(XR(1,2),dp)',\n",
       " '  1  3     0.00000000E+00   # Real(XR(1,3),dp)',\n",
       " '  2  1     0.00000000E+00   # Real(XR(2,1),dp)',\n",
       " '  2  2     1.00000000E+00   # Real(XR(2,2),dp)',\n",
       " '  2  3     0.00000000E+00   # Real(XR(2,3),dp)',\n",
       " '  3  1     0.00000000E+00   # Real(XR(3,1),dp)',\n",
       " '  3  2     0.00000000E+00   # Real(XR(3,2),dp)',\n",
       " '  3  3     1.00000000E+00   # Real(XR(3,3),dp)',\n",
       " 'Block SPheno # SPheno internal parameters ',\n",
       " '         1    -1.00000000E+00  # ErrorLevel',\n",
       " '         2     0.00000000E+00  # SPA_conventions',\n",
       " '        11     1.00000000E+00  # Branching ratios',\n",
       " '        13     1.00000000E+00  # 3 Body decays',\n",
       " '        31    -1.00000000E+00  # GUT scale',\n",
       " '        33     1.73500000E+02  # Renormalization scale',\n",
       " '        34     1.00000000E-04  # Precision',\n",
       " '        35     4.00000000E+01  # Iterations',\n",
       " '        38     1.00000000E+00  # RGE level',\n",
       " '        40     7.29735257E-03  # Alpha',\n",
       " '        41     2.49520000E+00  # Gamma_Z',\n",
       " '        42     2.06000000E+00  # Gamma_W',\n",
       " '        50     0.00000000E+00  # Rotate negative fermion masses',\n",
       " '        51     0.00000000E+00  # Switch to SCKM matrix',\n",
       " '        52     1.00000000E+00  # Ignore negative masses',\n",
       " '        53     0.00000000E+00  # Ignore negative masses at MZ',\n",
       " '        55     1.00000000E+00  # Calculate one loop masses',\n",
       " '        56     0.00000000E+00  # Calculate two-loop Higgs masses',\n",
       " '        57     1.00000000E+00  # Calculate low energy',\n",
       " '        60     1.00000000E+00  # Include kinetic mixing',\n",
       " '        65     1.00000000E+00  # Solution of tadpole equation',\n",
       " 'Block HiggsLHC7 # Higgs production cross section at LHC7 [pb] (rescaled SM values from HXSWG) ',\n",
       " '  1        25        1.56723783E+01 # Gluon fusion ',\n",
       " '  2        25        1.20798400E+00 # Vector boson fusion ',\n",
       " '  3        25        5.39637992E-01 # W-H production ',\n",
       " '  4        25        3.15614729E-01 # Z-H production ',\n",
       " '  5        25        8.59148440E-02 # t-t-H production ',\n",
       " 'Block HiggsLHC8 # Higgs production cross section at LHC8 [pb] (rescaled SM values from HXSWG) ',\n",
       " '  1        25        1.99494807E+01 # Gluon fusion ',\n",
       " '  2        25        1.55762177E+00 # Vector boson fusion ',\n",
       " '  3        25        6.92005520E-01 # W-H production ',\n",
       " '  4        25        3.94204559E-01 # Z-H production ',\n",
       " '  5        25        1.30050654E-01 # t-t-H production ',\n",
       " 'Block HiggsLHC13 # Higgs production cross section at LHC13 [pb] (rescaled SM values from SusHI 1.5.0) ',\n",
       " '  1        25        4.66139676E+01 # Gluon fusion ',\n",
       " 'Block HiggsLHC14 # Higgs production cross section at LHC14 [pb] (rescaled SM values from SusHI 1.5.0)',\n",
       " '  1        25        5.24927106E+01 # Gluon fusion ',\n",
       " 'Block HiggsFCC100 # Higgs production cross section at FCC-pp [pb] (rescaled SM values from SusHI 1.5.0)',\n",
       " '  1        25        7.73350673E+02 # Gluon fusion ',\n",
       " 'Block HiggsCouplingsFermions # ',\n",
       " '    1.00000000E+00    0.00000000E+00        3             25         5         5 # h_1 b b coupling ',\n",
       " '    1.00000000E+00    0.00000000E+00        3             25         3         3 # h_1 s s coupling ',\n",
       " '    1.00000000E+00    7.87112259E-17        3             25         6         6 # h_1 t t coupling  ',\n",
       " '    1.00000000E+00    0.00000000E+00        3             25         4         4 # h_1 c c coupling ',\n",
       " '    1.00000000E+00    0.00000000E+00        3             25        15        15 # h_1 tau tau coupling ',\n",
       " '    1.00000000E+00    0.00000000E+00        3             25        13        13 # h_1 mu mu coupling  ',\n",
       " '    0.00000000E+00    0.00000000E+00        3             35         5         5 # h_2 b b coupling ',\n",
       " '    0.00000000E+00    0.00000000E+00        3             35         3         3 # h_2 s s coupling ',\n",
       " '    0.00000000E+00    0.00000000E+00        3             35         6         6 # h_2 t t coupling  ',\n",
       " '    0.00000000E+00    0.00000000E+00        3             35         4         4 # h_2 c c coupling ',\n",
       " '    0.00000000E+00    0.00000000E+00        3             35        15        15 # h_2 tau tau coupling ',\n",
       " '    0.00000000E+00    0.00000000E+00        3             35        13        13 # h_2 mu mu coupling  ',\n",
       " 'Block HiggsCouplingsBosons # ',\n",
       " '    1.00000000E+00        3             25        24        24 # h_1 W W coupling ',\n",
       " '    1.00000000E+00        3             25        23        23 # h_1 Z Z coupling  ',\n",
       " '    0.00000000E+00        3             25        23        22 # h_1 Z gamma coupling ',\n",
       " '    1.04234225E+00        3             25        22        22 # h_1 gamma gamma coupling ',\n",
       " '    1.02277797E+00        3             25        21        21 # h_1 g g coupling ',\n",
       " '    0.00000000E+00        4             25        21        21        23 # h_1 g g Z coupling ',\n",
       " '    0.00000000E+00        3             35        24        24 # h_2 W W coupling ',\n",
       " '    0.00000000E+00        3             35        23        23 # h_2 Z Z coupling  ',\n",
       " '    0.00000000E+00        3             35        23        22 # h_2 Z gamma coupling ',\n",
       " '    0.00000000E+00        3             35        22        22 # h_2 gamma gamma coupling ',\n",
       " '    0.00000000E+00        3             35        21        21 # h_2 g g coupling ',\n",
       " '    0.00000000E+00        4             35        21        21        23 # h_2 g g Z coupling ',\n",
       " '    0.00000000E+00        3             25        25        23 # h_1 h_1 Z coupling  ',\n",
       " '    0.00000000E+00        3             25        35        23 # h_1 h_2 Z coupling  ',\n",
       " '    0.00000000E+00        3             35        25        23 # h_2 h_1 Z coupling  ',\n",
       " '    0.00000000E+00        3             35        35        23 # h_2 h_2 Z coupling  ',\n",
       " 'Block EFFHIGGSCOUPLINGS # values of loop-induced couplings ',\n",
       " '        25           22           22     0.32709690E-04 # H-Photon-Photon ',\n",
       " '        25           21           21     0.66130795E-04 # H-Gluon-Gluon ',\n",
       " '        25           22           23     0.00000000E+00 # H-Photon-Z (not yet calculated by SPheno) ',\n",
       " '        35           22           22     0.00000000E+00 # H-Photon-Photon ',\n",
       " '        35           21           21     0.00000000E+00 # H-Gluon-Gluon ',\n",
       " '        35           22           23     0.00000000E+00 # H-Photon-Z (not yet calculated by SPheno) ',\n",
       " 'Block SPhenoLowEnergy # low energy observables ',\n",
       " '       1    2.17553896E-12  # T-parameter (1-loop BSM)',\n",
       " '       2   -4.13043825E-12  # S-parameter (1-loop BSM)',\n",
       " '       3    9.15549642E-08  # U-parameter (1-loop BSM)',\n",
       " '      20    2.15256028E-23  # (g-2)_e',\n",
       " '      21    2.15941418E-14  # (g-2)_mu',\n",
       " '      22    9.76982117E-10  # (g-2)_tau',\n",
       " '      23    0.00000000E+00  # EDM(e)',\n",
       " '      24    0.00000000E+00  # EDM(mu)',\n",
       " '      25    0.00000000E+00  # EDM(tau)',\n",
       " '      39   -3.36169959E-04  # delta(rho)',\n",
       " 'Block FlavorKitQFV # quark flavor violating observables ',\n",
       " '     200    3.15000000E-04  # BR(B->X_s gamma)',\n",
       " '     201    1.00000000E+00  # BR(B->X_s gamma)/BR(B->X_s gamma)_SM',\n",
       " '     300    5.89291589E-04  # BR(D->mu nu)',\n",
       " '     301    9.98950690E-01  # BR(D->mu nu)/BR(D->mu nu)_SM',\n",
       " '     400    5.57245359E-03  # BR(Ds->mu nu)',\n",
       " '     401    9.98836361E-01  # BR(Ds->mu nu)/BR(Ds->mu nu)_SM',\n",
       " '     402    5.44600081E-02  # BR(Ds->tau nu)',\n",
       " '     403    9.98836361E-01  # BR(Ds->tau nu)/BR(Ds->tau nu)_SM',\n",
       " '     500    5.05883816E-07  # BR(B->mu nu)',\n",
       " '     501    9.91645649E-01  # BR(B->mu nu)/BR(B->mu nu)_SM',\n",
       " '     502    1.12565752E-04  # BR(B->tau nu)',\n",
       " '     503    9.91645649E-01  # BR(B->tau nu)/BR(B->tau nu)_SM',\n",
       " '     600    6.32329548E-01  # BR(K->mu nu)',\n",
       " '     601    9.99926792E-01  # BR(K->mu nu)/BR(K->mu nu)_SM',\n",
       " '     602    2.47647734E-05  # R_K = BR(K->e nu)/(K->mu nu)',\n",
       " '     603    2.47611475E-05  # R_K^SM = BR(K->e nu)_SM/(K->mu nu)_SM',\n",
       " '    1900    1.89016626E+01  # Delta(M_Bs)',\n",
       " '    1901    1.00058000E+00  # Delta(M_Bs)/Delta(M_Bs)_SM',\n",
       " '    1902    4.22367693E-01  # Delta(M_Bd)',\n",
       " '    1903    1.00031648E+00  # Delta(M_Bd)/Delta(M_Bd)_SM',\n",
       " '    4000    1.06210512E-15  # BR(B^0_d->e e)',\n",
       " '    4001    1.00000720E+00  # BR(B^0_d->e e)/BR(B^0_d->e e)_SM',\n",
       " '    4002    7.19287248E-14  # BR(B^0_s->e e)',\n",
       " '    4003    1.00000705E+00  # BR(B^0_s->e e)/BR(B^0_s->e e)_SM',\n",
       " '    4004    4.53719351E-11  # BR(B^0_d->mu mu)',\n",
       " '    4005    1.00000719E+00  # BR(B^0_d->mu mu)/BR(B^0_d->mu mu)_SM',\n",
       " '    4006    3.07279361E-09  # BR(B^0_s->mu mu)',\n",
       " '    4007    1.00000704E+00  # BR(B^0_s->mu mu)/BR(B^0_s->mu mu)_SM',\n",
       " '    4008    9.49684189E-09  # BR(B^0_d->tau tau)',\n",
       " '    4009    1.00000394E+00  # BR(B^0_d->tau tau)/BR(B^0_d->tau tau)_SM',\n",
       " '    4010    6.51678713E-07  # BR(B^0_s->tau tau)',\n",
       " '    4011    1.00000396E+00  # BR(B^0_s->tau tau)/BR(B^0_s->tau tau)_SM',\n",
       " '    5000    1.64141441E-06  # BR(B-> s e e)',\n",
       " '    5001    9.91617429E-01  # BR(B-> s e e)/BR(B-> s e e)_SM',\n",
       " '    5002    1.59101657E-06  # BR(B-> s mu mu)',\n",
       " '    5003    9.91417300E-01  # BR(B-> s mu mu)/BR(B-> s mu mu)_SM',\n",
       " '    6000    1.10904124E-07  # BR(B -> K mu mu)',\n",
       " '    6001    9.99136253E-01  # BR(B -> K mu mu)/BR(B -> K mu mu)_SM',\n",
       " '    6002    1.10904124E-07  # BR(B -> K mu mu)',\n",
       " '    6003    9.99136253E-01  # BR(B -> K mu mu)/BR(B -> K mu mu)_SM',\n",
       " '    7000    3.81159163E-05  # BR(B->s nu nu)',\n",
       " '    7001    1.00000000E+00  # BR(B->s nu nu)/BR(B->s nu nu)_SM',\n",
       " '    7002    8.08476158E-07  # BR(B->D nu nu)',\n",
       " '    7003    1.00000000E+00  # BR(B->D nu nu)/BR(B->D nu nu)_SM',\n",
       " '    8000    1.30973983E-10  # BR(K^+ -> pi^+ nu nu)',\n",
       " '    8001    1.00000000E+00  # BR(K^+ -> pi^+ nu nu)/BR(K^+ -> pi^+ nu nu)_SM',\n",
       " '    8002    1.62288751E-43  # BR(K_L -> pi^0 nu nu)',\n",
       " '    8003    1.00000000E+00  # BR(K_L -> pi^0 nu nu)/BR(K_L -> pi^0 nu nu)_SM',\n",
       " '    8004    0.00000000E+00  # BR(K^0_L -> e mu)',\n",
       " '    8005    0.00000000E+00  # BR(K^0_L -> e mu)/BR(K^0_L -> e mu)_SM',\n",
       " '    9100    1.94500713E-15  # Delta(M_K)',\n",
       " '    9102    9.99993416E-01  # Delta(M_K)/Delta(M_K)_SM',\n",
       " '    9103    1.84117156E-03  # epsilon_K',\n",
       " '    9104    1.00000000E+00  # epsilon_K/epsilon_K^SM',\n",
       " 'Block FlavorKitLFV # lepton flavor violating observables ',\n",
       " '     701    0.00000000E+00  # BR(mu->e gamma)',\n",
       " '     702    0.00000000E+00  # BR(tau->e gamma)',\n",
       " '     703    3.88356462E-20  # BR(tau->mu gamma)',\n",
       " '     800    0.00000000E+00  # CR(mu-e, Al)',\n",
       " '     801    0.00000000E+00  # CR(mu-e, Ti)',\n",
       " '     802    0.00000000E+00  # CR(mu-e, Sr)',\n",
       " '     803    0.00000000E+00  # CR(mu-e, Sb)',\n",
       " '     804    0.00000000E+00  # CR(mu-e, Au)',\n",
       " '     805    0.00000000E+00  # CR(mu-e, Pb)',\n",
       " '     901    0.00000000E+00  # BR(mu->3e)',\n",
       " '     902    0.00000000E+00  # BR(tau->3e)',\n",
       " '     903    1.40205996E-22  # BR(tau->3mu)',\n",
       " '     904    0.00000000E+00  # BR(tau- -> e- mu+ mu-)',\n",
       " '     905    4.86115467E-22  # BR(tau- -> mu- e+ e-)',\n",
       " '     906    0.00000000E+00  # BR(tau- -> e+ mu- mu-)',\n",
       " '     907    0.00000000E+00  # BR(tau- -> mu+ e- e-)',\n",
       " '    1001    0.00000000E+00  # BR(Z->e mu)',\n",
       " '    1002    0.00000000E+00  # BR(Z->e tau)',\n",
       " '    1003    1.89080004E-24  # BR(Z->mu tau)',\n",
       " '    1101    0.00000000E+00  # BR(h->e mu)',\n",
       " '    1102    0.00000000E+00  # BR(h->e tau)',\n",
       " '    1103    0.00000000E+00  # BR(h->mu tau)',\n",
       " '    2001    0.00000000E+00  # BR(tau->e pi)',\n",
       " '    2002    0.00000000E+00  # BR(tau->e eta)',\n",
       " \"    2003    0.00000000E+00  # BR(tau->e eta')\",\n",
       " '    2004    7.91841208E-44  # BR(tau->mu pi)',\n",
       " '    2005    1.17065570E-44  # BR(tau->mu eta)',\n",
       " \"    2006    1.28133794E-44  # BR(tau->mu eta')\",\n",
       " 'Block FWCOEF Q=  1.60000000E+02  # Wilson coefficients at scale Q ',\n",
       " '     0305 4422   00   0    -0.16462838E-08    # coeffC7sm',\n",
       " '     0305 4422   00   2    -0.16462838E-08    # coeffC7',\n",
       " '     0305 4322   00   2    -0.37373463E-10    # coeffC7p',\n",
       " '     0305 4422   00   1     0.00000000E+00    # coeffC7NP',\n",
       " '     0305 4322   00   1    -0.37373463E-10    # coeffC7pNP',\n",
       " '     0305 6421   00   0    -0.85377588E-09    # coeffC8sm',\n",
       " '     0305 6421   00   2    -0.85377588E-09    # coeffC8',\n",
       " '     0305 6321   00   2    -0.19364002E-10    # coeffC8p',\n",
       " '     0305 6421   00   1     0.00000000E+00    # coeffC8NP',\n",
       " '     0305 6321   00   1    -0.19364002E-10    # coeffC8pNP',\n",
       " ' 03051111 4133   00   0     0.10163545E-08    # coeffC9eeSM',\n",
       " ' 03051111 4133   00   2     0.10163545E-08    # coeffC9ee',\n",
       " ' 03051111 4233   00   2    -0.21615055E-14    # coeffC9Pee',\n",
       " ' 03051111 4133   00   1     0.00000000E+00    # coeffC9eeNP',\n",
       " ' 03051111 4233   00   1    -0.21615055E-14    # coeffC9PeeNP',\n",
       " ' 03051111 4137   00   0    -0.38112329E-08    # coeffC10eeSM',\n",
       " ' 03051111 4137   00   2    -0.38112329E-08    # coeffC10ee',\n",
       " ' 03051111 4237   00   2    -0.20467091E-13    # coeffC10Pee',\n",
       " ' 03051111 4137   00   1     0.00000000E+00    # coeffC10eeNP',\n",
       " ' 03051111 4237   00   1     0.20467091E-13    # coeffC10PeeNP',\n",
       " ' 03051313 4133   00   0     0.10163540E-08    # coeffC9mumuSM',\n",
       " ' 03051313 4133   00   2     0.10163540E-08    # coeffC9mumu',\n",
       " ' 03051313 4233   00   2    -0.21614883E-14    # coeffC9Pmumu',\n",
       " ' 03051313 4133   00   1     0.00000000E+00    # coeffC9mumuNP',\n",
       " ' 03051313 4233   00   1    -0.21614883E-14    # coeffC9PmumuNP',\n",
       " ' 03051313 4137   00   0    -0.38112334E-08    # coeffC10mumuSM',\n",
       " ' 03051313 4137   00   2    -0.38112334E-08    # coeffC10mumu',\n",
       " ' 03051313 4237   00   2    -0.20467108E-13    # coeffC10Pmumu',\n",
       " ' 03051313 4137   00   1     0.00000000E+00    # coeffC10mumuNP',\n",
       " ' 03051313 4237   00   1    -0.20467108E-13    # coeffC10PmumuNP',\n",
       " ' 03051212 4141   00   0    -0.11740494E-07    # coeffCLnu1nu1SM',\n",
       " ' 03051212 4141   00   2    -0.11740494E-07    # coeffCLnu1nu1',\n",
       " ' 03051212 4241   00   2     0.40934181E-13    # coeffCLPnu1nu1',\n",
       " ' 03051212 4141   00   1     0.00000000E+00    # coeffCLnu1nu1NP',\n",
       " ' 03051212 4241   00   1     0.40934181E-13    # coeffCLPnu1nu1NP',\n",
       " ' 03051414 4141   00   0    -0.11740398E-07    # coeffCLnu2nu2SM',\n",
       " ' 03051414 4141   00   2    -0.11740398E-07    # coeffCLnu2nu2',\n",
       " ' 03051414 4241   00   2     0.40934147E-13    # coeffCLPnu2nu2',\n",
       " ' 03051414 4141   00   1     0.00000000E+00    # coeffCLnu2nu2NP',\n",
       " ' 03051414 4241   00   1     0.40934147E-13    # coeffCLPnu2nu2NP',\n",
       " ' 03051616 4141   00   0    -0.11718256E-07    # coeffCLnu3nu3SM',\n",
       " ' 03051616 4141   00   2    -0.11718256E-07    # coeffCLnu3nu3',\n",
       " ' 03051616 4241   00   2     0.40924514E-13    # coeffCLPnu3nu3',\n",
       " ' 03051616 4141   00   1     0.00000000E+00    # coeffCLnu3nu3NP',\n",
       " ' 03051616 4241   00   1     0.40924514E-13    # coeffCLPnu3nu3NP',\n",
       " ' 03051212 4142   00   0     0.00000000E+00    # coeffCRnu1nu1SM',\n",
       " ' 03051212 4142   00   2     0.00000000E+00    # coeffCRnu1nu1',\n",
       " ' 03051212 4242   00   2     0.00000000E+00    # coeffCRPnu1nu1',\n",
       " ' 03051212 4142   00   1     0.00000000E+00    # coeffCRnu1nu1NP',\n",
       " ' 03051212 4242   00   1     0.00000000E+00    # coeffCRPnu1nu1NP',\n",
       " ' 03051414 4142   00   0     0.00000000E+00    # coeffCRnu2nu2SM',\n",
       " ' 03051414 4142   00   2     0.00000000E+00    # coeffCRnu2nu2',\n",
       " ' 03051414 4242   00   2     0.00000000E+00    # coeffCRPnu2nu2',\n",
       " ' 03051414 4142   00   1     0.00000000E+00    # coeffCRnu2nu2NP',\n",
       " ' 03051414 4242   00   1     0.00000000E+00    # coeffCRPnu2nu2NP',\n",
       " ' 03051616 4142   00   0     0.00000000E+00    # coeffCRnu3nu3SM',\n",
       " ' 03051616 4142   00   2     0.00000000E+00    # coeffCRnu3nu3',\n",
       " ' 03051616 4242   00   2     0.00000000E+00    # coeffCRPnu3nu3',\n",
       " ' 03051616 4142   00   1     0.00000000E+00    # coeffCRnu3nu3NP',\n",
       " ' 03051616 4242   00   1     0.00000000E+00    # coeffCRPnu3nu3NP',\n",
       " ' 01030103 3131   00   2    -0.62421643E-23    # coeffKK_SLL',\n",
       " ' 01030103 3232   00   2    -0.22534213E-20    # coeffKK_SRR',\n",
       " ' 01030103 3132   00   2    -0.77943477E-19    # coeffKK_SLR',\n",
       " ' 01030103 4141   00   2     0.27591340E-12    # coeffKK_VLL',\n",
       " ' 01030103 4242   00   2     0.34542212E-27    # coeffKK_VRR',\n",
       " ' 01030103 4142   00   2    -0.11860112E-21    # coeffKK_VLR',\n",
       " ' 01030103 4343   00   2     0.00000000E+00    # coeffKK_TLL',\n",
       " ' 01030103 4444   00   2     0.00000000E+00    # coeffKK_TRR',\n",
       " ' 01050105 3131   00   2    -0.18322924E-20    # coeffBB_SLL',\n",
       " ' 01050105 3232   00   2    -0.12805818E-14    # coeffBB_SRR',\n",
       " ' 01050105 3132   00   2    -0.12185168E-16    # coeffBB_SLR',\n",
       " ' 01050105 4141   00   2     0.20080171E-11    # coeffBB_VLL',\n",
       " ' 01050105 4242   00   2     0.11885091E-23    # coeffBB_VRR',\n",
       " ' 01050105 4142   00   2    -0.15317964E-17    # coeffBB_VLR',\n",
       " ' 01050105 4343   00   2     0.00000000E+00    # coeffBB_TLL',\n",
       " ' 01050105 4444   00   2     0.00000000E+00    # coeffBB_TRR',\n",
       " ' 03050305 3131   00   2    -0.31292480E-16    # coeffBsBs_SLL',\n",
       " ' 03050305 3232   00   2    -0.60582241E-13    # coeffBsBs_SRR',\n",
       " ' 03050305 3132   00   2    -0.10966059E-13    # coeffBsBs_SLR',\n",
       " ' 03050305 4141   00   2     0.95046189E-10    # coeffBsBs_VLL',\n",
       " ' 03050305 4242   00   2     0.20347354E-19    # coeffBsBs_VRR',\n",
       " ' 03050305 4142   00   2    -0.13768691E-14    # coeffBsBs_VLR',\n",
       " ' 03050305 4343   00   2     0.00000000E+00    # coeffBsBs_TLL',\n",
       " ' 03050305 4444   00   2     0.00000000E+00    # coeffBsBs_TRR',\n",
       " ' 01030103 3131   00   1     0.00000000E+00    # coeffKK_SLLNP',\n",
       " ' 01030103 3232   00   1     0.00000000E+00    # coeffKK_SRRNP',\n",
       " ' 01030103 3132   00   1     0.00000000E+00    # coeffKK_SLRNP',\n",
       " ' 01030103 4141   00   1     0.00000000E+00    # coeffKK_VLLNP',\n",
       " ' 01030103 4242   00   1     0.00000000E+00    # coeffKK_VRRNP',\n",
       " ' 01030103 4142   00   1     0.00000000E+00    # coeffKK_VLRNP',\n",
       " ' 01030103 4343   00   1     0.00000000E+00    # coeffKK_TLLNP',\n",
       " ' 01030103 4444   00   1     0.00000000E+00    # coeffKK_TRRNP',\n",
       " ' 01050105 3131   00   1     0.00000000E+00    # coeffBB_SLLNP',\n",
       " ' 01050105 3232   00   1     0.00000000E+00    # coeffBB_SRRNP',\n",
       " ' 01050105 3132   00   1     0.00000000E+00    # coeffBB_SLRNP',\n",
       " ' 01050105 4141   00   1     0.00000000E+00    # coeffBB_VLLNP',\n",
       " ' 01050105 4242   00   1     0.00000000E+00    # coeffBB_VRRNP',\n",
       " ' 01050105 4142   00   1     0.00000000E+00    # coeffBB_VLRNP',\n",
       " ' 01050105 4343   00   1     0.00000000E+00    # coeffBB_TLLNP',\n",
       " ' 01050105 4444   00   1     0.00000000E+00    # coeffBB_TRRNP',\n",
       " ' 03050305 3131   00   1     0.00000000E+00    # coeffBsBs_SLLNP',\n",
       " ' 03050305 3232   00   1     0.00000000E+00    # coeffBsBs_SRRNP',\n",
       " ' 03050305 3132   00   1     0.00000000E+00    # coeffBsBs_SLRNP',\n",
       " ' 03050305 4141   00   1     0.00000000E+00    # coeffBsBs_VLLNP',\n",
       " ' 03050305 4242   00   1     0.00000000E+00    # coeffBsBs_VRRNP',\n",
       " ' 03050305 4142   00   1     0.00000000E+00    # coeffBsBs_VLRNP',\n",
       " ' 03050305 4343   00   1     0.00000000E+00    # coeffBsBs_TLLNP',\n",
       " ' 03050305 4444   00   1     0.00000000E+00    # coeffBsBs_TRRNP',\n",
       " ' 01030103 3131   00   0    -0.62421643E-23    # coeffKK_SLLSM',\n",
       " ' 01030103 3232   00   0    -0.22534213E-20    # coeffKK_SRRSM',\n",
       " ' 01030103 3132   00   0    -0.77943477E-19    # coeffKK_SLRSM',\n",
       " ' 01030103 4141   00   0     0.27591340E-12    # coeffKK_VLLSM',\n",
       " ' 01030103 4242   00   0     0.34542212E-27    # coeffKK_VRRSM',\n",
       " ' 01030103 4142   00   0    -0.11860112E-21    # coeffKK_VLRSM',\n",
       " ' 01030103 4343   00   0     0.00000000E+00    # coeffKK_TLLSM',\n",
       " ' 01030103 4444   00   0     0.00000000E+00    # coeffKK_TRRSM',\n",
       " ' 01050105 3131   00   0    -0.18322924E-20    # coeffBB_SLLSM',\n",
       " ' 01050105 3232   00   0    -0.12805818E-14    # coeffBB_SRRSM',\n",
       " ' 01050105 3132   00   0    -0.12185168E-16    # coeffBB_SLRSM',\n",
       " ' 01050105 4141   00   0     0.20080171E-11    # coeffBB_VLLSM',\n",
       " ' 01050105 4242   00   0     0.11885091E-23    # coeffBB_VRRSM',\n",
       " ' 01050105 4142   00   0    -0.15317964E-17    # coeffBB_VLRSM',\n",
       " ' 01050105 4343   00   0     0.00000000E+00    # coeffBB_TLLSM',\n",
       " ' 01050105 4444   00   0     0.00000000E+00    # coeffBB_TRRSM',\n",
       " ' 03050305 3131   00   0    -0.31292480E-16    # coeffBsBs_SLLSM',\n",
       " ' 03050305 3232   00   0    -0.60582241E-13    # coeffBsBs_SRRSM',\n",
       " ' 03050305 3132   00   0    -0.10966059E-13    # coeffBsBs_SLRSM',\n",
       " ' 03050305 4141   00   0     0.95046189E-10    # coeffBsBs_VLLSM',\n",
       " ' 03050305 4242   00   0     0.20347354E-19    # coeffBsBs_VRRSM',\n",
       " ' 03050305 4142   00   0    -0.13768691E-14    # coeffBsBs_VLRSM',\n",
       " ' 03050305 4343   00   0     0.00000000E+00    # coeffBsBs_TLLSM',\n",
       " ' 03050305 4444   00   0     0.00000000E+00    # coeffBsBs_TRRSM',\n",
       " 'Block IMFWCOEF Q=  1.60000000E+02  # Im(Wilson coefficients) at scale Q ',\n",
       " '     0305 4422   00   0    -0.00000000E+00    # coeffC7sm',\n",
       " '     0305 4422   00   2    -0.00000000E+00    # coeffC7',\n",
       " '     0305 4322   00   2    -0.00000000E+00    # coeffC7p',\n",
       " '     0305 4422   00   1     0.00000000E+00    # coeffC7NP',\n",
       " '     0305 4322   00   1    -0.00000000E+00    # coeffC7pNP',\n",
       " '     0305 6421   00   0    -0.00000000E+00    # coeffC8sm',\n",
       " '     0305 6421   00   2    -0.00000000E+00    # coeffC8',\n",
       " '     0305 6321   00   2    -0.00000000E+00    # coeffC8p',\n",
       " '     0305 6421   00   1     0.00000000E+00    # coeffC8NP',\n",
       " '     0305 6321   00   1    -0.00000000E+00    # coeffC8pNP',\n",
       " ' 03051111 4133   00   0     0.00000000E+00    # coeffC9eeSM',\n",
       " ' 03051111 4133   00   2     0.00000000E+00    # coeffC9ee',\n",
       " ' 03051111 4233   00   2     0.00000000E+00    # coeffC9Pee',\n",
       " ' 03051111 4133   00   1     0.00000000E+00    # coeffC9eeNP',\n",
       " ' 03051111 4233   00   1     0.00000000E+00    # coeffC9PeeNP',\n",
       " ' 03051111 4137   00   0     0.00000000E+00    # coeffC10eeSM',\n",
       " ' 03051111 4137   00   2     0.00000000E+00    # coeffC10ee',\n",
       " ' 03051111 4237   00   2     0.00000000E+00    # coeffC10Pee',\n",
       " ' 03051111 4137   00   1     0.00000000E+00    # coeffC10eeNP',\n",
       " ' 03051111 4237   00   1     0.00000000E+00    # coeffC10PeeNP',\n",
       " ' 03051313 4133   00   0     0.00000000E+00    # coeffC9mumuSM',\n",
       " ' 03051313 4133   00   2     0.00000000E+00    # coeffC9mumu',\n",
       " ' 03051313 4233   00   2     0.00000000E+00    # coeffC9Pmumu',\n",
       " ' 03051313 4133   00   1     0.00000000E+00    # coeffC9mumuNP',\n",
       " ' 03051313 4233   00   1     0.00000000E+00    # coeffC9PmumuNP',\n",
       " ' 03051313 4137   00   0     0.00000000E+00    # coeffC10mumuSM',\n",
       " ' 03051313 4137   00   2     0.00000000E+00    # coeffC10mumu',\n",
       " ' 03051313 4237   00   2     0.00000000E+00    # coeffC10Pmumu',\n",
       " ' 03051313 4137   00   1     0.00000000E+00    # coeffC10mumuNP',\n",
       " ' 03051313 4237   00   1     0.00000000E+00    # coeffC10PmumuNP',\n",
       " ' 03051212 4141   00   0     0.00000000E+00    # coeffCLnu1nu1SM',\n",
       " ' 03051212 4141   00   2     0.00000000E+00    # coeffCLnu1nu1',\n",
       " ' 03051212 4241   00   2     0.00000000E+00    # coeffCLPnu1nu1',\n",
       " ' 03051212 4141   00   1     0.00000000E+00    # coeffCLnu1nu1NP',\n",
       " ' 03051212 4241   00   1     0.00000000E+00    # coeffCLPnu1nu1NP',\n",
       " ' 03051414 4141   00   0     0.00000000E+00    # coeffCLnu2nu2SM',\n",
       " ' 03051414 4141   00   2     0.00000000E+00    # coeffCLnu2nu2',\n",
       " ' 03051414 4241   00   2     0.00000000E+00    # coeffCLPnu2nu2',\n",
       " ' 03051414 4141   00   1     0.00000000E+00    # coeffCLnu2nu2NP',\n",
       " ' 03051414 4241   00   1     0.00000000E+00    # coeffCLPnu2nu2NP',\n",
       " ' 03051616 4141   00   0     0.00000000E+00    # coeffCLnu3nu3SM',\n",
       " ' 03051616 4141   00   2     0.00000000E+00    # coeffCLnu3nu3',\n",
       " ' 03051616 4241   00   2     0.00000000E+00    # coeffCLPnu3nu3',\n",
       " ' 03051616 4141   00   1     0.00000000E+00    # coeffCLnu3nu3NP',\n",
       " ' 03051616 4241   00   1     0.00000000E+00    # coeffCLPnu3nu3NP',\n",
       " ' 03051212 4142   00   0     0.00000000E+00    # coeffCRnu1nu1SM',\n",
       " ' 03051212 4142   00   2     0.00000000E+00    # coeffCRnu1nu1',\n",
       " ' 03051212 4242   00   2     0.00000000E+00    # coeffCRPnu1nu1',\n",
       " ' 03051212 4142   00   1     0.00000000E+00    # coeffCRnu1nu1NP',\n",
       " ' 03051212 4242   00   1     0.00000000E+00    # coeffCRPnu1nu1NP',\n",
       " ' 03051414 4142   00   0     0.00000000E+00    # coeffCRnu2nu2SM',\n",
       " ' 03051414 4142   00   2     0.00000000E+00    # coeffCRnu2nu2',\n",
       " ' 03051414 4242   00   2     0.00000000E+00    # coeffCRPnu2nu2',\n",
       " ' 03051414 4142   00   1     0.00000000E+00    # coeffCRnu2nu2NP',\n",
       " ' 03051414 4242   00   1     0.00000000E+00    # coeffCRPnu2nu2NP',\n",
       " ' 03051616 4142   00   0     0.00000000E+00    # coeffCRnu3nu3SM',\n",
       " ' 03051616 4142   00   2     0.00000000E+00    # coeffCRnu3nu3',\n",
       " ' 03051616 4242   00   2     0.00000000E+00    # coeffCRPnu3nu3',\n",
       " ' 03051616 4142   00   1     0.00000000E+00    # coeffCRnu3nu3NP',\n",
       " ' 03051616 4242   00   1     0.00000000E+00    # coeffCRPnu3nu3NP',\n",
       " ' 01030103 3131   00   2     0.00000000E+00    # coeffKK_SLL',\n",
       " ' 01030103 3232   00   2     0.00000000E+00    # coeffKK_SRR',\n",
       " ' 01030103 3132   00   2     0.00000000E+00    # coeffKK_SLR',\n",
       " ' 01030103 4141   00   2     0.00000000E+00    # coeffKK_VLL',\n",
       " ' 01030103 4242   00   2     0.00000000E+00    # coeffKK_VRR',\n",
       " ' 01030103 4142   00   2     0.00000000E+00    # coeffKK_VLR',\n",
       " ' 01030103 4343   00   2     0.00000000E+00    # coeffKK_TLL',\n",
       " ' 01030103 4444   00   2     0.00000000E+00    # coeffKK_TRR',\n",
       " ' 01050105 3131   00   2     0.00000000E+00    # coeffBB_SLL',\n",
       " ' 01050105 3232   00   2     0.00000000E+00    # coeffBB_SRR',\n",
       " ' 01050105 3132   00   2     0.00000000E+00    # coeffBB_SLR',\n",
       " ' 01050105 4141   00   2     0.00000000E+00    # coeffBB_VLL',\n",
       " ' 01050105 4242   00   2     0.00000000E+00    # coeffBB_VRR',\n",
       " ' 01050105 4142   00   2     0.00000000E+00    # coeffBB_VLR',\n",
       " ' 01050105 4343   00   2     0.00000000E+00    # coeffBB_TLL',\n",
       " ' 01050105 4444   00   2     0.00000000E+00    # coeffBB_TRR',\n",
       " ' 03050305 3131   00   2     0.00000000E+00    # coeffBsBs_SLL',\n",
       " ' 03050305 3232   00   2     0.00000000E+00    # coeffBsBs_SRR',\n",
       " ' 03050305 3132   00   2     0.00000000E+00    # coeffBsBs_SLR',\n",
       " ' 03050305 4141   00   2     0.00000000E+00    # coeffBsBs_VLL',\n",
       " ' 03050305 4242   00   2     0.00000000E+00    # coeffBsBs_VRR',\n",
       " ' 03050305 4142   00   2     0.00000000E+00    # coeffBsBs_VLR',\n",
       " ' 03050305 4343   00   2     0.00000000E+00    # coeffBsBs_TLL',\n",
       " ' 03050305 4444   00   2     0.00000000E+00    # coeffBsBs_TRR',\n",
       " ' 01030103 3131   00   1     0.00000000E+00    # coeffKK_SLLNP',\n",
       " ' 01030103 3232   00   1     0.00000000E+00    # coeffKK_SRRNP',\n",
       " ' 01030103 3132   00   1     0.00000000E+00    # coeffKK_SLRNP',\n",
       " ' 01030103 4141   00   1     0.00000000E+00    # coeffKK_VLLNP',\n",
       " ' 01030103 4242   00   1     0.00000000E+00    # coeffKK_VRRNP',\n",
       " ' 01030103 4142   00   1     0.00000000E+00    # coeffKK_VLRNP',\n",
       " ' 01030103 4343   00   1     0.00000000E+00    # coeffKK_TLLNP',\n",
       " ' 01030103 4444   00   1     0.00000000E+00    # coeffKK_TRRNP',\n",
       " ' 01050105 3131   00   1     0.00000000E+00    # coeffBB_SLLNP',\n",
       " ' 01050105 3232   00   1     0.00000000E+00    # coeffBB_SRRNP',\n",
       " ' 01050105 3132   00   1     0.00000000E+00    # coeffBB_SLRNP',\n",
       " ' 01050105 4141   00   1     0.00000000E+00    # coeffBB_VLLNP',\n",
       " ' 01050105 4242   00   1     0.00000000E+00    # coeffBB_VRRNP',\n",
       " ' 01050105 4142   00   1     0.00000000E+00    # coeffBB_VLRNP',\n",
       " ' 01050105 4343   00   1     0.00000000E+00    # coeffBB_TLLNP',\n",
       " ' 01050105 4444   00   1     0.00000000E+00    # coeffBB_TRRNP',\n",
       " ' 03050305 3131   00   1     0.00000000E+00    # coeffBsBs_SLLNP',\n",
       " ' 03050305 3232   00   1     0.00000000E+00    # coeffBsBs_SRRNP',\n",
       " ' 03050305 3132   00   1     0.00000000E+00    # coeffBsBs_SLRNP',\n",
       " ' 03050305 4141   00   1     0.00000000E+00    # coeffBsBs_VLLNP',\n",
       " ' 03050305 4242   00   1     0.00000000E+00    # coeffBsBs_VRRNP',\n",
       " ' 03050305 4142   00   1     0.00000000E+00    # coeffBsBs_VLRNP',\n",
       " ' 03050305 4343   00   1     0.00000000E+00    # coeffBsBs_TLLNP',\n",
       " ' 03050305 4444   00   1     0.00000000E+00    # coeffBsBs_TRRNP',\n",
       " ' 01030103 3131   00   0     0.00000000E+00    # coeffKK_SLLSM',\n",
       " ' 01030103 3232   00   0     0.00000000E+00    # coeffKK_SRRSM',\n",
       " ' 01030103 3132   00   0     0.00000000E+00    # coeffKK_SLRSM',\n",
       " ' 01030103 4141   00   0     0.00000000E+00    # coeffKK_VLLSM',\n",
       " ' 01030103 4242   00   0     0.00000000E+00    # coeffKK_VRRSM',\n",
       " ' 01030103 4142   00   0     0.00000000E+00    # coeffKK_VLRSM',\n",
       " ' 01030103 4343   00   0     0.00000000E+00    # coeffKK_TLLSM',\n",
       " ' 01030103 4444   00   0     0.00000000E+00    # coeffKK_TRRSM',\n",
       " ' 01050105 3131   00   0     0.00000000E+00    # coeffBB_SLLSM',\n",
       " ' 01050105 3232   00   0     0.00000000E+00    # coeffBB_SRRSM',\n",
       " ' 01050105 3132   00   0     0.00000000E+00    # coeffBB_SLRSM',\n",
       " ' 01050105 4141   00   0     0.00000000E+00    # coeffBB_VLLSM',\n",
       " ' 01050105 4242   00   0     0.00000000E+00    # coeffBB_VRRSM',\n",
       " ' 01050105 4142   00   0     0.00000000E+00    # coeffBB_VLRSM',\n",
       " ' 01050105 4343   00   0     0.00000000E+00    # coeffBB_TLLSM',\n",
       " ' 01050105 4444   00   0     0.00000000E+00    # coeffBB_TRRSM',\n",
       " ' 03050305 3131   00   0     0.00000000E+00    # coeffBsBs_SLLSM',\n",
       " ' 03050305 3232   00   0     0.00000000E+00    # coeffBsBs_SRRSM',\n",
       " ' 03050305 3132   00   0     0.00000000E+00    # coeffBsBs_SLRSM',\n",
       " ' 03050305 4141   00   0     0.00000000E+00    # coeffBsBs_VLLSM',\n",
       " ' 03050305 4242   00   0     0.00000000E+00    # coeffBsBs_VRRSM',\n",
       " ' 03050305 4142   00   0     0.00000000E+00    # coeffBsBs_VLRSM',\n",
       " ' 03050305 4343   00   0     0.00000000E+00    # coeffBsBs_TLLSM',\n",
       " ' 03050305 4444   00   0     0.00000000E+00    # coeffBsBs_TRRSM',\n",
       " 'Block TREELEVELUNITARITY #  ',\n",
       " '       0    1.00000000E+00  # Tree-level unitarity limits fulfilled or not ',\n",
       " '       1    1.54069724E-02  # Maximal scattering eigenvalue ',\n",
       " 'Block TREELEVELUNITARITYwTRILINEARS #  ',\n",
       " '       0    1.00000000E+00  # Tree-level unitarity limits fulfilled or not ',\n",
       " '       1    1.49186681E-02  # Maximal scattering eigenvalue ',\n",
       " '       2    2.00000000E+03  # best scattering energy ',\n",
       " '      11    1.00000000E+03  # min scattering energy ',\n",
       " '      12    2.00000000E+03  # max scattering energy ',\n",
       " '      13    5.00000000E+00  # steps ',\n",
       " 'DECAY         4     3.82261043E-13   # Fu_2',\n",
       " '#    BR                NDA      ID1      ID2',\n",
       " '#    BR                NDA      ID1      ID2       ID3',\n",
       " '     3.05502553E-02    3            2         -1          1   # BR(Fu_2 -> Fu_1 Fd_1^* Fd_1 )',\n",
       " '     5.45954947E-01    3            2         -1          3   # BR(Fu_2 -> Fu_1 Fd_1^* Fd_2 )',\n",
       " '     1.56486301E-03    3            2         -3          1   # BR(Fu_2 -> Fu_1 Fd_2^* Fd_1 )',\n",
       " '     2.79270133E-02    3            2         -3          3   # BR(Fu_2 -> Fu_1 Fd_2^* Fd_2 )',\n",
       " '     1.07295174E-02    3            1        -11         12   # BR(Fu_2 -> Fd_1 Fe_1^* Fv_1 )',\n",
       " '     1.01645268E-02    3            1        -13         14   # BR(Fu_2 -> Fd_1 Fe_2^* Fv_2 )',\n",
       " '     1.91744755E-01    3            3        -11         12   # BR(Fu_2 -> Fd_2 Fe_1^* Fv_1 )',\n",
       " '     1.81364123E-01    3            3        -13         14   # BR(Fu_2 -> Fd_2 Fe_2^* Fv_2 )',\n",
       " 'DECAY         6     1.56779572E+00   # Fu_3',\n",
       " '#    BR                NDA      ID1      ID2',\n",
       " '     1.67597777E-03    2            3         24   # BR(Fu_3 -> Fd_2 VWm^* )',\n",
       " '     9.98288583E-01    2            5         24   # BR(Fu_3 -> Fd_3 VWm^* )',\n",
       " 'DECAY        13     1.21990724E-18   # Fe_2',\n",
       " '#    BR                NDA      ID1      ID2',\n",
       " '#    BR                NDA      ID1      ID2       ID3',\n",
       " '     2.63969498E-01    3           11        -12         14   # BR(Fe_2 -> Fe_1 Fv_1^* Fv_2 )',\n",
       " '     7.36026971E-01    3           14         -2          1   # BR(Fe_2 -> Fv_2 Fu_1^* Fd_1 )',\n",
       " 'DECAY        15     2.16913552E-12   # Fe_3',\n",
       " '#    BR                NDA      ID1      ID2',\n",
       " '#    BR                NDA      ID1      ID2       ID3',\n",
       " '     1.99664867E-01    3           11        -12         16   # BR(Fe_3 -> Fe_1 Fv_1^* Fv_3 )',\n",
       " '     1.94368607E-01    3           13        -14         16   # BR(Fe_3 -> Fe_2 Fv_2^* Fv_3 )',\n",
       " '     5.68537973E-01    3           16         -2          1   # BR(Fe_3 -> Fv_3 Fu_1^* Fd_1 )',\n",
       " '     2.97768351E-02    3           16         -2          3   # BR(Fe_3 -> Fv_3 Fu_1^* Fd_2 )',\n",
       " '     4.57258372E-04    3           16         -4          1   # BR(Fe_3 -> Fv_3 Fu_2^* Fd_1 )',\n",
       " '     7.19445861E-03    3           16         -4          3   # BR(Fe_3 -> Fv_3 Fu_2^* Fd_2 )',\n",
       " 'DECAY         1     9.45615096E-27   # Fd_1',\n",
       " '#    BR                NDA      ID1      ID2',\n",
       " '#    BR                NDA      ID1      ID2       ID3',\n",
       " '     1.00000000E+00    3            2        -12         11   # BR(Fd_1 -> Fu_1 Fv_1^* Fe_1 )',\n",
       " 'DECAY         3     3.60566771E-20   # Fd_2',\n",
       " '#    BR                NDA      ID1      ID2',\n",
       " '#    BR                NDA      ID1      ID2       ID3',\n",
       " '     7.34967455E-01    3            1         -2          2   # BR(Fd_2 -> Fd_1 Fu_1^* Fu_1 )',\n",
       " '     2.65032545E-01    3            2        -12         11   # BR(Fd_2 -> Fu_1 Fv_1^* Fe_1 )',\n",
       " 'DECAY         5     1.70356970E-13   # Fd_3',\n",
       " '#    BR                NDA      ID1      ID2',\n",
       " '#    BR                NDA      ID1      ID2       ID3',\n",
       " '     6.12951308E-03    3            1         -2          2   # BR(Fd_3 -> Fd_1 Fu_1^* Fu_1 )',\n",
       " '     4.52963811E-01    3            1         -2          4   # BR(Fd_3 -> Fd_1 Fu_1^* Fu_2 )',\n",
       " '     1.67717292E-04    3            1         -4          2   # BR(Fd_3 -> Fd_1 Fu_2^* Fu_1 )',\n",
       " '     8.80823286E-03    3            1         -4          4   # BR(Fd_3 -> Fd_1 Fu_2^* Fu_2 )',\n",
       " '     3.27013511E-04    3            3         -2          2   # BR(Fd_3 -> Fd_2 Fu_1^* Fu_1 )',\n",
       " '     2.41186497E-02    3            3         -2          4   # BR(Fd_3 -> Fd_2 Fu_1^* Fu_2 )',\n",
       " '     3.11230936E-03    3            3         -4          2   # BR(Fd_3 -> Fd_2 Fu_2^* Fu_1 )',\n",
       " '     1.62627671E-01    3            3         -4          4   # BR(Fd_3 -> Fd_2 Fu_2^* Fu_2 )',\n",
       " '     2.15252625E-03    3            2        -12         11   # BR(Fd_3 -> Fu_1 Fv_1^* Fe_1 )',\n",
       " '     2.14490743E-03    3            2        -14         13   # BR(Fd_3 -> Fu_1 Fv_2^* Fe_2 )',\n",
       " '     5.83957771E-04    3            2        -16         15   # BR(Fd_3 -> Fu_1 Fv_3^* Fe_3 )',\n",
       " '     1.59069895E-01    3            4        -12         11   # BR(Fd_3 -> Fu_2 Fv_1^* Fe_1 )',\n",
       " '     1.58104183E-01    3            4        -14         13   # BR(Fd_3 -> Fu_2 Fv_2^* Fe_2 )',\n",
       " '     1.96896124E-02    3            4        -16         15   # BR(Fd_3 -> Fu_2 Fv_3^* Fe_3 )',\n",
       " 'DECAY        23     2.52253216E+00   # VZ',\n",
       " '#    BR                NDA      ID1      ID2',\n",
       " '     1.52316790E-01    2           -1          1   # BR(VZ -> Fd_1^* Fd_1 )',\n",
       " '     1.52316128E-01    2           -3          3   # BR(VZ -> Fd_2^* Fd_2 )',\n",
       " '     1.51032754E-01    2           -5          5   # BR(VZ -> Fd_3^* Fd_3 )',\n",
       " '     3.43851056E-02    2          -11         11   # BR(VZ -> Fe_1^* Fe_1 )',\n",
       " '     3.43848318E-02    2          -13         13   # BR(VZ -> Fe_2^* Fe_2 )',\n",
       " '     3.43077260E-02    2          -15         15   # BR(VZ -> Fe_3^* Fe_3 )',\n",
       " '     1.18730389E-01    2           -2          2   # BR(VZ -> Fu_1^* Fu_1 )',\n",
       " '     1.18611751E-01    2           -4          4   # BR(VZ -> Fu_2^* Fu_2 )',\n",
       " '     6.79715079E-02    2          -12         12   # BR(VZ -> Fv_1^* Fv_1 )',\n",
       " '     6.79715079E-02    2          -14         14   # BR(VZ -> Fv_2^* Fv_2 )',\n",
       " '     6.79715079E-02    2          -16         16   # BR(VZ -> Fv_3^* Fv_3 )',\n",
       " 'DECAY        24     2.11283376E+00   # VWm',\n",
       " '#    BR                NDA      ID1      ID2',\n",
       " '     3.16468443E-01    2            2         -1   # BR(VWm^* -> Fu_1 Fd_1^* )',\n",
       " '     1.69308572E-02    2            2         -3   # BR(VWm^* -> Fu_1 Fd_2^* )',\n",
       " '     1.69166709E-02    2            4         -1   # BR(VWm^* -> Fu_2 Fd_1^* )',\n",
       " '     3.15795683E-01    2            4         -3   # BR(VWm^* -> Fu_2 Fd_2^* )',\n",
       " '     5.62997720E-04    2            4         -5   # BR(VWm^* -> Fu_2 Fd_3^* )',\n",
       " '     1.11134416E-01    2           12        -11   # BR(VWm^* -> Fv_1 Fe_1^* )',\n",
       " '     1.11134128E-01    2           14        -13   # BR(VWm^* -> Fv_2 Fe_2^* )',\n",
       " '     1.11052909E-01    2           16        -15   # BR(VWm^* -> Fv_3 Fe_3^* )',\n",
       " 'DECAY        25     3.88237823E-03   # hh_1',\n",
       " '#    BR                NDA      ID1      ID2',\n",
       " '     2.68347164E-03    2           22         22   # BR(hh_1 -> VP VP )',\n",
       " '     8.77488898E-02    2           21         21   # BR(hh_1 -> VG VG )',\n",
       " '     2.37047488E-02    2           23         23   # BR(hh_1 -> VZ VZ )',\n",
       " '     2.18792623E-01    2           24        -24   # BR(hh_1 -> VWm^* VWm_virt )',\n",
       " '     2.13960007E-04    2           -3          3   # BR(hh_1 -> Fd_2^* Fd_2 )',\n",
       " '     5.73088850E-01    2           -5          5   # BR(hh_1 -> Fd_3^* Fd_3 )',\n",
       " '     2.30389628E-04    2          -13         13   # BR(hh_1 -> Fe_2^* Fe_2 )',\n",
       " '     6.65023264E-02    2          -15         15   # BR(hh_1 -> Fe_3^* Fe_3 )',\n",
       " '     2.70340269E-02    2           -4          4   # BR(hh_1 -> Fu_2^* Fu_2 )',\n",
       " 'DECAY        35     3.23679778E-01   # hh_2',\n",
       " '#    BR                NDA      ID1      ID2',\n",
       " '     9.65047820E-02    2        -1012       1012   # BR(hh_2 -> Chi^* Chi )',\n",
       " '     9.03495218E-01    2           31         31   # BR(hh_2 -> VZp VZp )',\n",
       " 'DECAY        31     2.13937259E-03   # VZp',\n",
       " '#    BR                NDA      ID1      ID2',\n",
       " '     3.33333333E-01    2          -12         12   # BR(VZp -> Fv_1^* Fv_1 )',\n",
       " '     3.33333333E-01    2          -14         14   # BR(VZp -> Fv_2^* Fv_2 )',\n",
       " '     3.33333333E-01    2          -16         16   # BR(VZp -> Fv_3^* Fv_3 )',\n",
       " 'DECAY      1002     2.84991028E-01   # etI',\n",
       " '#    BR                NDA      ID1      ID2',\n",
       " '     1.19329521E-01    2        -1022         16   # BR(etI -> Xi_1^* Fv_3 )',\n",
       " '     1.19329521E-01    2         1022        -16   # BR(etI -> Xi_1 Fv_3^* )',\n",
       " '     3.30250308E-02    2        -1023         14   # BR(etI -> Xi_2^* Fv_2 )',\n",
       " '     3.30250308E-02    2         1023        -14   # BR(etI -> Xi_2 Fv_2^* )',\n",
       " '     3.47616417E-01    2        -1023         16   # BR(etI -> Xi_2^* Fv_3 )',\n",
       " '     3.47616417E-01    2         1023        -16   # BR(etI -> Xi_2 Fv_3^* )',\n",
       " 'DECAY      1003     2.84991011E-01   # etm',\n",
       " '#    BR                NDA      ID1      ID2',\n",
       " '     2.38659041E-01    2        -1022         15   # BR(etm -> Xi_1^* Fe_3 )',\n",
       " '     6.60500655E-02    2        -1023         13   # BR(etm -> Xi_2^* Fe_2 )',\n",
       " '     6.95232832E-01    2        -1023         15   # BR(etm -> Xi_2^* Fe_3 )',\n",
       " 'DECAY      1025     2.84991028E-01   # ns_1',\n",
       " '#    BR                NDA      ID1      ID2',\n",
       " '     1.19329521E-01    2        -1022         16   # BR(ns_1 -> Xi_1^* Fv_3 )',\n",
       " '     1.19329521E-01    2         1022        -16   # BR(ns_1 -> Xi_1 Fv_3^* )',\n",
       " '     3.30250308E-02    2        -1023         14   # BR(ns_1 -> Xi_2^* Fv_2 )',\n",
       " '     3.30250308E-02    2         1023        -14   # BR(ns_1 -> Xi_2 Fv_2^* )',\n",
       " '     3.47616417E-01    2        -1023         16   # BR(ns_1 -> Xi_2^* Fv_3 )',\n",
       " '     3.47616417E-01    2         1023        -16   # BR(ns_1 -> Xi_2 Fv_3^* )',\n",
       " 'DECAY      1026     4.54582908E+16   # ns_2',\n",
       " '#    BR                NDA      ID1      ID2',\n",
       " '     8.91007275E-03    2        -1022         12   # BR(ns_2 -> Xi_1^* Fv_1 )',\n",
       " '     8.91007275E-03    2         1022        -12   # BR(ns_2 -> Xi_1 Fv_1^* )',\n",
       " '     7.19951983E-02    2        -1022         14   # BR(ns_2 -> Xi_1^* Fv_2 )',\n",
       " '     7.19951983E-02    2         1022        -14   # BR(ns_2 -> Xi_1 Fv_2^* )',\n",
       " '     4.01583256E-01    2        -1022         16   # BR(ns_2 -> Xi_1^* Fv_3 )',\n",
       " '     4.01583256E-01    2         1022        -16   # BR(ns_2 -> Xi_1 Fv_3^* )',\n",
       " '     4.97165713E-03    2        -1023         12   # BR(ns_2 -> Xi_2^* Fv_1 )',\n",
       " '     4.97165713E-03    2         1023        -12   # BR(ns_2 -> Xi_2 Fv_1^* )',\n",
       " '     3.35309497E-03    2        -1023         14   # BR(ns_2 -> Xi_2^* Fv_2 )',\n",
       " '     3.35309497E-03    2         1023        -14   # BR(ns_2 -> Xi_2 Fv_2^* )',\n",
       " '     9.18672113E-03    2        -1023         16   # BR(ns_2 -> Xi_2^* Fv_3 )',\n",
       " '     9.18672113E-03    2         1023        -16   # BR(ns_2 -> Xi_2 Fv_3^* )']"
      ]
     },
     "execution_count": 47,
     "metadata": {},
     "output_type": "execute_result"
    }
   ],
   "source": [
    "so.splitlines()"
   ]
  },
  {
   "cell_type": "code",
   "execution_count": 48,
   "metadata": {},
   "outputs": [
    {
     "name": "stdout",
     "output_type": "stream",
     "text": [
      "23.776911 86.0195399\n"
     ]
    }
   ],
   "source": [
    "MZp = eval(so.split('# VWm')[1].split()[1])\n",
    "m = np.abs(eval(so.split('# Fv_3')[1].split()[1]))\n",
    "print(MZp,m)"
   ]
  },
  {
   "cell_type": "code",
   "execution_count": 49,
   "metadata": {},
   "outputs": [
    {
     "data": {
      "text/plain": [
       "['',\n",
       " 'Masses of odd sector Particles:',\n",
       " '~chi     : Mchi    =  86.020 || ',\n",
       " 'Xf=2.60e+01 Omega h^2=1.20e-01',\n",
       " '',\n",
       " 'vsigmaeff = 1.007e-25',\n",
       " '',\n",
       " '# Channels which contribute to 1/(omega) more than 1%.',\n",
       " '# Relative contributions in % are displayed',\n",
       " '  100% ~chi ~Chi ->Zp Zp ']"
      ]
     },
     "execution_count": 49,
     "metadata": {},
     "output_type": "execute_result"
    }
   ],
   "source": [
    "subprocess.getoutput('cp SPheno.spc.MDEOlight SPheno.spc.MDEO1DM')\n",
    "mo = subprocess.getoutput('~/Work/micromegas_5.0.6/MDEO1DM/./CalcOmega SPheno.spc.MDEO1DM')\n",
    "\n",
    "mo.splitlines()"
   ]
  },
  {
   "cell_type": "code",
   "execution_count": 50,
   "metadata": {},
   "outputs": [
    {
     "name": "stdout",
     "output_type": "stream",
     "text": [
      "1.007e-25\n"
     ]
    }
   ],
   "source": [
    "svmicro= eval(mo.split('vsigmaeff =')[1].split()[0])\n",
    "print(svmicro)"
   ]
  },
  {
   "cell_type": "code",
   "execution_count": 51,
   "metadata": {},
   "outputs": [
    {
     "data": {
      "text/plain": [
       "'\\nMasses of odd sector Particles:\\n~chi     : Mchi    =  86.020 || ~~Xi1    : MXi1    = 500.000 || ~~Xi2    : MXi2    = 750.000 \\n~~ETM    : METM    = 10000.000 || ~~ETI    : METI    = 10000.000 || ~~NS1    : MNS1    = 10000.000 \\n~~NS2    : MNS2    = 100000.000 || \\nOmega_1h^2=1.21E-01\\nOmega_2h^2=2.04E-19\\n'"
      ]
     },
     "execution_count": 51,
     "metadata": {},
     "output_type": "execute_result"
    }
   ],
   "source": [
    "#subprocess.getoutput('~/Work/micromegas_6.0.3/MDEOlight/./CalcOmega SPheno.spc.MDEO')"
   ]
  },
  {
   "cell_type": "code",
   "execution_count": 53,
   "metadata": {},
   "outputs": [
    {
     "name": "stdout",
     "output_type": "stream",
     "text": [
      "a= 2.1415008773563774e-08 b= -2.0733068079708e-10\n"
     ]
    }
   ],
   "source": [
    "print('a=',a_coefficient(g1p, (MZp/m), m),'b=',b_coefficient(g1p, (MZp/m), m))"
   ]
  },
  {
   "cell_type": "code",
   "execution_count": 54,
   "metadata": {},
   "outputs": [
    {
     "name": "stdout",
     "output_type": "stream",
     "text": [
      "sv(cm3/sec)= 2.1412023211760296e-08 sv(GeV-3)= 2.5259653143280006e-25\n"
     ]
    }
   ],
   "source": [
    "v=0.12\n",
    "cmtoGeV=1.98E-14\n",
    "sectoGeV=6.58E-25\n",
    "\n",
    "sv = a_coefficient(g1p, (MZp/m), m)+ b_coefficient(g1p, (MZp/m), m)*v**2\n",
    "print('sv(cm3/sec)=',sv,'sv(GeV-3)=',sv*(cmtoGeV**3/sectoGeV))"
   ]
  },
  {
   "cell_type": "code",
   "execution_count": 55,
   "metadata": {},
   "outputs": [
    {
     "data": {
      "text/plain": [
       "2.508406469044688"
      ]
     },
     "execution_count": 55,
     "metadata": {},
     "output_type": "execute_result"
    }
   ],
   "source": [
    "sv*(cmtoGeV**3/sectoGeV)/svmicro"
   ]
  },
  {
   "cell_type": "code",
   "execution_count": null,
   "metadata": {},
   "outputs": [],
   "source": []
  },
  {
   "cell_type": "code",
   "execution_count": 128,
   "metadata": {},
   "outputs": [
    {
     "data": {
      "image/png": "[encoded data removed]",
      "text/plain": [
       "<Figure size 600x400 with 1 Axes>"
      ]
     },
     "metadata": {},
     "output_type": "display_data"
    }
   ],
   "source": [
    "plt.figure(figsize=(6,4))\n",
    "\n",
    "plt.loglog(xd.MZp, (xd.Omega1+xd.Omega2), color='royalblue', marker='.', ms=6, linestyle='',label='')\n",
    "#plt.plot(xd.mh2, (xd.Omega1),color='red', marker='.',ms=1,linestyle='',label='')\n",
    "\n",
    "n=np.linspace(1e1,1e2,10)\n",
    "plt.fill_between(n,Omega_min,Omega_max,facecolor='cyan',alpha=0.3,label='')\n",
    "\n",
    "plt.xlabel(r'$M_Zp$ (GeV)',size=16)\n",
    "plt.ylabel(r'$\\Omega_i h^2$',size=16)\n",
    "plt.title('M=88')\n",
    "#plt.legend()\n",
    "plt.grid()\n",
    "\n",
    "#plt.ylim(Omega_min,Omega_max)\n",
    "#plt.ylim(6e-2,0.13)\n",
    "#plt.xlim(10, 125)\n",
    "#plt.tight_layout()\n",
    "\n",
    "plt.show()"
   ]
  },
  {
   "cell_type": "code",
   "execution_count": 120,
   "metadata": {},
   "outputs": [
    {
     "data": {
      "image/png": "[encoded data removed]",
      "text/plain": [
       "<Figure size 600x400 with 1 Axes>"
      ]
     },
     "metadata": {},
     "output_type": "display_data"
    }
   ],
   "source": []
  },
  {
   "cell_type": "code",
   "execution_count": 109,
   "metadata": {},
   "outputs": [
    {
     "data": {
      "image/png": "[encoded data removed]",
      "text/plain": [
       "<Figure size 600x400 with 1 Axes>"
      ]
     },
     "metadata": {},
     "output_type": "display_data"
    }
   ],
   "source": []
  },
  {
   "cell_type": "code",
   "execution_count": 102,
   "metadata": {},
   "outputs": [
    {
     "data": {
      "image/png": "[encoded data removed]",
      "text/plain": [
       "<Figure size 600x400 with 1 Axes>"
      ]
     },
     "metadata": {},
     "output_type": "display_data"
    }
   ],
   "source": []
  },
  {
   "cell_type": "code",
   "execution_count": 95,
   "metadata": {},
   "outputs": [
    {
     "data": {
      "image/png": "[encoded data removed]",
      "text/plain": [
       "<Figure size 600x400 with 1 Axes>"
      ]
     },
     "metadata": {},
     "output_type": "display_data"
    }
   ],
   "source": [
    "plt.figure(figsize=(6,4))\n",
    "\n",
    "plt.loglog(xd.MZp, (xd.Omega1+xd.Omega2), color='royalblue', marker='.', ms=6, linestyle='',label='')\n",
    "#plt.plot(xd.mh2, (xd.Omega1),color='red', marker='.',ms=1,linestyle='',label='')\n",
    "\n",
    "n=np.linspace(1e1,1e2,10)\n",
    "plt.fill_between(n,Omega_min,Omega_max,facecolor='cyan',alpha=0.3,label='')\n",
    "\n",
    "plt.xlabel(r'$M_Zp$ (GeV)',size=16)\n",
    "plt.ylabel(r'$\\Omega_i h^2$',size=16)\n",
    "plt.title('M=80')\n",
    "#plt.legend()\n",
    "plt.grid()\n",
    "\n",
    "#plt.ylim(Omega_min,Omega_max)\n",
    "#plt.ylim(1e-3,0.13)\n",
    "#plt.xlim(10, 125)\n",
    "#plt.tight_layout()\n",
    "\n",
    "plt.show()"
   ]
  },
  {
   "cell_type": "code",
   "execution_count": 87,
   "metadata": {},
   "outputs": [
    {
     "data": {
      "image/png": "[encoded data removed]",
      "text/plain": [
       "<Figure size 600x400 with 1 Axes>"
      ]
     },
     "metadata": {},
     "output_type": "display_data"
    }
   ],
   "source": []
  },
  {
   "cell_type": "code",
   "execution_count": null,
   "metadata": {},
   "outputs": [],
   "source": []
  },
  {
   "cell_type": "code",
   "execution_count": null,
   "metadata": {},
   "outputs": [],
   "source": []
  },
  {
   "cell_type": "code",
   "execution_count": null,
   "metadata": {},
   "outputs": [],
   "source": []
  },
  {
   "cell_type": "code",
   "execution_count": null,
   "metadata": {},
   "outputs": [],
   "source": []
  }
 ],
 "metadata": {
  "kernelspec": {
   "display_name": "Python 3 (ipykernel)",
   "language": "python",
   "name": "python3"
  },
  "language_info": {
   "codemirror_mode": {
    "name": "ipython",
    "version": 3
   },
   "file_extension": ".py",
   "mimetype": "text/x-python",
   "name": "python",
   "nbconvert_exporter": "python",
   "pygments_lexer": "ipython3",
   "version": "3.11.2"
  }
 },
 "nbformat": 4,
 "nbformat_minor": 1
}
