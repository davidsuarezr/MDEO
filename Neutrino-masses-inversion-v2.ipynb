{
 "cells": [
  {
   "cell_type": "markdown",
   "metadata": {},
   "source": [
    "# MDEO model: Neutrino masses inversion"
   ]
  },
  {
   "cell_type": "markdown",
   "metadata": {},
   "source": [
    "The idea is to check the neutrino mases inversion to one loop.\n",
    "Leshouches dictionary, SPHENO_4.0.3, micromegas_5.0.4"
   ]
  },
  {
   "cell_type": "code",
   "execution_count": 1,
   "metadata": {},
   "outputs": [],
   "source": [
    "import numpy as np\n",
    "import pandas as pd\n",
    "import subprocess\n",
    "import time\n",
    "import sys\n",
    "\n",
    "%matplotlib inline\n",
    "import matplotlib.pyplot as plt "
   ]
  },
  {
   "cell_type": "code",
   "execution_count": 7,
   "metadata": {},
   "outputs": [],
   "source": [
    "import pyslha\n",
    "import pyMDEO_LesHouches_generator\n",
    "import neutrino_analytic"
   ]
  },
  {
   "cell_type": "markdown",
   "metadata": {},
   "source": [
    "### PMNS matrix"
   ]
  },
  {
   "cell_type": "code",
   "execution_count": 5,
   "metadata": {},
   "outputs": [],
   "source": [
    "#phases of the PMNS matrix and the R \n",
    "phases1 = np.random.uniform(0.,0.0*np.pi,3) # WARNING! They are in zero\n",
    "delta = phases1[0]\n",
    "eta1 = phases1[1]\n",
    "eta2 = phases1[2]\n",
    "\n",
    "#light neutrino masses (up 3 sigma range) NH (NO)\n",
    "#mnu1 = 10**((np.log10(2.5e-3)-np.log10(1e-9))*np.random.uniform(0,1)+np.log10(1e-9))*1e-9 \n",
    "#Zero in this framework\n",
    "mnu1 = 1.0e-25\n",
    "mnu2 = np.sqrt(np.random.uniform(7.05e-5,8.14e-5)*1e-18+mnu1**2)\n",
    "mnu3 = np.sqrt(np.random.uniform(2.41e-3,2.60e-3)*1e-18+mnu1**2)\n",
    "\n",
    "#mixing angles (up 3 sigma range) NH\n",
    "t12 = np.arcsin(np.sqrt(np.random.uniform(0.273,0.379)))\n",
    "t23 = np.arcsin(np.sqrt(np.random.uniform(0.445,0.599)))\n",
    "t13 = np.arcsin(np.sqrt(np.random.uniform(0.0196,0.0241)))\n",
    "\n",
    "#Building PMNS matrix NH\n",
    "UM12 = np.array([ [np.cos(t12),np.sin(t12),0.], [-np.sin(t12),np.cos(t12),0.], [0.,0.,1.0] ])\n",
    "UM13 = np.array([ [np.cos(t13),0.,np.sin(t13)], [0.,1.0,0.], [-np.sin(t13),0.,np.cos(t13)] ])\n",
    "UM23 = np.array([ [1.0,0.,0.], [0.,np.cos(t23),np.sin(t23)], [0.,-np.sin(t23),np.cos(t23)] ])\n",
    "Uphases = np.array([ [np.exp(eta1*1j),0.,0.], [0.,np.exp(eta2*1j),0.], [0.,0.,1.0] ])\n",
    "U=np.dot(UM23,np.dot(UM13,np.dot(UM12,Uphases)))\n",
    "\n",
    "#Defining the U elementes. readeable\n",
    "U11 = np.real(U[0,0])\n",
    "U12 = np.real(U[0,1])\n",
    "U13 = np.real(U[0,2])\n",
    "U21 = np.real(U[1,0])\n",
    "U22 = np.real(U[1,1])\n",
    "U23 = np.real(U[1,2])\n",
    "U31 = np.real(U[2,0])\n",
    "U32 = np.real(U[2,1])\n",
    "U33 = np.real(U[2,2])"
   ]
  },
  {
   "cell_type": "code",
   "execution_count": 6,
   "metadata": {},
   "outputs": [
    {
     "name": "stdout",
     "output_type": "stream",
     "text": [
      "mnu1= 1e-25 mnu2= 8.80025239757767e-12 mnu3= 4.9709312544525287e-11\n"
     ]
    }
   ],
   "source": [
    "print(\"mnu1=\",mnu1,\"mnu2=\",mnu2,\"mnu3=\",mnu3)\n",
    "#print(U)"
   ]
  },
  {
   "cell_type": "code",
   "execution_count": 6,
   "metadata": {},
   "outputs": [
    {
     "data": {
      "image/png": "[encoded data removed]",
      "text/plain": [
       "<IPython.core.display.Image object>"
      ]
     },
     "execution_count": 6,
     "metadata": {
      "image/png": {
       "width": 300
      }
     },
     "output_type": "execute_result"
    }
   ],
   "source": [
    "from IPython.display import Image\n",
    "Image(\"/home/anferivera/Work/Documents_compartidos/MDEO/neutrino-diagram.png\", width=300)"
   ]
  },
  {
   "cell_type": "markdown",
   "metadata": {},
   "source": [
    "Run diccionary first time"
   ]
  },
  {
   "cell_type": "code",
   "execution_count": 8,
   "metadata": {},
   "outputs": [],
   "source": [
    "x=[]\n",
    "\n",
    "import pyslha\n",
    "import pyMDEO_LesHouches_generator\n",
    "\n",
    "#Open xdict which is now a <PySLHA Doc: 10 blocks, 0 decays, 0 xsections>\n",
    "xdict = pyMDEO_LesHouches_generator.buildSLHAinFile()\n",
    "\n",
    "#Modified the xdict elements\n",
    "#xdict.blocks['SPHENOINPUT'].entries[55]='%i           # Calculate loop corrected masses'%0\n",
    "\n",
    "#Fermion matrix\n",
    "Lam1 = 2.225000E-01 \n",
    "Lam2 = 2.100000E-02\n",
    "Lam3 = 3.000000E-02\n",
    "Lam4 = 4.000000E-02\n",
    "Lam7 = 3.000000E-02\n",
    "Lam9 = 3.000000E-02\n",
    "Lam10 = 1.000000E-02\n",
    "vX = 5.2E3\n",
    "VEV =246.220569\n",
    "muC = 4.110000E+02 \n",
    "MS2 = 4.020000E+08\n",
    "Mn2 = 4.030000E+08\n",
    "\n",
    "xdict.blocks['MINPAR'].entries[1]='%.6E    # lambda1Input'%Lam1\n",
    "xdict.blocks['MINPAR'].entries[2]='%.6E    # lambda2Input'%Lam2\n",
    "xdict.blocks['MINPAR'].entries[3]='%.6E    # lambda3Input'%Lam3\n",
    "xdict.blocks['MINPAR'].entries[4]='%.6E    # lambda4Input'%Lam4\n",
    "xdict.blocks['MINPAR'].entries[7]='%.6E    # lambda7Input'%Lam7\n",
    "xdict.blocks['MINPAR'].entries[9]='%.6E    # lambda9Input'%Lam9\n",
    "xdict.blocks['MINPAR'].entries[10]='%.6E    # lambda10Input'%Lam10\n",
    "xdict.blocks['MINPAR'].entries[23]='%.6E    # mEt2Input'%Mn2\n",
    "xdict.blocks['MINPAR'].entries[24]='%.6E    # MS2Input'%MS2\n",
    "xdict.blocks['MINPAR'].entries[30]='%.6E    # vXinput'%vX\n",
    "xdict.blocks['MINPAR'].entries[32]='%.6E    # muCinput'%muC\n",
    "\n",
    "YX11 = 0.11\n",
    "YX12 = 0.0011\n",
    "YX21 = 0.02\n",
    "YX22 = 0.32\n",
    "xdict.blocks['YXIN'].entries[1,1]='%.6E    # YX(1,1)'%YX11\n",
    "xdict.blocks['YXIN'].entries[1,2]='%.6E    # YX(1,2)'%YX12\n",
    "xdict.blocks['YXIN'].entries[2,1]='%.6E    # YX(2,1)'%YX21\n",
    "xdict.blocks['YXIN'].entries[2,2]='%.6E    # YX(2,2)'%YX22\n",
    "\n",
    "#Write the Leshouches file\n",
    "pyslha.writeSLHAFile('LesHouches.in.MDEO_low',xdict)\n",
    "\n",
    "spheno = subprocess.getoutput('../.././SPheno-4.0.5/bin/SPhenoMDEO LesHouches.in.MDEO_low')\n",
    "so = subprocess.getoutput('cat SPheno.spc.MDEO')\n",
    "\n",
    "x.append([Lam1,Lam2,Lam3,Lam4,Lam7,Lam9,Lam10,vX,VEV,muC,MS2,Mn2,YnL11,YnL12,YnL13,YnL21,YnL22,YnL23,YnR11,YnR12,YnR13,YnR21,YnR22,YnR23,\\\n",
    "          mv1,mv2,mv3,mXi_1,mXi_2,metI,metp,mns_1,mns_2])\n",
    "\n",
    "x=np.asarray(x)\n",
    "xd=pd.DataFrame(x,columns=['YnL11','YnL12','YnL13','YnL21','YnL22','YnL23','YnR11','YnR12','YnR13',\\\n",
    "                           'YnR21','YnR22','YnR23','mv1','mv2','mv3','mXi_1','mXi_2','metI','metp',\\\n",
    "                           'mns_1','mns_2'])"
   ]
  },
  {
   "cell_type": "code",
   "execution_count": 9,
   "metadata": {},
   "outputs": [
    {
     "data": {
      "text/html": [
       "<div>\n",
       "<style scoped>\n",
       "    .dataframe tbody tr th:only-of-type {\n",
       "        vertical-align: middle;\n",
       "    }\n",
       "\n",
       "    .dataframe tbody tr th {\n",
       "        vertical-align: top;\n",
       "    }\n",
       "\n",
       "    .dataframe thead th {\n",
       "        text-align: right;\n",
       "    }\n",
       "</style>\n",
       "<table border=\"1\" class=\"dataframe\">\n",
       "  <thead>\n",
       "    <tr style=\"text-align: right;\">\n",
       "      <th></th>\n",
       "      <th>ZL11</th>\n",
       "      <th>ZL12</th>\n",
       "      <th>ZL21</th>\n",
       "      <th>ZL22</th>\n",
       "      <th>ZR11</th>\n",
       "      <th>ZR12</th>\n",
       "      <th>ZR21</th>\n",
       "      <th>ZR22</th>\n",
       "      <th>ZN11</th>\n",
       "      <th>ZN12</th>\n",
       "      <th>...</th>\n",
       "      <th>YnR23</th>\n",
       "      <th>mv1</th>\n",
       "      <th>mv2</th>\n",
       "      <th>mv3</th>\n",
       "      <th>mXi_1</th>\n",
       "      <th>mXi_2</th>\n",
       "      <th>metI</th>\n",
       "      <th>metp</th>\n",
       "      <th>mns_1</th>\n",
       "      <th>mns_2</th>\n",
       "    </tr>\n",
       "  </thead>\n",
       "  <tbody>\n",
       "    <tr>\n",
       "      <th>0</th>\n",
       "      <td>-0.999988</td>\n",
       "      <td>0.005</td>\n",
       "      <td>-0.005</td>\n",
       "      <td>-0.999988</td>\n",
       "      <td>0.999988</td>\n",
       "      <td>-0.005</td>\n",
       "      <td>0.005</td>\n",
       "      <td>0.999988</td>\n",
       "      <td>-0.185733</td>\n",
       "      <td>-0.9826</td>\n",
       "      <td>...</td>\n",
       "      <td>0.001</td>\n",
       "      <td>0.0</td>\n",
       "      <td>0.0</td>\n",
       "      <td>0.0</td>\n",
       "      <td>353.535713</td>\n",
       "      <td>1060.67785</td>\n",
       "      <td>20009.4258</td>\n",
       "      <td>20009.3955</td>\n",
       "      <td>20002.9148</td>\n",
       "      <td>20009.6584</td>\n",
       "    </tr>\n",
       "  </tbody>\n",
       "</table>\n",
       "<p>1 rows × 33 columns</p>\n",
       "</div>"
      ],
      "text/plain": [
       "       ZL11   ZL12   ZL21      ZL22      ZR11   ZR12   ZR21      ZR22  \\\n",
       "0 -0.999988  0.005 -0.005 -0.999988  0.999988 -0.005  0.005  0.999988   \n",
       "\n",
       "       ZN11    ZN12  ...  YnR23  mv1  mv2  mv3       mXi_1       mXi_2  \\\n",
       "0 -0.185733 -0.9826  ...  0.001  0.0  0.0  0.0  353.535713  1060.67785   \n",
       "\n",
       "         metI        metp       mns_1       mns_2  \n",
       "0  20009.4258  20009.3955  20002.9148  20009.6584  \n",
       "\n",
       "[1 rows x 33 columns]"
      ]
     },
     "execution_count": 9,
     "metadata": {},
     "output_type": "execute_result"
    }
   ],
   "source": [
    "xd"
   ]
  },
  {
   "cell_type": "markdown",
   "metadata": {},
   "source": [
    "Neutrino invertion algorithm"
   ]
  },
  {
   "cell_type": "markdown",
   "metadata": {},
   "source": [
    "$\\Lambda_i$ factors"
   ]
  },
  {
   "cell_type": "code",
   "execution_count": 10,
   "metadata": {},
   "outputs": [
    {
     "name": "stdout",
     "output_type": "stream",
     "text": [
      "0.0002748497202661532 0.0008149835961698507\n"
     ]
    }
   ],
   "source": [
    "#Loop factor\n",
    "def fk(ms,ml):\n",
    "    fk = (1./(4.*np.pi)**2)*(ms**2*np.log(ms**2)-ml**2*np.log(ml**2))/(ms**2-ml**2)\n",
    "    return fk     \n",
    "    \n",
    "fk1 = mXi_1*(ZN11*fk(mns_1,mXi_1)*ZN21 + ZN12*fk(mns_2,mXi_1)*ZN22)\n",
    "fk2 = mXi_2*(ZN11*fk(mns_1,mXi_2)*ZN21 + ZN12*fk(mns_2,mXi_2)*ZN22)\n",
    "#print(fk1,fk2)\n",
    "\n",
    "fl1 = ZR11*ZL11*fk1 + ZR12*ZL12*fk2 #esto es l=1, suma k=1,2\n",
    "fl2 = ZR21*ZL21*fk1 + ZR22*ZL22*fk2\n",
    "\n",
    "L1 = fl1\n",
    "L2 = fl2\n",
    "print(L1,L2)"
   ]
  },
  {
   "cell_type": "markdown",
   "metadata": {},
   "source": [
    "Yukawas"
   ]
  },
  {
   "cell_type": "code",
   "execution_count": 11,
   "metadata": {},
   "outputs": [],
   "source": [
    "#ALGORITM: Particular case(see)\n",
    "a11 = 0.\n",
    "a12 = 0.  \n",
    "#Random\n",
    "a21 = np.exp(np.random.uniform(np.log(1.*10**(-4)),np.log(10**(0))))\n",
    "a22 = np.exp(np.random.uniform(np.log(1.*10**(-4)),np.log(10**(0))))\n",
    "a31 = np.exp(np.random.uniform(np.log(1.*10**(-4)),np.log(10**(0))))    \n",
    "a32 = np.exp(np.random.uniform(np.log(1.*10**(-4)),np.log(10**(0))))\n",
    "#bij->YnRij Solve in Mathematica\n",
    "b11 = -((a32*mnu2*U12 - a22*mnu3*U13)/(a22*a31*L1 - a21*a32*L1))   \n",
    "b21 = -((a32*mnu2*U22 - a22*mnu3*U23)/(a22*a31*L1 - a21*a32*L1))\n",
    "b31 = -((a32*mnu2*U32 - a22*mnu3*U33)/(a22*a31*L1 - a21*a32*L1))\n",
    "b12 = (a31*mnu2*U12 - a21*mnu3*U13)/(a22*a31*L2 - a21*a32*L2)\n",
    "b22 = (a31*mnu2*U22 - a21*mnu3*U23)/(a22*a31*L2 - a21*a32*L2)\n",
    "b32 = (a31*mnu2*U32 - a21*mnu3*U33)/(a22*a31*L2 - a21*a32*L2)\n",
    "#print(b11,b21,b31,b12,b22,b32)"
   ]
  },
  {
   "cell_type": "markdown",
   "metadata": {},
   "source": [
    "run dicctionary second time"
   ]
  },
  {
   "cell_type": "code",
   "execution_count": 12,
   "metadata": {},
   "outputs": [],
   "source": [
    "y=[]\n",
    "#www.sansung.com.co\n",
    "\n",
    "#opend the dictionary\n",
    "xdict = pyMDEO_LesHouches_generator.buildSLHAinFile()\n",
    "\n",
    "#Modify parameters\n",
    "xdict.blocks['MINPAR'].entries[1]='%.6E    # lambda1Input'%Lam1\n",
    "xdict.blocks['MINPAR'].entries[2]='%.6E    # lambda2Input'%Lam2\n",
    "\n",
    "##hdij->YnLij\n",
    "xdict.blocks['YNLIN'].entries[1,1]='%.6E    # YnL(1,1)'%a11\n",
    "xdict.blocks['YNLIN'].entries[1,2]='%.6E    # YnL(1,2)'%a21\n",
    "xdict.blocks['YNLIN'].entries[1,3]='%.6E    # YnL(1,3)'%a31\n",
    "xdict.blocks['YNLIN'].entries[2,1]='%.6E    # YnL(2,1)'%a12\n",
    "xdict.blocks['YNLIN'].entries[2,2]='%.6E    # YnL(2,2)'%a22\n",
    "xdict.blocks['YNLIN'].entries[2,3]='%.6E    # YnL(2,3)'%a32\n",
    "##heij->YnRij\n",
    "xdict.blocks['YNRIN'].entries[1,1]='%.6E    # YnR(1,1)'%b11\n",
    "xdict.blocks['YNRIN'].entries[1,2]='%.6E    # YnR(1,2)'%b21\n",
    "xdict.blocks['YNRIN'].entries[1,3]='%.6E    # YnR(1,3)'%b31\n",
    "xdict.blocks['YNRIN'].entries[2,1]='%.6E    # YnR(2,1)'%b12\n",
    "xdict.blocks['YNRIN'].entries[2,2]='%.6E    # YnR(2,2)'%b22\n",
    "xdict.blocks['YNRIN'].entries[2,3]='%.6E    # YnR(2,3)'%b32\n",
    "\n",
    "pyslha.writeSLHAFile('LesHouches.in.MDEO_low',xdict) \n",
    "\n",
    "#run SPheno\n",
    "spheno = subprocess.getoutput('~/Work/SPheno-4.0.5/bin/SPhenoMDEO LesHouches.in.MDEO_low')    \n",
    "so = subprocess.getoutput('cat SPheno.spc.MDEO')\n",
    "\n",
    "#YNL and YNR matrices\n",
    "YnL11 = eval(so.split('Block YNL')[1].split()[7])\n",
    "YnL12 = eval(so.split('Block YNL')[1].split()[12])\n",
    "YnL13 = eval(so.split('Block YNL')[1].split()[17])\n",
    "YnL21 = eval(so.split('Block YNL')[1].split()[22])\n",
    "YnL22 = eval(so.split('Block YNL')[1].split()[27])\n",
    "YnL23 = eval(so.split('Block YNL')[1].split()[32])\n",
    "YnR11 = eval(so.split('Block YNR')[1].split()[7])\n",
    "YnR12 = eval(so.split('Block YNR')[1].split()[12])\n",
    "YnR13 = eval(so.split('Block YNR')[1].split()[17])\n",
    "YnR21 = eval(so.split('Block YNR')[1].split()[22])\n",
    "YnR22 = eval(so.split('Block YNR')[1].split()[27])\n",
    "YnR23 = eval(so.split('Block YNR')[1].split()[32])\n",
    "\n",
    "#Masses\n",
    "mv1 = so.split('Fe_3')[1].split()[1]\n",
    "if mv1 == 'NaN':\n",
    "    mv1 = 0.0\n",
    "else:\n",
    "    mv1 = eval(so.split('Fe_3')[1].split()[1])\n",
    "\n",
    "y.append([ZL11,ZL12,ZL21,ZL22,ZR11,ZR12,ZR21,ZR22,ZN11,ZN12,ZN21,ZN22,YnL11,YnL12,YnL13,YnL21,YnL22,YnL23,\\\n",
    "          YnR11,YnR12,YnR13,YnR21,YnR22,YnR23,mv1,mv2,mv3,mXi_1,mXi_2,metI,metp,mns_1,mns_2])\n",
    "\n",
    "y=np.asarray(y)\n",
    "yd=pd.DataFrame(y,columns=['ZL11','ZL12','ZL21','ZL22','ZR11','ZR12','ZR21','ZR22','ZN11','ZN12','ZN21',\\\n",
    "                           'ZN22','YnL11','YnL12','YnL13','YnL21','YnL22','YnL23','YnR11','YnR12','YnR13',\\\n",
    "                           'YnR21','YnR22','YnR23','mv1','mv2','mv3','mXi_1','mXi_2','metI','metp',\\\n",
    "                           'mns_1','mns_2']) "
   ]
  },
  {
   "cell_type": "code",
   "execution_count": 13,
   "metadata": {},
   "outputs": [
    {
     "data": {
      "text/html": [
       "<div>\n",
       "<style scoped>\n",
       "    .dataframe tbody tr th:only-of-type {\n",
       "        vertical-align: middle;\n",
       "    }\n",
       "\n",
       "    .dataframe tbody tr th {\n",
       "        vertical-align: top;\n",
       "    }\n",
       "\n",
       "    .dataframe thead th {\n",
       "        text-align: right;\n",
       "    }\n",
       "</style>\n",
       "<table border=\"1\" class=\"dataframe\">\n",
       "  <thead>\n",
       "    <tr style=\"text-align: right;\">\n",
       "      <th></th>\n",
       "      <th>mv1</th>\n",
       "      <th>mv2</th>\n",
       "      <th>mv3</th>\n",
       "      <th>mXi_1</th>\n",
       "      <th>mXi_2</th>\n",
       "    </tr>\n",
       "  </thead>\n",
       "  <tbody>\n",
       "    <tr>\n",
       "      <th>0</th>\n",
       "      <td>0.0</td>\n",
       "      <td>0.0</td>\n",
       "      <td>0.0</td>\n",
       "      <td>353.535713</td>\n",
       "      <td>1060.67785</td>\n",
       "    </tr>\n",
       "  </tbody>\n",
       "</table>\n",
       "</div>"
      ],
      "text/plain": [
       "   mv1  mv2  mv3       mXi_1       mXi_2\n",
       "0  0.0  0.0  0.0  353.535713  1060.67785"
      ]
     },
     "execution_count": 13,
     "metadata": {},
     "output_type": "execute_result"
    }
   ],
   "source": [
    "yd[['mv1','mv2','mv3','mXi_1','mXi_2']]"
   ]
  },
  {
   "cell_type": "markdown",
   "metadata": {},
   "source": [
    "Compute Anality neutrino masses"
   ]
  },
  {
   "cell_type": "code",
   "execution_count": 14,
   "metadata": {},
   "outputs": [],
   "source": [
    "import NEUTRINO2018\n",
    "import neutrino_analytic1\n",
    "\n",
    "mnus=neutrino_analytic1.MATRIXDIAG(ZL11,ZL12,ZL21,ZL22,ZR11,ZR12,ZR21,ZR22,ZN11,ZN12,ZN21,ZN22,\\\n",
    "                              YnL11,YnL12,YnL13,YnL21,YnL22,YnL23,YnR11,YnR12,YnR13,YnR21,\\\n",
    "                              YnR22,YnR23,mXi_1,mXi_2,mns_1,mns_2)\n",
    "mn1 = mnus[0]\n",
    "mn2 = mnus[1]\n",
    "mn3 = mnus[2]"
   ]
  },
  {
   "cell_type": "code",
   "execution_count": 15,
   "metadata": {},
   "outputs": [
    {
     "name": "stdout",
     "output_type": "stream",
     "text": [
      "=============================================\n",
      " Experimental values (PMNS) \n",
      "\n",
      "1e-25 8.76181328846275e-12 5.019749575686147e-11\n",
      "=============================================\n",
      " Rutine: mass diagonalization \n",
      "\n",
      "0.0 8.761813731552783e-12 5.019748428003847e-11\n",
      "=============================================\n"
     ]
    }
   ],
   "source": [
    "print(\"=============================================\")\n",
    "print(\" Experimental values (PMNS) \\n\")\n",
    "print(mnu1,mnu2,mnu3)\n",
    "print(\"=============================================\")\n",
    "print(\" Rutine: mass diagonalization \\n\")\n",
    "print(mn1,mn2,mn3)\n",
    "print(\"=============================================\")"
   ]
  },
  {
   "cell_type": "code",
   "execution_count": 16,
   "metadata": {},
   "outputs": [
    {
     "name": "stdout",
     "output_type": "stream",
     "text": [
      "0.0 1.2391075810148762e-11 7.098996306584065e-11\n"
     ]
    }
   ],
   "source": [
    "print(mn1,mn2*np.sqrt(2), mn3*np.sqrt(2))"
   ]
  },
  {
   "cell_type": "markdown",
   "metadata": {},
   "source": [
    "## Neutrino masses according SPheno to One-loop"
   ]
  },
  {
   "cell_type": "code",
   "execution_count": 17,
   "metadata": {},
   "outputs": [],
   "source": [
    "z=[]\n",
    "#www.sansung.com.co\n",
    "\n",
    "#opend the dictionary\n",
    "xdict = pyMDEO_LesHouches_generator.buildSLHAinFile()\n",
    "\n",
    "#Modify parameters\n",
    "xdict.blocks['SPHENOINPUT'].entries[55]='%i           # Calculate loop corrected masses'%1\n",
    "xdict.blocks['MINPAR'].entries[1]='%.6E    # lambda1Input'%Lam1\n",
    "xdict.blocks['MINPAR'].entries[2]='%.6E    # lambda2Input'%Lam2\n",
    "\n",
    "##hdij->YnLij\n",
    "xdict.blocks['YNLIN'].entries[1,1]='%.6E    # YnL(1,1)'%a11\n",
    "xdict.blocks['YNLIN'].entries[1,2]='%.6E    # YnL(1,2)'%a21\n",
    "xdict.blocks['YNLIN'].entries[1,3]='%.6E    # YnL(1,3)'%a31\n",
    "xdict.blocks['YNLIN'].entries[2,1]='%.6E    # YnL(2,1)'%a12\n",
    "xdict.blocks['YNLIN'].entries[2,2]='%.6E    # YnL(2,2)'%a22\n",
    "xdict.blocks['YNLIN'].entries[2,3]='%.6E    # YnL(2,3)'%a32\n",
    "##heij->YnRij\n",
    "xdict.blocks['YNRIN'].entries[1,1]='%.6E    # YnR(1,1)'%b11\n",
    "xdict.blocks['YNRIN'].entries[1,2]='%.6E    # YnR(1,2)'%b21\n",
    "xdict.blocks['YNRIN'].entries[1,3]='%.6E    # YnR(1,3)'%b31\n",
    "xdict.blocks['YNRIN'].entries[2,1]='%.6E    # YnR(2,1)'%b12\n",
    "xdict.blocks['YNRIN'].entries[2,2]='%.6E    # YnR(2,2)'%b22\n",
    "xdict.blocks['YNRIN'].entries[2,3]='%.6E    # YnR(2,3)'%b32\n",
    "\n",
    "pyslha.writeSLHAFile('LesHouches.in.MDEO_low',xdict) \n",
    "\n",
    "#run SPheno\n",
    "spheno = subprocess.getoutput('~/Work/SPheno-4.0.5/bin/SPhenoMDEO LesHouches.in.MDEO_low')    \n",
    "so = subprocess.getoutput('cat SPheno.spc.MDEO')\n",
    "\n",
    "#YNL and YNR matrices\n",
    "YnL11 = eval(so.split('Block YNL')[1].split()[7])\n",
    "YnL12 = eval(so.split('Block YNL')[1].split()[12])\n",
    "YnL13 = eval(so.split('Block YNL')[1].split()[17])\n",
    "YnL21 = eval(so.split('Block YNL')[1].split()[22])\n",
    "YnL22 = eval(so.split('Block YNL')[1].split()[27])\n",
    "YnL23 = eval(so.split('Block YNL')[1].split()[32])\n",
    "YnR11 = eval(so.split('Block YNR')[1].split()[7])\n",
    "YnR12 = eval(so.split('Block YNR')[1].split()[12])\n",
    "YnR13 = eval(so.split('Block YNR')[1].split()[17])\n",
    "YnR21 = eval(so.split('Block YNR')[1].split()[22])\n",
    "YnR22 = eval(so.split('Block YNR')[1].split()[27])\n",
    "YnR23 = eval(so.split('Block YNR')[1].split()[32])\n",
    "'''#ZL ad ZR matrices\n",
    "ZL11 = eval(so.split('Block LEFTMIX')[1].split()[6])\n",
    "ZL12 = eval(so.split('Block LEFTMIX')[1].split()[11])\n",
    "ZL21 = eval(so.split('Block LEFTMIX')[1].split()[16])\n",
    "ZL22 = eval(so.split('Block LEFTMIX')[1].split()[21])\n",
    "ZR11 = eval(so.split('Block RIGHTMIX')[1].split()[6])\n",
    "ZR12 = eval(so.split('Block RIGHTMIX')[1].split()[11])\n",
    "ZR21 = eval(so.split('Block RIGHTMIX')[1].split()[16])\n",
    "ZR22 = eval(so.split('Block RIGHTMIX')[1].split()[21])\n",
    "#ZN etR,ss ->ns mixing\n",
    "ZN11 = eval(so.split('Block NEUTRALMIX')[1].split()[6])\n",
    "ZN12 = eval(so.split('Block NEUTRALMIX')[1].split()[11])\n",
    "ZN21 = eval(so.split('Block NEUTRALMIX')[1].split()[16])\n",
    "ZN22 = eval(so.split('Block NEUTRALMIX')[1].split()[21])'''\n",
    "\n",
    "#Masses\n",
    "mv1 = so.split('Fe_3')[1].split()[1]\n",
    "if mv1 == 'NaN':\n",
    "    mv1 = 0.0\n",
    "else:\n",
    "    mv1 = eval(so.split('Fe_3')[1].split()[1])\n",
    "    \n",
    "mv2 = eval(so.split('Fe_3')[1].split()[5])\n",
    "mv3 = eval(so.split('Fe_3')[1].split()[9])\n",
    "'''\n",
    "mXi_1 = eval(so.split('Fe_3')[1].split()[17])\n",
    "mXi_2 = eval(so.split('Fe_3')[1].split()[21])\n",
    "metI = eval(so.split('Fe_3')[1].split()[25])\n",
    "metp = eval(so.split('Fe_3')[1].split()[29])\n",
    "mns_1 = eval(so.split('Fe_3')[1].split()[33])\n",
    "mns_2 = eval(so.split('Fe_3')[1].split()[37])'''\n",
    "\n",
    "z.append([ZL11,ZL12,ZL21,ZL22,ZR11,ZR12,ZR21,ZR22,ZN11,ZN12,ZN21,ZN22,YnL11,YnL12,YnL13,YnL21,YnL22,YnL23,\\\n",
    "          YnR11,YnR12,YnR13,YnR21,YnR22,YnR23,mv1,mv2,mv3,mXi_1,mXi_2,metI,metp,mns_1,mns_2])\n",
    "\n",
    "z=np.asarray(z)\n",
    "zd=pd.DataFrame(z,columns=['ZL11','ZL12','ZL21','ZL22','ZR11','ZR12','ZR21','ZR22','ZN11','ZN12','ZN21',\\\n",
    "                           'ZN22','YnL11','YnL12','YnL13','YnL21','YnL22','YnL23','YnR11','YnR12','YnR13',\\\n",
    "                           'YnR21','YnR22','YnR23','mv1','mv2','mv3','mXi_1','mXi_2','metI','metp',\\\n",
    "                           'mns_1','mns_2']) "
   ]
  },
  {
   "cell_type": "code",
   "execution_count": 18,
   "metadata": {},
   "outputs": [
    {
     "data": {
      "text/html": [
       "<div>\n",
       "<style scoped>\n",
       "    .dataframe tbody tr th:only-of-type {\n",
       "        vertical-align: middle;\n",
       "    }\n",
       "\n",
       "    .dataframe tbody tr th {\n",
       "        vertical-align: top;\n",
       "    }\n",
       "\n",
       "    .dataframe thead th {\n",
       "        text-align: right;\n",
       "    }\n",
       "</style>\n",
       "<table border=\"1\" class=\"dataframe\">\n",
       "  <thead>\n",
       "    <tr style=\"text-align: right;\">\n",
       "      <th></th>\n",
       "      <th>ZL11</th>\n",
       "      <th>ZL12</th>\n",
       "      <th>ZL21</th>\n",
       "      <th>ZL22</th>\n",
       "      <th>ZR11</th>\n",
       "      <th>ZR12</th>\n",
       "      <th>ZR21</th>\n",
       "      <th>ZR22</th>\n",
       "      <th>ZN11</th>\n",
       "      <th>ZN12</th>\n",
       "      <th>...</th>\n",
       "      <th>YnR23</th>\n",
       "      <th>mv1</th>\n",
       "      <th>mv2</th>\n",
       "      <th>mv3</th>\n",
       "      <th>mXi_1</th>\n",
       "      <th>mXi_2</th>\n",
       "      <th>metI</th>\n",
       "      <th>metp</th>\n",
       "      <th>mns_1</th>\n",
       "      <th>mns_2</th>\n",
       "    </tr>\n",
       "  </thead>\n",
       "  <tbody>\n",
       "    <tr>\n",
       "      <th>0</th>\n",
       "      <td>-0.999988</td>\n",
       "      <td>0.005</td>\n",
       "      <td>-0.005</td>\n",
       "      <td>-0.999988</td>\n",
       "      <td>0.999988</td>\n",
       "      <td>-0.005</td>\n",
       "      <td>0.005</td>\n",
       "      <td>0.999988</td>\n",
       "      <td>-0.185733</td>\n",
       "      <td>-0.9826</td>\n",
       "      <td>...</td>\n",
       "      <td>1.011981e-07</td>\n",
       "      <td>0.0</td>\n",
       "      <td>6.249180e-12</td>\n",
       "      <td>3.584694e-11</td>\n",
       "      <td>353.535713</td>\n",
       "      <td>1060.67785</td>\n",
       "      <td>20009.4258</td>\n",
       "      <td>20009.3955</td>\n",
       "      <td>20002.9148</td>\n",
       "      <td>20009.6584</td>\n",
       "    </tr>\n",
       "  </tbody>\n",
       "</table>\n",
       "<p>1 rows × 33 columns</p>\n",
       "</div>"
      ],
      "text/plain": [
       "       ZL11   ZL12   ZL21      ZL22      ZR11   ZR12   ZR21      ZR22  \\\n",
       "0 -0.999988  0.005 -0.005 -0.999988  0.999988 -0.005  0.005  0.999988   \n",
       "\n",
       "       ZN11    ZN12  ...         YnR23  mv1           mv2           mv3  \\\n",
       "0 -0.185733 -0.9826  ...  1.011981e-07  0.0  6.249180e-12  3.584694e-11   \n",
       "\n",
       "        mXi_1       mXi_2        metI        metp       mns_1       mns_2  \n",
       "0  353.535713  1060.67785  20009.4258  20009.3955  20002.9148  20009.6584  \n",
       "\n",
       "[1 rows x 33 columns]"
      ]
     },
     "execution_count": 18,
     "metadata": {},
     "output_type": "execute_result"
    }
   ],
   "source": [
    "zd"
   ]
  },
  {
   "cell_type": "code",
   "execution_count": 19,
   "metadata": {},
   "outputs": [
    {
     "name": "stdout",
     "output_type": "stream",
     "text": [
      "=============================================\n",
      "Experimental (PMNS) \n",
      "\n",
      "8.76181328846275e-12 5.019749575686147e-11\n",
      "=============================================\n",
      "Rutine: Inversion using the Matriz diagonalization algorith \n",
      "\n",
      "8.761813731552783e-12 5.019748428003847e-11\n",
      "=============================================\n",
      "SPheno: Warning!\n",
      "\n",
      "6.24917981e-12 3.58469408e-11\n",
      "8.837674841010121e-12 5.0695229848945456e-11 WARNING\n",
      "=============================================\n"
     ]
    }
   ],
   "source": [
    "print(\"=============================================\")\n",
    "print(\"Experimental (PMNS) \\n\")\n",
    "print(mnu2,mnu3)\n",
    "print(\"=============================================\")\n",
    "print(\"Rutine: Inversion using the Matriz diagonalization algorith \\n\")\n",
    "print(mn2,mn3)\n",
    "print(\"=============================================\")\n",
    "print(\"SPheno: Warning!\\n\")\n",
    "print(mv2,mv3)  ####WARNING!\n",
    "print(mv2*np.sqrt(2.),mv3*np.sqrt(2.),'WARNING') \n",
    "print(\"=============================================\")"
   ]
  },
  {
   "cell_type": "code",
   "execution_count": null,
   "metadata": {},
   "outputs": [],
   "source": []
  },
  {
   "cell_type": "code",
   "execution_count": null,
   "metadata": {},
   "outputs": [],
   "source": []
  }
 ],
 "metadata": {
  "kernelspec": {
   "display_name": "Python 3 (ipykernel)",
   "language": "python",
   "name": "python3"
  },
  "language_info": {
   "codemirror_mode": {
    "name": "ipython",
    "version": 3
   },
   "file_extension": ".py",
   "mimetype": "text/x-python",
   "name": "python",
   "nbconvert_exporter": "python",
   "pygments_lexer": "ipython3",
   "version": "3.9.2"
  }
 },
 "nbformat": 4,
 "nbformat_minor": 1
}
