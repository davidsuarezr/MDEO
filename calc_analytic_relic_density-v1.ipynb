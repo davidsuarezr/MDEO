{
 "cells": [
  {
   "cell_type": "code",
   "execution_count": 1,
   "metadata": {},
   "outputs": [],
   "source": [
    "import numpy as np\n",
    "import pandas as pd\n",
    "from scipy.special import zeta\n",
    "from scipy.optimize import bisect\n",
    "from scipy import integrate as intg\n",
    "from scipy import interpolate\n",
    "from scipy.interpolate import InterpolatedUnivariateSpline\n",
    "USETEX=False\n",
    "if USETEX:\n",
    "    matplotlib.rcParams['text.usetex'] = True\n",
    "    #matplotlib.rcParams['text.latex.unicode'] = True"
   ]
  },
  {
   "cell_type": "code",
   "execution_count": 2,
   "metadata": {},
   "outputs": [],
   "source": [
    "Tdec_νL = 0.0023\n",
    "T, g = np.loadtxt('data/GT.dat',usecols=(0,1),unpack=True); T*=1e-3\n",
    "geff = InterpolatedUnivariateSpline(T, g)\n",
    "g_eff = lambda T: geff(T)"
   ]
  },
  {
   "cell_type": "code",
   "execution_count": 3,
   "metadata": {},
   "outputs": [],
   "source": [
    "def a_coefficient(g1p, r, M1):\n",
    "    return (g1p**4.0*(1-r**2.0)**(1.5)*(3.2039e4*r**2.0+7.32e2))/(3.2e1*np.pi*M1**2.0*r**2.0*(r**2.0-2.0)**2.0)"
   ]
  },
  {
   "cell_type": "code",
   "execution_count": 4,
   "metadata": {},
   "outputs": [],
   "source": [
    "def b_coefficient(g1p, r, M1):\n",
    "    return -g1p**4.0*(1-r**2.0)**(0.5)*(3.67e2*r**2.0-4.0)/(9.6e1*np.pi*M1**2.0*r**4.0*(r**2.0-2.0)**4.0)"
   ]
  },
  {
   "cell_type": "code",
   "execution_count": 5,
   "metadata": {},
   "outputs": [
    {
     "data": {
      "text/plain": [
       "7.568811371640248e-09"
      ]
     },
     "execution_count": 5,
     "metadata": {},
     "output_type": "execute_result"
    }
   ],
   "source": [
    "g1p=1.00644100e-2\n",
    "M1=9.99999964\n",
    "r=4.99999889/9.99999964\n",
    "a_coefficient(g1p,r,M1)"
   ]
  },
  {
   "cell_type": "code",
   "execution_count": 6,
   "metadata": {},
   "outputs": [
    {
     "data": {
      "text/plain": [
       "-4.410398597866143e-11"
      ]
     },
     "execution_count": 6,
     "metadata": {},
     "output_type": "execute_result"
    }
   ],
   "source": [
    "g1p=1.00644100e-2\n",
    "M1=9.99999964\n",
    "r=4.99999889/9.99999964\n",
    "b_coefficient(g1p,r,M1)"
   ]
  },
  {
   "cell_type": "code",
   "execution_count": 7,
   "metadata": {},
   "outputs": [],
   "source": [
    "def relic_abundance(a, b, xf, M1):\n",
    "    MPl=1.22e19\n",
    "    sqrtg=np.sqrt(g_eff(M1/xf))\n",
    "    return 2.04e9*xf/(MPl*sqrtg*(a+3.0*b/xf))"
   ]
  },
  {
   "cell_type": "code",
   "execution_count": 8,
   "metadata": {},
   "outputs": [
    {
     "data": {
      "text/plain": [
       "0.11959736986385512"
      ]
     },
     "execution_count": 8,
     "metadata": {},
     "output_type": "execute_result"
    }
   ],
   "source": [
    "a=a_coefficient(g1p,r,M1)\n",
    "b=b_coefficient(g1p,r,M1)\n",
    "xf=3.5e1\n",
    "M1=9.99999964\n",
    "relic_abundance(a, b, xf, M1)"
   ]
  }
 ],
 "metadata": {
  "kernelspec": {
   "display_name": "Python 3 (ipykernel)",
   "language": "python",
   "name": "python3"
  },
  "language_info": {
   "codemirror_mode": {
    "name": "ipython",
    "version": 3
   },
   "file_extension": ".py",
   "mimetype": "text/x-python",
   "name": "python",
   "nbconvert_exporter": "python",
   "pygments_lexer": "ipython3",
   "version": "3.11.2"
  }
 },
 "nbformat": 4,
 "nbformat_minor": 2
}
